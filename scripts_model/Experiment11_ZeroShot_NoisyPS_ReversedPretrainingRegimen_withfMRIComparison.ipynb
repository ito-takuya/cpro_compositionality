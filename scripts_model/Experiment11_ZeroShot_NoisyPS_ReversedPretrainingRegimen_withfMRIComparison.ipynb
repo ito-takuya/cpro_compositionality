{
 "cells": [
  {
   "cell_type": "markdown",
   "metadata": {},
   "source": [
    "# Experiment 11 - 2 zeroshot learning evaluation with noisy PS\n",
    "## Re-order pretraining regimen -- first simple task, then primitives pretraining (reviewer request)"
   ]
  },
  {
   "cell_type": "code",
   "execution_count": 56,
   "metadata": {},
   "outputs": [],
   "source": [
    "import numpy as np\n",
    "import torch\n",
    "import scipy.stats as stats\n",
    "import matplotlib.pyplot as plt\n",
    "import seaborn as sns\n",
    "%matplotlib inline\n",
    "from model import analysis\n",
    "from importlib import reload\n",
    "import tools\n",
    "import pandas as pd\n",
    "analysis = reload(analysis)\n",
    "plt.rcParams['font.sans-serif'] = \"Arial\"\n",
    "import h5py\n",
    "import nibabel as nib"
   ]
  },
  {
   "cell_type": "code",
   "execution_count": 6,
   "metadata": {},
   "outputs": [],
   "source": [
    "datadir = '../../data/model_results/experiment10/'\n",
    "datadir11 = '../../data/model_results/experiment11/'\n",
    "\n",
    "figuredir = '../figures/manuscriptFigures_v2/SFig_ReversedPretraining/'\n",
    "figuredir = '../manuscripts/neurips2022/figures/SFig_ReversedPretraining/'\n",
    "\n",
    "\n",
    "palette = sns.color_palette(\"Set2\")\n"
   ]
  },
  {
   "cell_type": "markdown",
   "metadata": {},
   "source": [
    "# Load data"
   ]
  },
  {
   "cell_type": "code",
   "execution_count": 3,
   "metadata": {},
   "outputs": [],
   "source": [
    "simstart = 0 \n",
    "simend = 40\n",
    "\n",
    "# df_adam0 = pd.read_csv(datadir + 'expt10c_adam_zeroshot_2layers_2rulepretraining_simData' + str(simstart) + '.csv')\n",
    "# df_adam0.insert(len(df_adam0.columns),\"Simulation\",list(np.repeat(simstart,len(df_adam0))),True)\n",
    "# df_adam0.insert(len(df_adam0.columns),\"Layers\",list(np.repeat(2,len(df_adam0))),True)\n",
    "# df_adam0.insert(len(df_adam0.columns),\"Training\",list(np.repeat('Simple task pretraining',len(df_adam0))),True)\n",
    "# #\n",
    "# df_adam0_1rule = pd.read_csv(datadir + 'expt10c_adam_zeroshot_2layers_pretraining_simData' + str(simstart) + '.csv')\n",
    "# df_adam0_1rule.insert(len(df_adam0_1rule.columns),\"Simulation\",list(np.repeat(simstart,len(df_adam0_1rule))),True)\n",
    "# df_adam0_1rule.insert(len(df_adam0_1rule.columns),\"Layers\",list(np.repeat(2,len(df_adam0_1rule))),True)\n",
    "# df_adam0_1rule.insert(len(df_adam0_1rule.columns),\"Training\",list(np.repeat('Concept pretraining',len(df_adam0_1rule))),True)\n",
    "# #\n",
    "# df_adam0_nopretraining = pd.read_csv(datadir + 'expt10c_adam_zeroshot_2layers_simData' + str(simstart) + '.csv')\n",
    "# df_adam0_nopretraining.insert(len(df_adam0_nopretraining.columns),\"Simulation\",list(np.repeat(simstart,len(df_adam0_nopretraining))),True)\n",
    "# df_adam0_nopretraining.insert(len(df_adam0_nopretraining.columns),\"Layers\",list(np.repeat(2,len(df_adam0_nopretraining))),True)\n",
    "# df_adam0_nopretraining.insert(len(df_adam0_nopretraining.columns),\"Training\",list(np.repeat('Vanilla',len(df_adam0_nopretraining))),True)\n",
    "#\n",
    "df_adam0_combined = pd.read_csv(datadir + 'expt10c_adam_zeroshot_2layers_pretraining_2rulepretraining_simData' + str(simstart) + '.csv')\n",
    "df_adam0_combined.insert(len(df_adam0_combined.columns),\"Simulation\",list(np.repeat(simstart,len(df_adam0_combined))),True)\n",
    "df_adam0_combined.insert(len(df_adam0_combined.columns),\"Layers\",list(np.repeat(2,len(df_adam0_combined))),True)\n",
    "df_adam0_combined.insert(len(df_adam0_combined.columns),\"Training\",list(np.repeat('Combined',len(df_adam0_combined))),True)\n",
    "\n",
    "#\n",
    "df_adam0_combined_reversed = pd.read_csv(datadir11 + 'expt10_adam_zeroshot_2layers_pretraining_2rulepretraining_simData' + str(simstart) + '.csv')\n",
    "df_adam0_combined_reversed.insert(len(df_adam0_combined_reversed.columns),\"Simulation\",list(np.repeat(simstart,len(df_adam0_combined))),True)\n",
    "df_adam0_combined_reversed.insert(len(df_adam0_combined_reversed.columns),\"Layers\",list(np.repeat(2,len(df_adam0_combined))),True)\n",
    "df_adam0_combined_reversed.insert(len(df_adam0_combined_reversed.columns),\"Training\",list(np.repeat('CombinedReversed',len(df_adam0_combined))),True)\n",
    "\n",
    "for i in range(simstart+1,simend):\n",
    "    ####\n",
    "    # 2 layers\n",
    "    #\n",
    "    tmp = pd.read_csv(datadir + 'expt10c_adam_zeroshot_2layers_pretraining_2rulepretraining_simData' + str(i) + '.csv')\n",
    "    tmp.insert(len(tmp.columns),\"Simulation\",list(np.repeat(i,len(tmp))),True)\n",
    "    tmp.insert(len(tmp.columns),\"Layers\",list(np.repeat(2,len(tmp))),True)\n",
    "    tmp.insert(len(tmp.columns),\"Training\",list(np.repeat('Combined',len(tmp))),True)\n",
    "    tmp['LogicAvg'] = tmp[['LogicPS1', 'LogicPS2']].mean(axis=1)\n",
    "    tmp['SensoryAvg'] = tmp[['SensoryPS1', 'SensoryPS2']].mean(axis=1)\n",
    "    tmp['MotorAvg'] = tmp[['MotorPS1', 'MotorPS2']].mean(axis=1)\n",
    "    tmp['PSavg'] = tmp[['LogicAvg', 'SensoryAvg','MotorAvg']].mean(axis=1)\n",
    "    df_adam0_combined = df_adam0_combined.append(tmp)\n",
    "    #\n",
    "    tmp = pd.read_csv(datadir11 + 'expt10_adam_zeroshot_2layers_pretraining_2rulepretraining_simData' + str(i) + '.csv')\n",
    "    tmp.insert(len(tmp.columns),\"Simulation\",list(np.repeat(i,len(tmp))),True)\n",
    "    tmp.insert(len(tmp.columns),\"Layers\",list(np.repeat(2,len(tmp))),True)\n",
    "    tmp.insert(len(tmp.columns),\"Training\",list(np.repeat('CombinedReversed',len(tmp))),True)\n",
    "    tmp['LogicAvg'] = tmp[['LogicPS1', 'LogicPS2']].mean(axis=1)\n",
    "    tmp['SensoryAvg'] = tmp[['SensoryPS1', 'SensoryPS2']].mean(axis=1)\n",
    "    tmp['MotorAvg'] = tmp[['MotorPS1', 'MotorPS2']].mean(axis=1)\n",
    "    tmp['PSavg'] = tmp[['LogicAvg', 'SensoryAvg','MotorAvg']].mean(axis=1)\n",
    "    df_adam0_combined_reversed = df_adam0_combined_reversed.append(tmp)\n",
    "    \n",
    "    \n",
    "# df_adam0.Accuracy = df_adam0.Accuracy.values*100.0\n",
    "# df_adam0_1rule.Accuracy = df_adam0_1rule.Accuracy.values*100.0\n",
    "# df_adam0_nopretraining.Accuracy = df_adam0_nopretraining.Accuracy.values*100.0\n",
    "df_adam0_combined.Accuracy = df_adam0_combined.Accuracy.values*100.0\n",
    "df_adam0_combined_reversed.Accuracy = df_adam0_combined_reversed.Accuracy.values*100.0\n",
    "df_all = pd.concat([df_adam0_combined_reversed,df_adam0_combined])\n",
    "# df_all['Training'] = df_all['Training'].replace({'Concept pretraining': 'Primitives pretraining'})"
   ]
  },
  {
   "cell_type": "code",
   "execution_count": 28,
   "metadata": {},
   "outputs": [
    {
     "name": "stdout",
     "output_type": "stream",
     "text": [
      "Combined vs. Reversed Combined PS avg\n",
      "\t t = -1.3077384877913214 | p = 0.19490408657285918\n"
     ]
    },
    {
     "data": {
      "image/png": "[encoded data removed]",
      "text/plain": [
       "<Figure size 180x144 with 1 Axes>"
      ]
     },
     "metadata": {
      "needs_background": "light"
     },
     "output_type": "display_data"
    }
   ],
   "source": [
    "plt.figure(figsize=(2.5,2.))\n",
    "ax = sns.boxplot(x=\"NumPracticedTasks\",y=\"PSavg\",hue='Training',palette='plasma',data=df_all,sym='')\n",
    "sns.stripplot(x=\"NumPracticedTasks\",y=\"PSavg\",hue='Training',palette='plasma',dodge=True,data=df_all,zorder=0)\n",
    "plt.title('Overall PS hidden layers\\nafter pretraining', fontsize=10)\n",
    "plt.xlabel('Pretraining', fontsize=10)\n",
    "plt.ylabel('Parallelism', fontsize=10)\n",
    "plt.xticks([],fontsize=8);\n",
    "plt.yticks(fontsize=8);\n",
    "# plt.ylim([0.2,.5])\n",
    "handles, labels = ax.get_legend_handles_labels()\n",
    "# When creating the legend, only use the first two elements\n",
    "# to effectively remove the last two.\n",
    "l = plt.legend(handles[0:2], labels[0:2],fontsize=6)\n",
    "# When creating the legend, only use the first two elements\n",
    "# to effectively remove the last two.\n",
    "# l = plt.legend(handles[0:4], labels[0:4],fontsize=8)\n",
    "plt.ylim([-.07,.11])\n",
    "sns.despine()\n",
    "plt.tight_layout()\n",
    "# plt.savefig(figuredir + 'Expt11_ModelPS_Average_ZeroShot.png', dpi=300)\n",
    "      \n",
    "t, p = stats.ttest_ind(df_all.PSavg[df_all.Training=='Combined'].values[1:],df_all.PSavg[df_all.Training=='CombinedReversed'].values[1:])\n",
    "print('Combined vs. Reversed Combined PS avg')\n",
    "print('\\t t =', t, '| p =', p)\n"
   ]
  },
  {
   "cell_type": "markdown",
   "metadata": {},
   "source": [
    "## Plot Generalization Performance and Sample Efficiency of combined training vs reverse-combined training"
   ]
  },
  {
   "cell_type": "markdown",
   "metadata": {},
   "source": [
    "#### First load in vanilla model with CPRO task training (from expt 8)"
   ]
  },
  {
   "cell_type": "code",
   "execution_count": 30,
   "metadata": {},
   "outputs": [],
   "source": [
    "df_vanilla_cprotrained = pd.DataFrame()\n",
    "for i in range(simstart,simend):\n",
    "    tmp = pd.read_csv(datadir + 'expt10c_adam_90accCutOff_2layers_practice_simData' + str(i) + '.csv')\n",
    "    tmp.insert(len(tmp.columns),\"Simulation\",list(np.repeat(i,len(tmp))),True)\n",
    "    tmp.insert(len(tmp.columns),\"Training\",list(np.repeat('Vanilla',len(tmp))),True)\n",
    "    df_vanilla_cprotrained = df_vanilla_cprotrained.append(tmp)"
   ]
  },
  {
   "cell_type": "code",
   "execution_count": 31,
   "metadata": {},
   "outputs": [],
   "source": [
    "vanilla_palette = [sns.color_palette(\"tab20b\")[1],sns.color_palette(\"tab20b\")[3]]\n",
    "pretrained_palette = [sns.color_palette(\"tab20b\")[5],sns.color_palette(\"tab20b\")[6]]\n",
    "depth_palette = [sns.color_palette(\"tab20b\")[8],sns.color_palette(\"tab20b\")[10]]\n",
    "\n",
    "\n",
    "df_ps_combined = {}\n",
    "df_ps_combined['Depth'] = []\n",
    "df_ps_combined['DepthCount'] = []\n",
    "df_ps_combined['Parallelism'] = []\n",
    "df_ps_combined['Domain'] = []\n",
    "df_ps_combined['Simulation'] = []\n",
    "df_ps_combined['Accuracy'] = []\n",
    "df_ps_combined['Samples'] = []\n",
    "\n",
    "df_ps_combined_revered = {}\n",
    "df_ps_combined_revered['Depth'] = []\n",
    "df_ps_combined_revered['DepthCount'] = []\n",
    "df_ps_combined_revered['Parallelism'] = []\n",
    "df_ps_combined_revered['Domain'] = []\n",
    "df_ps_combined_revered['Simulation'] = []\n",
    "df_ps_combined_revered['Accuracy'] = []\n",
    "df_ps_combined_revered['Samples'] = []\n",
    "\n",
    "\n",
    "for i in range(simstart,simend):\n",
    "    # Combined pretraining\n",
    "    tmpdf = df_adam0_combined.loc[df_adam0_combined.Simulation==i]\n",
    "    tmpdf = tmpdf.loc[tmpdf.NumPracticedTasks==0]\n",
    "    for depth in range(1,3):\n",
    "        for rule in ['Sensory','Logic','Motor']:\n",
    "            df_ps_combined['Simulation'].append(i)\n",
    "            df_ps_combined['Depth'].append('Depth ' + str(depth))\n",
    "            df_ps_combined['DepthCount'].append(depth)\n",
    "            df_ps_combined['Domain'].append(rule)\n",
    "            df_ps_combined['Parallelism'].append(tmpdf[rule + 'PS' + str(depth)].values[0])\n",
    "            df_ps_combined['Samples'].append(tmpdf.NumPretrainingTrials.values[0]+tmpdf.NumActualTrials.values[0])\n",
    "            df_ps_combined['Accuracy'].append(tmpdf.Accuracy.values[0])\n",
    "            \n",
    "    # CombinedReversed pretraining\n",
    "    tmpdf = df_adam0_combined_reversed.loc[df_adam0_combined_reversed.Simulation==i]\n",
    "    tmpdf = tmpdf.loc[tmpdf.NumPracticedTasks==0]\n",
    "    for depth in range(1,3):\n",
    "        for rule in ['Sensory','Logic','Motor']:\n",
    "            df_ps_combined_revered['Simulation'].append(i)\n",
    "            df_ps_combined_revered['Depth'].append('Depth ' + str(depth))\n",
    "            df_ps_combined_revered['DepthCount'].append(depth)\n",
    "            df_ps_combined_revered['Domain'].append(rule)\n",
    "            df_ps_combined_revered['Parallelism'].append(tmpdf[rule + 'PS' + str(depth)].values[0])\n",
    "            df_ps_combined_revered['Samples'].append(tmpdf.NumPretrainingTrials.values[0]+tmpdf.NumActualTrials.values[0])\n",
    "            df_ps_combined_revered['Accuracy'].append(tmpdf.Accuracy.values[0])\n",
    "\n",
    "df_ps_combined = pd.DataFrame(df_ps_combined)\n",
    "# df_ps_vanilla = pd.DataFrame(df_ps_vanilla)\n",
    "df_ps_combined_revered = pd.DataFrame(df_ps_combined_revered)\n"
   ]
  },
  {
   "cell_type": "code",
   "execution_count": 35,
   "metadata": {},
   "outputs": [],
   "source": [
    "\n",
    "df_ps_combined_revered = df_ps_combined_revered.groupby('Simulation').mean()\n",
    "df_ps_combined_revered.insert(len(df_ps_combined_revered.columns),\"Model\",list(np.repeat('Pretrained-reversed',len(df_ps_combined_revered))),True)\n",
    "\n",
    "df_combined_tmp = df_ps_combined.groupby('Simulation').mean()\n",
    "df_combined_tmp.insert(len(df_combined_tmp.columns),\"Model\",list(np.repeat('Pretrained',len(df_combined_tmp))),True)\n",
    "\n",
    "# df_vanillatrained_tmp = df_ps_vanilla_trained.groupby('Simulation').mean()\n",
    "# df_vanillatrained_tmp.insert(len(df_vanillatrained_tmp.columns),\"Model\",list(np.repeat('Trained Vanilla',len(df_vanillatrained_tmp))),True)\n",
    "# df_vanillatrained_tmp.Accuracy = df_ps_vanilla_trained.Accuracy*100\n",
    "\n",
    "# df_comparison = pd.concat([df_vanilla_tmp,df_combined_tmp,df_vanillatrained_tmp])\n",
    "df_comparison = pd.concat([df_combined_tmp,df_ps_combined_revered])\n",
    "\n",
    "palette = [sns.color_palette(\"tab20b\")[2],sns.color_palette(\"tab20b\")[6],sns.color_palette(\"tab20b\")[10]]"
   ]
  },
  {
   "cell_type": "code",
   "execution_count": 43,
   "metadata": {},
   "outputs": [
    {
     "name": "stdout",
     "output_type": "stream",
     "text": [
      "Mean generalization performance and sample efficiency metrics\n",
      "Vanilla accuracy: nan | Sample efficiency: nan\n",
      "Pretrained accuracy: 92.14127604166669 | Sample efficiency: 1620508.8\n",
      "Vanilla trained accuracy: nan | Sample efficiency: nan\n",
      "Proportion of samples on the trained vanilla model relative to pretrained model: nan\n"
     ]
    },
    {
     "data": {
      "image/png": "[encoded data removed]",
      "text/plain": [
       "<Figure size 162x162 with 1 Axes>"
      ]
     },
     "metadata": {
      "needs_background": "light"
     },
     "output_type": "display_data"
    },
    {
     "data": {
      "image/png": "[encoded data removed]",
      "text/plain": [
       "<Figure size 162x162 with 1 Axes>"
      ]
     },
     "metadata": {
      "needs_background": "light"
     },
     "output_type": "display_data"
    }
   ],
   "source": [
    "tmp_palette = [sns.color_palette('plasma')[0], sns.color_palette('plasma')[3], sns.color_palette('plasma')[0]]\n",
    "plt.figure(figsize=(2.25,2.25))\n",
    "# plt.subplot(121)\n",
    "ax = sns.boxplot(x=\"Model\",y=\"Accuracy\",palette=tmp_palette,data=df_comparison)\n",
    "sns.stripplot(x=\"Model\",y=\"Accuracy\",palette=tmp_palette,dodge=True,data=df_comparison,zorder=0)\n",
    "plt.plot(np.arange(-0.5,2.5),np.repeat(25,3),'gray',linestyle='--',label='Chance')\n",
    "plt.title('Generalization performance\\n(pretraining only)', fontsize=10,y=1.0)\n",
    "plt.xlabel('Models',fontsize=10)\n",
    "plt.ylabel('Accuracy (%)', fontsize=10)\n",
    "plt.xticks(np.arange(2), ['Combined','Reverse-\\ncombined'],fontsize=8);\n",
    "plt.yticks(fontsize=8);\n",
    "plt.legend(fontsize=6)\n",
    "# plt.ylim([-.04,.3])\n",
    "sns.despine()\n",
    "plt.tight_layout()\n",
    "plt.savefig(figuredir + 'Expt11_Generalization_ReverseCombined.png',dpi=300)\n",
    "\n",
    "\n",
    "plt.figure(figsize=(2.25,2.25))\n",
    "# plt.subplot(122)\n",
    "ax = sns.boxplot(x=\"Model\",y=\"Samples\",palette=tmp_palette,data=df_comparison)\n",
    "sns.stripplot(x=\"Model\",y=\"Samples\",palette=tmp_palette,dodge=True,data=df_comparison,zorder=0)\n",
    "plt.title('Sample efficiency', fontsize=10,y=1.1)\n",
    "plt.xlabel('Models',fontsize=10)\n",
    "plt.ylabel('Number of samples', fontsize=10)\n",
    "# plt.xticks(fontsize=8,rotation=-15);\n",
    "plt.xticks(np.arange(2), ['Combined','Reverse-\\ncombined'],fontsize=8);\n",
    "plt.yticks(fontsize=8);\n",
    "# plt.ylim([-.04,.3])\n",
    "sns.despine()\n",
    "\n",
    "plt.tight_layout()\n",
    "plt.savefig(figuredir + 'Expt11_SampleEfficiency_ReverseCombined.png',dpi=300)\n",
    "\n",
    "\n",
    "print('Mean generalization performance and sample efficiency metrics')\n",
    "print('Vanilla accuracy:', df_comparison.loc[df_comparison.Model=='Vanilla'].Accuracy.mean(), '| Sample efficiency:', df_comparison.loc[df_comparison.Model=='Vanilla'].Samples.mean())\n",
    "print('Pretrained accuracy:', df_comparison.loc[df_comparison.Model=='Pretrained'].Accuracy.mean(), '| Sample efficiency:', df_comparison.loc[df_comparison.Model=='Pretrained'].Samples.mean())\n",
    "print('Vanilla trained accuracy:', df_comparison.loc[df_comparison.Model=='Trained Vanilla'].Accuracy.mean(), '| Sample efficiency:', df_comparison.loc[df_comparison.Model=='Trained Vanilla'].Samples.mean())\n",
    "print('Proportion of samples on the trained vanilla model relative to pretrained model:', df_comparison.loc[df_comparison.Model=='Trained Vanilla'].Samples.mean()/df_comparison.loc[df_comparison.Model=='Pretrained'].Samples.mean())"
   ]
  },
  {
   "cell_type": "markdown",
   "metadata": {},
   "source": [
    "# Visualize PS matrices for each hidden layer"
   ]
  },
  {
   "cell_type": "code",
   "execution_count": 86,
   "metadata": {},
   "outputs": [],
   "source": [
    "simstart = 0 \n",
    "simend = 40\n",
    "\n",
    "ps_logic_mat = np.zeros((4,4,3,40)) # rules x rules, layers, sims\n",
    "ps_sensory_mat = np.zeros((4,4,3,40)) # rules x rules, layers, sims\n",
    "ps_motor_mat = np.zeros((4,4,3,40)) # rules x rules, layers, sims\n",
    "for i in range(simstart+1,simend):\n",
    "    ####\n",
    "    # 2 layers\n",
    "    #\n",
    "    h5f = h5py.File('../../data/model_results/experiment11/expt10_adam_zeroshot_3layers_pretraining_2rulepretraining_simData' + str(i) + 'psMatrices.h5','r')\n",
    "    ps_logic_mat[:,:,:,i] = h5f['logic'][:].copy()\n",
    "    ps_sensory_mat[:,:,:,i] = h5f['sensory'][:].copy()\n",
    "    ps_motor_mat[:,:,:,i] = h5f['motor'][:].copy()\n",
    "    logic_classes = pd.read_csv('../../data/model_results/experiment11/PS_ClassLabels_Logic.txt').values[:,1]\n",
    "    sensory_classes = pd.read_csv('../../data/model_results/experiment11/PS_ClassLabels_Sensory.txt').values[:,1]\n",
    "    motor_classes = pd.read_csv('../../data/model_results/experiment11/PS_ClassLabels_Motor.txt').values[:,1]\n",
    "    h5f.close()\n",
    "\n",
    "ps_logic_mat_avg = np.mean(ps_logic_mat,axis=3)\n",
    "ps_sensory_mat_avg = np.mean(ps_sensory_mat,axis=3)\n",
    "ps_motor_mat_avg = np.mean(ps_motor_mat,axis=3)\n",
    "\n"
   ]
  },
  {
   "cell_type": "code",
   "execution_count": 88,
   "metadata": {},
   "outputs": [
    {
     "data": {
      "image/png": "[encoded data removed]",
      "text/plain": [
       "<Figure size 486x180 with 6 Axes>"
      ]
     },
     "metadata": {
      "needs_background": "light"
     },
     "output_type": "display_data"
    },
    {
     "data": {
      "image/png": "[encoded data removed]",
      "text/plain": [
       "<Figure size 486x180 with 6 Axes>"
      ]
     },
     "metadata": {
      "needs_background": "light"
     },
     "output_type": "display_data"
    },
    {
     "data": {
      "image/png": "[encoded data removed]",
      "text/plain": [
       "<Figure size 486x180 with 6 Axes>"
      ]
     },
     "metadata": {
      "needs_background": "light"
     },
     "output_type": "display_data"
    }
   ],
   "source": [
    "plt.figure(figsize=(6.75,2.5))\n",
    "for layer in range(3):\n",
    "    plt.subplot(int('13' + str(layer+1)))\n",
    "    ax = sns.heatmap(ps_logic_mat_avg[:,:,layer], square=True, cmap='seismic',center=0,vmin=0,vmax=0.1,cbar=True,cbar_kws={'fraction':0.046})\n",
    "    cbar = ax.collections[0].colorbar\n",
    "    # here set the labelsize by 20\n",
    "    cbar.ax.tick_params(labelsize=8)    \n",
    "    ax.invert_yaxis()\n",
    "    plt.xticks(np.arange(.5,4.5),logic_classes,fontsize=8,rotation=-15)\n",
    "    plt.yticks(np.arange(0.5, 4.5),logic_classes,fontsize=8,rotation=0)\n",
    "    plt.title('Logic PS: Layer ' + str(layer+1),fontsize=10)\n",
    "plt.tight_layout()\n",
    "    \n",
    "plt.figure(figsize=(6.75,2.5))\n",
    "for layer in range(3):\n",
    "    plt.subplot(int('13' + str(layer+1)))\n",
    "    ax = sns.heatmap(ps_sensory_mat_avg[:,:,layer], square=True, cmap='seismic',center=0,vmin=0,vmax=0.1,cbar=True,cbar_kws={'fraction':0.046})\n",
    "    cbar = ax.collections[0].colorbar\n",
    "    # here set the labelsize by 20\n",
    "    cbar.ax.tick_params(labelsize=8)    \n",
    "    ax.invert_yaxis()\n",
    "    plt.xticks(np.arange(.5,4.5),sensory_classes,fontsize=8,rotation=-15)\n",
    "    plt.yticks(np.arange(0.5, 4.5),sensory_classes,fontsize=8,rotation=0)\n",
    "    plt.title('Sensory PS: Layer ' + str(layer+1),fontsize=10)\n",
    "plt.tight_layout()\n",
    "    \n",
    "plt.figure(figsize=(6.75,2.5))\n",
    "for layer in range(3):\n",
    "    plt.subplot(int('13' + str(layer+1)))\n",
    "    ax = sns.heatmap(ps_motor_mat_avg[:,:,layer], square=True, cmap='seismic',center=0,vmin=0,vmax=0.2,cbar=True,cbar_kws={'fraction':0.046})\n",
    "    cbar = ax.collections[0].colorbar\n",
    "    # here set the labelsize by 20\n",
    "    cbar.ax.tick_params(labelsize=8)    \n",
    "    ax.invert_yaxis()\n",
    "    plt.xticks(np.arange(.5,4.5),motor_classes,fontsize=8,rotation=-15)\n",
    "    plt.yticks(np.arange(0.5, 4.5),motor_classes,fontsize=8,rotation=0)\n",
    "    plt.title('Motor PS: Layer ' + str(layer+1),fontsize=10)\n",
    "plt.tight_layout()\n",
    "    "
   ]
  },
  {
   "cell_type": "markdown",
   "metadata": {},
   "source": [
    "# Get correponding matrices for PS in fMRI data"
   ]
  },
  {
   "cell_type": "code",
   "execution_count": 57,
   "metadata": {},
   "outputs": [],
   "source": [
    "datadir = '../../data/results/'\n",
    "# figuredir = '../figures/manuscriptFigures/Fig7_BrainANN_PSOverlap/'\n",
    "neuripsdir = '../manuscripts/neurips2022/figures/Fig7_BoxPlotANNHumanHierarchyPS/'\n",
    "\n",
    "rules = ['Motor','Logic','Sensory']\n",
    "# rules = ['Sensory','Logic','Motor']\n",
    "ps = {}\n",
    "decoding = {}\n",
    "\n",
    "for domain in rules:\n",
    "    ps[domain] = nib.load(datadir + domain + 'RulePSGroup.dscalar.nii').get_fdata().T\n",
    "    decoding[domain] = nib.load(datadir + domain + 'RuleDecoding.dscalar.nii').get_fdata().T\n",
    "\n",
    "# Load in gradient\n",
    "hierarchical_gradient = nib.load(datadir + '../hcp.gradients.dscalar.nii').get_fdata().T\n",
    "\n",
    "# Load in glasser atlas\n",
    "glasser = np.squeeze(nib.load(datadir + '../Q1-Q6_RelatedParcellation210.LR.CorticalAreas_dil_Colors.32k_fs_RL.dlabel.nii').get_fdata())\n"
   ]
  },
  {
   "cell_type": "code",
   "execution_count": 62,
   "metadata": {},
   "outputs": [],
   "source": [
    "# Load network\n",
    "# Using final partition\n",
    "networkdef = np.loadtxt('../../data/network_partition.txt')\n",
    "networkorder = np.asarray(sorted(range(len(networkdef)), key=lambda k: networkdef[k]))\n",
    "networkorder.shape = (len(networkorder),1)\n",
    "# network mappings for final partition set\n",
    "networkmappings = {'fpn':7, 'vis1':1, 'vis2':2, 'smn':3, 'aud':8, 'lan':6, 'dan':5, 'con':4, 'dmn':9, \n",
    "                   'pmulti':10, 'none1':11, 'none2':12}\n",
    "networks = networkmappings.keys()\n",
    "\n",
    "n_parcels = 360\n",
    "\n",
    "#\n",
    "h5f = h5py.File('../../data/results/PS_matrices_Logic.h5','r')\n",
    "logicps_mat = h5f['data'][:].copy()\n",
    "h5f.close()\n",
    "logic_classes = pd.read_csv('../../data/results/PS_Logic_ClassLabels.txt').values[:,1]\n",
    "\n",
    "h5f = h5py.File('../../data/results/PS_matrices_Sensory.h5','r')\n",
    "sensoryps_mat = h5f['data'][:].copy()\n",
    "h5f.close()\n",
    "sensory_classes = pd.read_csv('../../data/results/PS_Sensory_ClassLabels.txt').values[:,1]\n",
    "\n",
    "h5f = h5py.File('../../data/results/PS_matrices_Motor.h5','r')\n",
    "motorps_mat = h5f['data'][:].copy()\n",
    "h5f.close()\n",
    "motor_classes = pd.read_csv('../../data/results/PS_Motor_ClassLabels.txt').values[:,1]\n"
   ]
  },
  {
   "cell_type": "code",
   "execution_count": 64,
   "metadata": {},
   "outputs": [],
   "source": [
    "associationnets = ['con','dan','lan','fpn','dmn','pmulti','none1','none2']\n",
    "sensorimotornets = ['vis1','vis2','smn','aud']\n",
    "sensorynets = ['vis1','vis2','aud']\n",
    "motornets = ['smn']\n",
    "\n",
    "ruledomains = ['Sensory', 'Logic', 'Motor']\n",
    "\n",
    "sensory_rois = []\n",
    "for net in sensorynets:\n",
    "    sensory_rois.extend(np.where(networkdef==networkmappings[net])[0])\n",
    "\n",
    "association_rois = []\n",
    "for net in associationnets:\n",
    "    association_rois.extend(np.where(networkdef==networkmappings[net])[0])\n",
    "\n",
    "motor_rois = []    \n",
    "for net in motornets:\n",
    "    motor_rois.extend(np.where(networkdef==networkmappings[net])[0])\n",
    "    \n",
    "sensory_rois = np.asarray(sensory_rois)\n",
    "association_rois = np.asarray(association_rois)\n",
    "motor_rois = np.asarray(motor_rois)\n"
   ]
  },
  {
   "cell_type": "code",
   "execution_count": 92,
   "metadata": {},
   "outputs": [
    {
     "data": {
      "image/png": "[encoded data removed]",
      "text/plain": [
       "<Figure size 486x180 with 6 Axes>"
      ]
     },
     "metadata": {
      "needs_background": "light"
     },
     "output_type": "display_data"
    },
    {
     "data": {
      "image/png": "[encoded data removed]",
      "text/plain": [
       "<Figure size 486x180 with 6 Axes>"
      ]
     },
     "metadata": {
      "needs_background": "light"
     },
     "output_type": "display_data"
    },
    {
     "data": {
      "image/png": "[encoded data removed]",
      "text/plain": [
       "<Figure size 486x180 with 6 Axes>"
      ]
     },
     "metadata": {
      "needs_background": "light"
     },
     "output_type": "display_data"
    }
   ],
   "source": [
    "layers = [sensory_rois,association_rois,motor_rois]\n",
    "layer_id = ['Sensory', 'Association', 'Motor']\n",
    "motor_ind = np.asarray([0,1,2,3]) # same ordering as in ANN\n",
    "motor_ind.shape = (len(motor_ind),1)\n",
    "motor_classes = ['l_ind','l_mid','r_ind', 'r_mid']\n",
    "\n",
    "sensory_ind = np.asarray([0,3,1,2]) # sensory classes are not the same label ordering as in ANN experiment\n",
    "sensory_ind.shape = (len(sensory_ind),1)\n",
    "sensory_classes = ['constant','high','red','vertical']\n",
    "\n",
    "logic_ind = np.asarray([0,1,2,3])\n",
    "logic_ind.shape = (len(logic_ind),1)\n",
    "logic_classes = np.asarray(['both','either','neither','notboth'])\n",
    "\n",
    "plt.figure(figsize=(6.75,2.5))\n",
    "i = 1\n",
    "for layer in layers:\n",
    "    plt.subplot(int('13' + str(i)))\n",
    "    ax = sns.heatmap(np.mean(logicps_mat[logic_ind,logic_ind.T][:,:,layer],axis=2), square=True, cmap='seismic',vmin=0,vmax=0.6,center=0,cbar=True,cbar_kws={'fraction':0.046})\n",
    "    cbar = ax.collections[0].colorbar\n",
    "    # here set the labelsize by 20\n",
    "    cbar.ax.tick_params(labelsize=8)    \n",
    "    ax.invert_yaxis()\n",
    "    plt.xticks(np.arange(.5,4.5),logic_classes,fontsize=8,rotation=-15)\n",
    "    plt.yticks(np.arange(0.5, 4.5),logic_classes,fontsize=8,rotation=0)\n",
    "    plt.title('Logic PS: Layer ' + layer_id[i-1],fontsize=10)\n",
    "    i += 1\n",
    "plt.tight_layout()\n",
    "\n",
    "plt.figure(figsize=(6.75,2.5))\n",
    "i = 1\n",
    "for layer in layers:\n",
    "    plt.subplot(int('13' + str(i)))\n",
    "    ax = sns.heatmap(np.mean(sensoryps_mat[sensory_ind,sensory_ind.T][:,:,layer],axis=2), square=True, cmap='seismic',vmin=0,vmax=0.2,center=0,cbar=True,cbar_kws={'fraction':0.046})\n",
    "    cbar = ax.collections[0].colorbar\n",
    "    # here set the labelsize by 20\n",
    "    cbar.ax.tick_params(labelsize=8)    \n",
    "    ax.invert_yaxis()\n",
    "    plt.xticks(np.arange(.5,4.5),sensory_classes,fontsize=8,rotation=-15)\n",
    "    plt.yticks(np.arange(0.5, 4.5),sensory_classes,fontsize=8,rotation=0)\n",
    "    plt.title('Sensory PS: Layer ' + layer_id[i-1],fontsize=10)\n",
    "    i += 1\n",
    "plt.tight_layout()\n",
    "\n",
    "plt.figure(figsize=(6.75,2.5))\n",
    "i = 1\n",
    "for layer in layers:\n",
    "    plt.subplot(int('13' + str(i)))\n",
    "    ax = sns.heatmap(np.mean(motorps_mat[motor_ind, motor_ind.T][:,:,layer],axis=2), square=True, cmap='seismic',vmin=0,vmax=1.0,center=0,cbar=True,cbar_kws={'fraction':0.046})\n",
    "    cbar = ax.collections[0].colorbar\n",
    "    # here set the labelsize by 20\n",
    "    cbar.ax.tick_params(labelsize=8)    \n",
    "    ax.invert_yaxis()\n",
    "    plt.xticks(np.arange(.5,4.5),motor_classes,fontsize=8,rotation=-15)\n",
    "    plt.yticks(np.arange(0.5, 4.5),motor_classes,fontsize=8,rotation=0)\n",
    "    plt.title('Motor PS: Layer ' + layer_id[i-1],fontsize=10)\n",
    "    i += 1\n",
    "plt.tight_layout()\n"
   ]
  }
 ],
 "metadata": {
  "kernelspec": {
   "display_name": "Python 3 (ipykernel)",
   "language": "python",
   "name": "python3"
  },
  "language_info": {
   "codemirror_mode": {
    "name": "ipython",
    "version": 3
   },
   "file_extension": ".py",
   "mimetype": "text/x-python",
   "name": "python",
   "nbconvert_exporter": "python",
   "pygments_lexer": "ipython3",
   "version": "3.7.6"
  }
 },
 "nbformat": 4,
 "nbformat_minor": 4
}
