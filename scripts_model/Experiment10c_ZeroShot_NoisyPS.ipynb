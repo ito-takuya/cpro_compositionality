{
 "cells": [
  {
   "cell_type": "markdown",
   "metadata": {},
   "source": [
    "# Experiment 10 - 2 zeroshot learning evaluation with noisy PS"
   ]
  },
  {
   "cell_type": "code",
   "execution_count": 29,
   "metadata": {},
   "outputs": [],
   "source": [
    "import numpy as np\n",
    "import torch\n",
    "import scipy.stats as stats\n",
    "import matplotlib.pyplot as plt\n",
    "import seaborn as sns\n",
    "%matplotlib inline\n",
    "from model import analysis\n",
    "from importlib import reload\n",
    "import tools\n",
    "import pandas as pd\n",
    "analysis = reload(analysis)\n",
    "plt.rcParams['font.sans-serif'] = \"Arial\""
   ]
  },
  {
   "cell_type": "code",
   "execution_count": 32,
   "metadata": {},
   "outputs": [],
   "source": [
    "datadir = '../../data/model_results/experiment10/'\n",
    "figuredir = '../figures/manuscriptFigures_v2/Fig5_ANNPS/'\n",
    "\n",
    "palette = sns.color_palette(\"Set2\")\n"
   ]
  },
  {
   "cell_type": "markdown",
   "metadata": {},
   "source": [
    "# Load data"
   ]
  },
  {
   "cell_type": "code",
   "execution_count": 31,
   "metadata": {},
   "outputs": [],
   "source": [
    "simstart = 0 \n",
    "simend = 40\n",
    "\n",
    "df_adam0 = pd.read_csv(datadir + 'expt10c_adam_zeroshot_2layers_2rulepretraining_simData' + str(simstart) + '.csv')\n",
    "df_adam0.insert(len(df_adam0.columns),\"Simulation\",list(np.repeat(simstart,len(df_adam0))),True)\n",
    "df_adam0.insert(len(df_adam0.columns),\"Layers\",list(np.repeat(2,len(df_adam0))),True)\n",
    "df_adam0.insert(len(df_adam0.columns),\"Training\",list(np.repeat('Simple task pretraining',len(df_adam0))),True)\n",
    "#\n",
    "df_adam0_1rule = pd.read_csv(datadir + 'expt10c_adam_zeroshot_2layers_pretraining_simData' + str(simstart) + '.csv')\n",
    "df_adam0_1rule.insert(len(df_adam0_1rule.columns),\"Simulation\",list(np.repeat(simstart,len(df_adam0_1rule))),True)\n",
    "df_adam0_1rule.insert(len(df_adam0_1rule.columns),\"Layers\",list(np.repeat(2,len(df_adam0_1rule))),True)\n",
    "df_adam0_1rule.insert(len(df_adam0_1rule.columns),\"Training\",list(np.repeat('Concept pretraining',len(df_adam0_1rule))),True)\n",
    "#\n",
    "df_adam0_nopretraining = pd.read_csv(datadir + 'expt10c_adam_zeroshot_2layers_simData' + str(simstart) + '.csv')\n",
    "df_adam0_nopretraining.insert(len(df_adam0_nopretraining.columns),\"Simulation\",list(np.repeat(simstart,len(df_adam0_nopretraining))),True)\n",
    "df_adam0_nopretraining.insert(len(df_adam0_nopretraining.columns),\"Layers\",list(np.repeat(2,len(df_adam0_nopretraining))),True)\n",
    "df_adam0_nopretraining.insert(len(df_adam0_nopretraining.columns),\"Training\",list(np.repeat('Vanilla',len(df_adam0_nopretraining))),True)\n",
    "#\n",
    "df_adam0_combined = pd.read_csv(datadir + 'expt10c_adam_zeroshot_2layers_pretraining_2rulepretraining_simData' + str(simstart) + '.csv')\n",
    "df_adam0_combined.insert(len(df_adam0_combined.columns),\"Simulation\",list(np.repeat(simstart,len(df_adam0_combined))),True)\n",
    "df_adam0_combined.insert(len(df_adam0_combined.columns),\"Layers\",list(np.repeat(2,len(df_adam0_combined))),True)\n",
    "df_adam0_combined.insert(len(df_adam0_combined.columns),\"Training\",list(np.repeat('Combined',len(df_adam0_combined))),True)\n",
    "\n",
    "for i in range(simstart+1,simend):\n",
    "    ####\n",
    "    # 2 layers\n",
    "    #\n",
    "    tmp = pd.read_csv(datadir + 'expt10c_adam_zeroshot_2layers_2rulepretraining_simData' + str(i) + '.csv')\n",
    "    tmp.insert(len(tmp.columns),\"Simulation\",list(np.repeat(i,len(tmp))),True)\n",
    "    tmp.insert(len(tmp.columns),\"Layers\",list(np.repeat(2,len(tmp))),True)\n",
    "    tmp.insert(len(tmp.columns),\"Training\",list(np.repeat('Simple task pretraining',len(tmp))),True)\n",
    "    tmp['LogicAvg'] = tmp[['LogicPS1', 'LogicPS2']].mean(axis=1)\n",
    "    tmp['SensoryAvg'] = tmp[['SensoryPS1', 'SensoryPS2']].mean(axis=1)\n",
    "    tmp['MotorAvg'] = tmp[['MotorPS1', 'MotorPS2']].mean(axis=1)\n",
    "    tmp['PSavg'] = tmp[['LogicAvg', 'SensoryAvg','MotorAvg']].mean(axis=1)\n",
    "    df_adam0 = df_adam0.append(tmp)\n",
    "    #\n",
    "    tmp = pd.read_csv(datadir + 'expt10c_adam_zeroshot_2layers_pretraining_simData' + str(i) + '.csv')\n",
    "    tmp.insert(len(tmp.columns),\"Simulation\",list(np.repeat(i,len(tmp))),True)\n",
    "    tmp.insert(len(tmp.columns),\"Layers\",list(np.repeat(2,len(tmp))),True)\n",
    "    tmp.insert(len(tmp.columns),\"Training\",list(np.repeat('Concept pretraining',len(tmp))),True)\n",
    "    tmp['LogicAvg'] = tmp[['LogicPS1', 'LogicPS2']].mean(axis=1)\n",
    "    tmp['SensoryAvg'] = tmp[['SensoryPS1', 'SensoryPS2']].mean(axis=1)\n",
    "    tmp['MotorAvg'] = tmp[['MotorPS1', 'MotorPS2']].mean(axis=1)\n",
    "    tmp['PSavg'] = tmp[['LogicAvg', 'SensoryAvg','MotorAvg']].mean(axis=1)\n",
    "    df_adam0_1rule = df_adam0_1rule.append(tmp)\n",
    "    #\n",
    "    tmp = pd.read_csv(datadir + 'expt10c_adam_zeroshot_2layers_simData' + str(i) + '.csv')\n",
    "    tmp.insert(len(tmp.columns),\"Simulation\",list(np.repeat(i,len(tmp))),True)\n",
    "    tmp.insert(len(tmp.columns),\"Layers\",list(np.repeat(2,len(tmp))),True)    \n",
    "    tmp.insert(len(tmp.columns),\"Training\",list(np.repeat('Vanilla',len(tmp))),True)\n",
    "    tmp['LogicAvg'] = tmp[['LogicPS1', 'LogicPS2']].mean(axis=1)\n",
    "    tmp['SensoryAvg'] = tmp[['SensoryPS1', 'SensoryPS2']].mean(axis=1)\n",
    "    tmp['MotorAvg'] = tmp[['MotorPS1', 'MotorPS2']].mean(axis=1)\n",
    "    tmp['PSavg'] = tmp[['LogicAvg', 'SensoryAvg','MotorAvg']].mean(axis=1)\n",
    "    df_adam0_nopretraining = df_adam0_nopretraining.append(tmp)\n",
    "    #\n",
    "    tmp = pd.read_csv(datadir + 'expt10c_adam_zeroshot_2layers_pretraining_2rulepretraining_simData' + str(i) + '.csv')\n",
    "    tmp.insert(len(tmp.columns),\"Simulation\",list(np.repeat(i,len(tmp))),True)\n",
    "    tmp.insert(len(tmp.columns),\"Layers\",list(np.repeat(2,len(tmp))),True)\n",
    "    tmp.insert(len(tmp.columns),\"Training\",list(np.repeat('Combined',len(tmp))),True)\n",
    "    tmp['LogicAvg'] = tmp[['LogicPS1', 'LogicPS2']].mean(axis=1)\n",
    "    tmp['SensoryAvg'] = tmp[['SensoryPS1', 'SensoryPS2']].mean(axis=1)\n",
    "    tmp['MotorAvg'] = tmp[['MotorPS1', 'MotorPS2']].mean(axis=1)\n",
    "    tmp['PSavg'] = tmp[['LogicAvg', 'SensoryAvg','MotorAvg']].mean(axis=1)\n",
    "    df_adam0_combined = df_adam0_combined.append(tmp)\n",
    "    \n",
    "    \n",
    "df_adam0.Accuracy = df_adam0.Accuracy.values*100.0\n",
    "df_adam0_1rule.Accuracy = df_adam0_1rule.Accuracy.values*100.0\n",
    "df_adam0_nopretraining.Accuracy = df_adam0_nopretraining.Accuracy.values*100.0\n",
    "df_adam0_combined.Accuracy = df_adam0_combined.Accuracy.values*100.0\n",
    "df_all = pd.concat([df_adam0_nopretraining,df_adam0_1rule,df_adam0,df_adam0_combined])\n",
    "df_all['Training'] = df_all['Training'].replace({'Concept pretraining': 'Primitives pretraining'})"
   ]
  },
  {
   "cell_type": "code",
   "execution_count": 57,
   "metadata": {},
   "outputs": [
    {
     "name": "stdout",
     "output_type": "stream",
     "text": [
      "Primitives pretraining vs. vanilla PS avg\n",
      "\t t = 5.263505285609198 | p = 1.268211235160947e-06\n",
      "Simple task pretraining vs. vanilla PS avg\n",
      "\t t = 8.458001857958845 | p = 1.4593143439774452e-12\n",
      "Simple task pretraining vs. Primitives pretraining PS avg\n",
      "\t t = 3.9140865429406797 | p = 0.0001962843170590598\n",
      "Combined vs. Simple task pretraining PS avg\n",
      "\t t = -0.8857069798243178 | p = 0.378569331697689\n",
      "Combined vs. Concept pretraining PS avg\n",
      "\t t = 3.0335009326589804 | p = 0.003306969818273975\n"
     ]
    },
    {
     "data": {
      "image/png": "[encoded data removed]",
      "text/plain": [
       "<Figure size 180x144 with 1 Axes>"
      ]
     },
     "metadata": {
      "needs_background": "light"
     },
     "output_type": "display_data"
    }
   ],
   "source": [
    "plt.figure(figsize=(2.5,2.))\n",
    "ax = sns.boxplot(x=\"NumPracticedTasks\",y=\"PSavg\",hue='Training',palette='plasma',data=df_all,sym='')\n",
    "sns.stripplot(x=\"NumPracticedTasks\",y=\"PSavg\",hue='Training',palette='plasma',dodge=True,data=df_all,zorder=0)\n",
    "plt.title('Overall PS hidden layers\\nafter pretraining', fontsize=10)\n",
    "plt.xlabel('Pretraining', fontsize=10)\n",
    "plt.ylabel('Parallelism', fontsize=10)\n",
    "plt.xticks([],fontsize=8);\n",
    "plt.yticks(fontsize=8);\n",
    "# plt.ylim([0.2,.5])\n",
    "handles, labels = ax.get_legend_handles_labels()\n",
    "# When creating the legend, only use the first two elements\n",
    "# to effectively remove the last two.\n",
    "l = plt.legend(handles[0:4], labels[0:4],fontsize=6)\n",
    "# When creating the legend, only use the first two elements\n",
    "# to effectively remove the last two.\n",
    "# l = plt.legend(handles[0:4], labels[0:4],fontsize=8)\n",
    "plt.ylim([-.07,.11])\n",
    "sns.despine()\n",
    "plt.tight_layout()\n",
    "plt.savefig(figuredir + 'Expt10_ModelPS_Average_ZeroShot.png', dpi=300)\n",
    "\n",
    "# Run statistical tests\n",
    "t, p = stats.ttest_ind(df_all.PSavg[df_all.Training=='Primitives pretraining'].values[1:],df_all.PSavg[df_all.Training=='Vanilla'].values[1:])\n",
    "print('Primitives pretraining vs. vanilla PS avg')\n",
    "print('\\t t =', t, '| p =', p)\n",
    "\n",
    "t, p = stats.ttest_ind(df_all.PSavg[df_all.Training=='Simple task pretraining'].values[1:],df_all.PSavg[df_all.Training=='Vanilla'].values[1:])\n",
    "print('Simple task pretraining vs. vanilla PS avg')\n",
    "print('\\t t =', t, '| p =', p)\n",
    "\n",
    "t, p = stats.ttest_ind(df_all.PSavg[df_all.Training=='Simple task pretraining'].values[1:],df_all.PSavg[df_all.Training=='Primitives pretraining'].values[1:])\n",
    "print('Simple task pretraining vs. Primitives pretraining PS avg')\n",
    "print('\\t t =', t, '| p =', p)\n",
    "      \n",
    "t, p = stats.ttest_ind(df_all.PSavg[df_all.Training=='Combined'].values[1:],df_all.PSavg[df_all.Training=='Simple task pretraining'].values[1:])\n",
    "print('Combined vs. Simple task pretraining PS avg')\n",
    "print('\\t t =', t, '| p =', p)\n",
    "\n",
    "t, p = stats.ttest_ind(df_all.PSavg[df_all.Training=='Combined'].values[1:],df_all.PSavg[df_all.Training=='Primitives pretraining'].values[1:])\n",
    "print('Combined vs. Concept pretraining PS avg')\n",
    "print('\\t t =', t, '| p =', p)"
   ]
  },
  {
   "cell_type": "code",
   "execution_count": 41,
   "metadata": {},
   "outputs": [
    {
     "name": "stdout",
     "output_type": "stream",
     "text": [
      "92.14127604166669\n",
      "Primitives accuracy v. chance\n",
      "\t acc = 23.24502537393162 t = -2.1679911550313866 | p = 0.9817554142312601\n",
      "Primitives pretraining accuracy v. chance\n",
      "\t acc = 31.505742521367512 t = 8.08880632450488 | p = 8.714169374988498e-10\n",
      "Simple task pretraining vs. Primitives pretraining accuracy\n",
      "\t acc = 70.5744190705128 t = 19.84209319783974 | p = 8.685482362049663e-32\n",
      "Combined vs. Simple task pretraining accuracy\n",
      "\t acc = 92.15110844017094 t = 10.848470191267507 | p = 4.22342827972992e-17\n"
     ]
    },
    {
     "data": {
      "image/png": "[encoded data removed]",
      "text/plain": [
       "<Figure size 180x144 with 1 Axes>"
      ]
     },
     "metadata": {
      "needs_background": "light"
     },
     "output_type": "display_data"
    }
   ],
   "source": [
    "print(df_all.Accuracy[df_all.Training=='Combined'].mean())\n",
    "plt.figure(figsize=(2.5,2.))\n",
    "sns.boxplot(x=\"NumPracticedTasks\",y=\"Accuracy\",hue='Training',palette='plasma',data=df_all)\n",
    "sns.stripplot(x=\"NumPracticedTasks\",y=\"Accuracy\",hue='Training',palette='plasma',data=df_all,dodge=True,zorder=0)\n",
    "plt.plot(np.arange(-.5,1.5),np.repeat(25.0,2),'gray',linestyle='--',label='Chance')\n",
    "plt.title('Zero-shot performance\\non C-PRO task (after pretraining)', fontsize=10)\n",
    "plt.xlabel('Pretraining', fontsize=10)\n",
    "plt.ylabel('Model accuracy (%)', fontsize=10)\n",
    "plt.xticks([],fontsize=8);\n",
    "plt.yticks(fontsize=8);\n",
    "plt.legend().remove()\n",
    "plt.ylim([0,108])\n",
    "plt.xlim([-.5,.5])\n",
    "plt.tight_layout()\n",
    "sns.despine()\n",
    "plt.savefig(figuredir + 'Expt10_ModelPerformance_ZeroShot.png', dpi=300)\n",
    "\n",
    "\n",
    "\n",
    "# Run statistical tests\n",
    "t, p = stats.ttest_1samp(df_all.Accuracy[df_all.Training=='Vanilla'].values[1:], 25)\n",
    "print('Primitives accuracy v. chance')\n",
    "print('\\t acc =', df_all.Accuracy[df_all.Training=='Vanilla'].values[1:].mean(), 't =', t, '| p =', 1.0-p/2.0)\n",
    "\n",
    "# Run statistical tests\n",
    "t, p = stats.ttest_1samp(df_all.Accuracy[df_all.Training=='Primitives pretraining'].values[1:], 25)\n",
    "print('Primitives pretraining accuracy v. chance')\n",
    "print('\\t acc =', df_all.Accuracy[df_all.Training=='Primitives pretraining'].values[1:].mean(), 't =', t, '| p =', p)\n",
    "\n",
    "# Run statistical tests\n",
    "t, p = stats.ttest_ind(df_all.Accuracy[df_all.Training=='Simple task pretraining'].values[1:], df_all.Accuracy[df_all.Training=='Primitives pretraining'].values[1:])\n",
    "print('Simple task pretraining vs. Primitives pretraining accuracy')\n",
    "print('\\t acc =', df_all.Accuracy[df_all.Training=='Simple task pretraining'].values[1:].mean(), 't =', t, '| p =', p)\n",
    "\n",
    "# Run statistical tests\n",
    "t, p = stats.ttest_ind(df_all.Accuracy[df_all.Training=='Combined'].values[1:], df_all.Accuracy[df_all.Training=='Simple task pretraining'].values[1:])\n",
    "print('Combined vs. Simple task pretraining accuracy')\n",
    "print('\\t acc =', df_all.Accuracy[df_all.Training=='Combined'].values[1:].mean(), 't =', t, '| p =', p)\n",
    "\n",
    "# t, p = stats.ttest_ind(df_all.PSavg[df_all.Training=='Simple task pretraining'].values[1:],df_all.PSavg[df_all.Training=='Vanilla'].values[1:])\n",
    "# print('Simple task pretraining vs. vanilla PS avg')\n",
    "# print('\\t t =', t, '| p =', p)\n",
    "\n",
    "# t, p = stats.ttest_ind(df_all.PSavg[df_all.Training=='Simple task pretraining'].values[1:],df_all.PSavg[df_all.Training=='Primitives pretraining'].values[1:])\n",
    "# print('Simple task pretraining vs. Primitives pretraining PS avg')\n",
    "# print('\\t t =', t, '| p =', p)\n",
    "      \n",
    "# t, p = stats.ttest_ind(df_all.PSavg[df_all.Training=='Combined'].values[1:],df_all.PSavg[df_all.Training=='Simple task pretraining'].values[1:])\n",
    "# print('Combined vs. Simple task pretraining PS avg')\n",
    "# print('\\t t =', t, '| p =', p)\n",
    "\n",
    "# t, p = stats.ttest_ind(df_all.PSavg[df_all.Training=='Combined'].values[1:],df_all.PSavg[df_all.Training=='Primitives pretraining'].values[1:])\n",
    "# print('Combined vs. Concept pretraining PS avg')\n",
    "# print('\\t t =', t, '| p =', p)"
   ]
  },
  {
   "cell_type": "markdown",
   "metadata": {},
   "source": [
    "## Plot PS as a function of depth for 'combined' pretraining"
   ]
  },
  {
   "cell_type": "markdown",
   "metadata": {},
   "source": [
    "#### First load in vanilla model with CPRO task training (from expt 8)"
   ]
  },
  {
   "cell_type": "code",
   "execution_count": 44,
   "metadata": {},
   "outputs": [],
   "source": [
    "df_vanilla_cprotrained = pd.DataFrame()\n",
    "for i in range(simstart,simend):\n",
    "    tmp = pd.read_csv(datadir + 'expt10c_adam_90accCutOff_2layers_practice_simData' + str(i) + '.csv')\n",
    "    tmp.insert(len(tmp.columns),\"Simulation\",list(np.repeat(i,len(tmp))),True)\n",
    "    tmp.insert(len(tmp.columns),\"Training\",list(np.repeat('Vanilla',len(tmp))),True)\n",
    "    df_vanilla_cprotrained = df_vanilla_cprotrained.append(tmp)"
   ]
  },
  {
   "cell_type": "code",
   "execution_count": 60,
   "metadata": {},
   "outputs": [
    {
     "name": "stdout",
     "output_type": "stream",
     "text": [
      "Vanilla network statistical testing\n",
      "\t Sensory Depth 1 vs. 2 | t = 1.4701638021353713 | p = 0.14553982086889652\n",
      "\t Logic Depth 1 vs. 2 | t = 1.3480616171424684 | p = 0.1815405495140293\n",
      "\t Motor Depth 1 vs. 2 | t = 1.7247415638438057 | p = 0.08853474597980673\n",
      "Combined network statistical testing\n",
      "\t Sensory Depth 1 vs. 2 | t = 8.803492040412666 | p = 2.5968750977356545e-13\n",
      "\t Logic Depth 1 vs. 2 | t = -2.6599605136629334 | p = 0.009482055509266044\n",
      "\t Motor Depth 1 vs. 2 | t = -3.8746207520302445 | p = 0.0002209848410177782\n",
      "Trained vanilla network statistical testing\n",
      "\t Sensory Depth 1 vs. 2 | t = 9.639277217346068 | p = 6.245933857098805e-15\n",
      "\t Logic Depth 1 vs. 2 | t = -0.4618477086709746 | p = 0.6454760954655236\n",
      "\t Motor Depth 1 vs. 2 | t = -6.028991140372133 | p = 5.164949910457814e-08\n"
     ]
    },
    {
     "data": {
      "image/png": "[encoded data removed]",
      "text/plain": [
       "<Figure size 496.8x162 with 3 Axes>"
      ]
     },
     "metadata": {
      "needs_background": "light"
     },
     "output_type": "display_data"
    }
   ],
   "source": [
    "vanilla_palette = [sns.color_palette(\"tab20b\")[1],sns.color_palette(\"tab20b\")[3]]\n",
    "pretrained_palette = [sns.color_palette(\"tab20b\")[5],sns.color_palette(\"tab20b\")[6]]\n",
    "depth_palette = [sns.color_palette(\"tab20b\")[8],sns.color_palette(\"tab20b\")[10]]\n",
    "\n",
    "\n",
    "df_ps_combined = {}\n",
    "df_ps_combined['Depth'] = []\n",
    "df_ps_combined['DepthCount'] = []\n",
    "df_ps_combined['Parallelism'] = []\n",
    "df_ps_combined['Domain'] = []\n",
    "df_ps_combined['Simulation'] = []\n",
    "df_ps_combined['Accuracy'] = []\n",
    "df_ps_combined['Samples'] = []\n",
    "\n",
    "df_ps_vanilla = {}\n",
    "df_ps_vanilla['Depth'] = []\n",
    "df_ps_vanilla['DepthCount'] = []\n",
    "df_ps_vanilla['Parallelism'] = []\n",
    "df_ps_vanilla['Domain'] = []\n",
    "df_ps_vanilla['Simulation'] = []\n",
    "df_ps_vanilla['Accuracy'] = []\n",
    "df_ps_vanilla['Samples'] = []\n",
    "\n",
    "df_ps_vanilla_trained = {}\n",
    "df_ps_vanilla_trained['Depth'] = []\n",
    "df_ps_vanilla_trained['DepthCount'] = []\n",
    "df_ps_vanilla_trained['Parallelism'] = []\n",
    "df_ps_vanilla_trained['Domain'] = []\n",
    "df_ps_vanilla_trained['Simulation'] = []\n",
    "df_ps_vanilla_trained['Accuracy'] = []\n",
    "df_ps_vanilla_trained['Samples'] = []\n",
    "\n",
    "for i in range(simstart,simend):\n",
    "    # Concept pretraining\n",
    "    tmpdf = df_adam0_combined.loc[df_adam0_combined.Simulation==i]\n",
    "    tmpdf = tmpdf.loc[tmpdf.NumPracticedTasks==0]\n",
    "    for depth in range(1,3):\n",
    "        for rule in ['Sensory','Logic','Motor']:\n",
    "            df_ps_combined['Simulation'].append(i)\n",
    "            df_ps_combined['Depth'].append('Depth ' + str(depth))\n",
    "            df_ps_combined['DepthCount'].append(depth)\n",
    "            df_ps_combined['Domain'].append(rule)\n",
    "            df_ps_combined['Parallelism'].append(tmpdf[rule + 'PS' + str(depth)].values[0])\n",
    "            df_ps_combined['Samples'].append(tmpdf.NumPretrainingTrials.values[0]+tmpdf.NumActualTrials.values[0])\n",
    "            df_ps_combined['Accuracy'].append(tmpdf.Accuracy.values[0])\n",
    "\n",
    "    # Vanilla \n",
    "    tmpdf = df_adam0_nopretraining.loc[df_adam0_nopretraining.Simulation==i]\n",
    "    tmpdf = tmpdf.loc[tmpdf.NumPracticedTasks==0]\n",
    "    for depth in range(1,3):\n",
    "        for rule in ['Sensory','Logic','Motor']:\n",
    "            df_ps_vanilla['Simulation'].append(i)\n",
    "            df_ps_vanilla['Depth'].append('Depth ' + str(depth))\n",
    "            df_ps_vanilla['DepthCount'].append(depth)\n",
    "            df_ps_vanilla['Domain'].append(rule)\n",
    "            df_ps_vanilla['Parallelism'].append(tmpdf[rule + 'PS' + str(depth)].values[0])\n",
    "            df_ps_vanilla['Samples'].append(tmpdf.NumPretrainingTrials.values[0]+tmpdf.NumActualTrials.values[0])\n",
    "            df_ps_vanilla['Accuracy'].append(tmpdf.Accuracy.values[0])\n",
    "            \n",
    "    # Vanilla -- CPRO trained\n",
    "    tmpdf = df_vanilla_cprotrained.loc[df_vanilla_cprotrained.Simulation==i]\n",
    "    tmpdf = tmpdf.loc[tmpdf.NumPracticedTasks==60]\n",
    "    for depth in range(1,3):\n",
    "        for rule in ['Sensory','Logic','Motor']:\n",
    "            df_ps_vanilla_trained['Simulation'].append(i)\n",
    "            df_ps_vanilla_trained['Depth'].append('Depth ' + str(depth))\n",
    "            df_ps_vanilla_trained['DepthCount'].append(depth)\n",
    "            df_ps_vanilla_trained['Domain'].append(rule)\n",
    "            df_ps_vanilla_trained['Parallelism'].append(tmpdf[rule + 'PS' + str(depth)].values[0])\n",
    "            df_ps_vanilla_trained['Samples'].append(tmpdf.NumPretrainingTrials.values[0]+tmpdf.NumActualTrials.values[0])\n",
    "            df_ps_vanilla_trained['Accuracy'].append(tmpdf.Accuracy.values[0])\n",
    "\n",
    "\n",
    "df_ps_combined = pd.DataFrame(df_ps_combined)\n",
    "df_ps_vanilla = pd.DataFrame(df_ps_vanilla)\n",
    "df_ps_vanilla_trained = pd.DataFrame(df_ps_vanilla_trained)\n",
    "\n",
    "plt.figure(figsize=(6.9,2.25))\n",
    "\n",
    "plt.subplot(131)\n",
    "ax = sns.boxplot(x=\"Domain\",y=\"Parallelism\",hue=\"Depth\",palette=vanilla_palette,data=df_ps_vanilla,sym='')\n",
    "sns.stripplot(x=\"Domain\",y=\"Parallelism\",hue=\"Depth\",palette=vanilla_palette,dodge=True,data=df_ps_vanilla,zorder=0)\n",
    "plt.title('Vanilla', fontsize=10)\n",
    "plt.xlabel(None,fontsize=10)\n",
    "plt.ylabel('Parallelism', fontsize=10)\n",
    "plt.xticks(fontsize=8,rotation=-15);\n",
    "plt.yticks(fontsize=8);\n",
    "plt.legend()\n",
    "handles, labels = ax.get_legend_handles_labels()\n",
    "# When creating the legend, only use the first two elements\n",
    "# to effectively remove the last two.\n",
    "l = plt.legend(handles[0:2], labels[0:2],fontsize=6)\n",
    "plt.ylim([-.04,.3])\n",
    "sns.despine()\n",
    "\n",
    "\n",
    "plt.subplot(132)\n",
    "ax = sns.boxplot(x=\"Domain\",y=\"Parallelism\",hue=\"Depth\",palette=pretrained_palette,data=df_ps_combined,sym='')\n",
    "sns.stripplot(x=\"Domain\",y=\"Parallelism\",hue=\"Depth\",palette=pretrained_palette,dodge=True,data=df_ps_combined,zorder=0)\n",
    "plt.title('Pretraining only', fontsize=10)\n",
    "plt.xlabel('Rule domain',fontsize=10)\n",
    "plt.ylabel(None, fontsize=10)\n",
    "plt.xticks(fontsize=8,rotation=-15);\n",
    "plt.yticks(fontsize=8);\n",
    "plt.legend()\n",
    "handles, labels = ax.get_legend_handles_labels()\n",
    "# When creating the legend, only use the first two elements\n",
    "# to effectively remove the last two.\n",
    "l = plt.legend(handles[0:2], labels[0:2],fontsize=6)\n",
    "plt.ylim([-.04,.3])\n",
    "sns.despine()\n",
    "\n",
    "plt.subplot(133)\n",
    "ax = sns.boxplot(x=\"Domain\",y=\"Parallelism\",hue=\"Depth\",palette=depth_palette,data=df_ps_vanilla_trained,sym='')\n",
    "sns.stripplot(x=\"Domain\",y=\"Parallelism\",hue=\"Depth\",palette=depth_palette,dodge=True,data=df_ps_vanilla_trained,zorder=0)\n",
    "plt.title('Vanilla after\\nearning C-PRO', fontsize=10)\n",
    "plt.xlabel(None,fontsize=10)\n",
    "plt.ylabel(None, fontsize=10)\n",
    "plt.xticks(fontsize=8,rotation=-15);\n",
    "plt.yticks(fontsize=8);\n",
    "plt.legend()\n",
    "handles, labels = ax.get_legend_handles_labels()\n",
    "# When creating the legend, only use the first two elements\n",
    "# to effectively remove the last two.\n",
    "l = plt.legend(handles[0:2], labels[0:2],fontsize=6)\n",
    "plt.ylim([-.04,.3])\n",
    "sns.despine()\n",
    "plt.tight_layout()\n",
    "plt.savefig(figuredir + '../SFig_ANNPS_PostTraining_2layer/Expt10_PSbyDepth.png',dpi=300)\n",
    "\n",
    "\n",
    "print('Vanilla network statistical testing')\n",
    "for domain in ['Sensory','Logic','Motor']:\n",
    "    tmp = df_ps_vanilla.loc[df_ps_vanilla.Domain==domain]\n",
    "    t, p = stats.ttest_ind(tmp.Parallelism[tmp.Depth=='Depth 1'],tmp.Parallelism[tmp.Depth=='Depth 2'])\n",
    "    print('\\t', domain, 'Depth 1 vs. 2 | t =', t, '| p =', p)\n",
    "\n",
    "print('Combined network statistical testing')\n",
    "for domain in ['Sensory','Logic','Motor']:\n",
    "    tmp = df_ps_combined.loc[df_ps_combined.Domain==domain]\n",
    "    t, p = stats.ttest_ind(tmp.Parallelism[tmp.Depth=='Depth 1'],tmp.Parallelism[tmp.Depth=='Depth 2'])\n",
    "    print('\\t', domain, 'Depth 1 vs. 2 | t =', t, '| p =', p)\n",
    "    \n",
    "print('Trained vanilla network statistical testing')\n",
    "for domain in ['Sensory','Logic','Motor']:\n",
    "    tmp = df_ps_vanilla_trained.loc[df_ps_vanilla_trained.Domain==domain]\n",
    "    t, p = stats.ttest_ind(tmp.Parallelism[tmp.Depth=='Depth 1'],tmp.Parallelism[tmp.Depth=='Depth 2'])\n",
    "    print('\\t', domain, 'Depth 1 vs. 2 | t =', t, '| p =', p)\n",
    "    "
   ]
  },
  {
   "cell_type": "code",
   "execution_count": 46,
   "metadata": {},
   "outputs": [],
   "source": [
    "\n",
    "df_vanilla_tmp = df_ps_vanilla.groupby('Simulation').mean()\n",
    "df_vanilla_tmp.insert(len(df_vanilla_tmp.columns),\"Model\",list(np.repeat('Vanilla',len(df_vanilla_tmp))),True)\n",
    "\n",
    "df_combined_tmp = df_ps_combined.groupby('Simulation').mean()\n",
    "df_combined_tmp.insert(len(df_combined_tmp.columns),\"Model\",list(np.repeat('Pretrained',len(df_combined_tmp))),True)\n",
    "\n",
    "df_vanillatrained_tmp = df_ps_vanilla_trained.groupby('Simulation').mean()\n",
    "df_vanillatrained_tmp.insert(len(df_vanillatrained_tmp.columns),\"Model\",list(np.repeat('Trained Vanilla',len(df_vanillatrained_tmp))),True)\n",
    "df_vanillatrained_tmp.Accuracy = df_ps_vanilla_trained.Accuracy*100\n",
    "\n",
    "df_comparison = pd.concat([df_vanilla_tmp,df_combined_tmp,df_vanillatrained_tmp])\n",
    "\n",
    "palette = [sns.color_palette(\"tab20b\")[2],sns.color_palette(\"tab20b\")[6],sns.color_palette(\"tab20b\")[10]]"
   ]
  },
  {
   "cell_type": "code",
   "execution_count": 58,
   "metadata": {},
   "outputs": [
    {
     "name": "stdout",
     "output_type": "stream",
     "text": [
      "Mean generalization performance and sample efficiency metrics\n",
      "Vanilla accuracy: 23.229817708333336 | Sample efficiency: 0.0\n",
      "Pretrained accuracy: 92.1412760416667 | Sample efficiency: 1620508.8\n",
      "Vanilla trained accuracy: 96.025390625 | Sample efficiency: 6861312.0\n",
      "Proportion of samples on the trained vanilla model relative to pretrained model: 4.234047973081047\n"
     ]
    },
    {
     "data": {
      "image/png": "[encoded data removed]",
      "text/plain": [
       "<Figure size 180x144 with 1 Axes>"
      ]
     },
     "metadata": {
      "needs_background": "light"
     },
     "output_type": "display_data"
    },
    {
     "data": {
      "image/png": "[encoded data removed]",
      "text/plain": [
       "<Figure size 162x162 with 1 Axes>"
      ]
     },
     "metadata": {
      "needs_background": "light"
     },
     "output_type": "display_data"
    }
   ],
   "source": [
    "tmp_palette = [sns.color_palette('plasma')[0], sns.color_palette('plasma')[3], sns.color_palette('plasma')[0]]\n",
    "plt.figure(figsize=(2.5,2.))\n",
    "# plt.subplot(121)\n",
    "ax = sns.boxplot(x=\"Model\",y=\"Accuracy\",palette=palette,data=df_comparison)\n",
    "sns.stripplot(x=\"Model\",y=\"Accuracy\",palette=palette,dodge=True,data=df_comparison,zorder=0)\n",
    "plt.plot(np.arange(-0.5,3.5),np.repeat(25,4),'gray',linestyle='--',label='Chance')\n",
    "plt.title('Generalization performance', fontsize=10,y=1.1)\n",
    "plt.xlabel('Models',fontsize=10)\n",
    "plt.ylabel('Accuracy (%)', fontsize=10)\n",
    "plt.xticks(np.arange(3), ['Vanilla','Combined\\npretraining','Trained\\nvanilla'],fontsize=8);\n",
    "plt.yticks(fontsize=8);\n",
    "plt.legend(fontsize=6)\n",
    "# plt.ylim([-.04,.3])\n",
    "sns.despine()\n",
    "\n",
    "plt.figure(figsize=(2.25,2.25))\n",
    "# plt.subplot(122)\n",
    "ax = sns.boxplot(x=\"Model\",y=\"Samples\",palette=tmp_palette,data=df_comparison)\n",
    "sns.stripplot(x=\"Model\",y=\"Samples\",palette=tmp_palette,dodge=True,data=df_comparison,zorder=0)\n",
    "plt.title('Sample efficiency', fontsize=10,y=1.1)\n",
    "plt.xlabel('Models',fontsize=10)\n",
    "plt.ylabel('Number of samples', fontsize=10)\n",
    "# plt.xticks(fontsize=8,rotation=-15);\n",
    "plt.xticks(np.arange(3), ['Vanilla','Combined\\npretraining','Trained\\nvanilla'],fontsize=8);\n",
    "plt.yticks(fontsize=8);\n",
    "# plt.ylim([-.04,.3])\n",
    "sns.despine()\n",
    "\n",
    "plt.tight_layout()\n",
    "plt.savefig(figuredir + 'Expt10_SampleEfficiency.png',dpi=300)\n",
    "\n",
    "\n",
    "print('Mean generalization performance and sample efficiency metrics')\n",
    "print('Vanilla accuracy:', df_comparison.loc[df_comparison.Model=='Vanilla'].Accuracy.mean(), '| Sample efficiency:', df_comparison.loc[df_comparison.Model=='Vanilla'].Samples.mean())\n",
    "print('Pretrained accuracy:', df_comparison.loc[df_comparison.Model=='Pretrained'].Accuracy.mean(), '| Sample efficiency:', df_comparison.loc[df_comparison.Model=='Pretrained'].Samples.mean())\n",
    "print('Vanilla trained accuracy:', df_comparison.loc[df_comparison.Model=='Trained Vanilla'].Accuracy.mean(), '| Sample efficiency:', df_comparison.loc[df_comparison.Model=='Trained Vanilla'].Samples.mean())\n",
    "print('Proportion of samples on the trained vanilla model relative to pretrained model:', df_comparison.loc[df_comparison.Model=='Trained Vanilla'].Samples.mean()/df_comparison.loc[df_comparison.Model=='Pretrained'].Samples.mean())"
   ]
  },
  {
   "cell_type": "code",
   "execution_count": 69,
   "metadata": {},
   "outputs": [
    {
     "data": {
      "image/png": "[encoded data removed]",
      "text/plain": [
       "<Figure size 180x180 with 1 Axes>"
      ]
     },
     "metadata": {},
     "output_type": "display_data"
    }
   ],
   "source": [
    "# df_normalized = pd.DataFrame()\n",
    "# # df_normalized = df_ps_combined.copy()\n",
    "\n",
    "# Normalize all PS and decoding scores for each domain\n",
    "for domain in ['Sensory','Logic','Motor']:\n",
    "    tmpdf = df_ps_combined.loc[df_ps_combined.Domain==domain].copy()\n",
    "    tmpps = (tmpdf.Parallelism.values - tmpdf.Parallelism.min())/np.max(tmpdf.Parallelism.max())\n",
    "    tmpdf['Parallelism'] = tmpps\n",
    "    df_normalized = df_normalized.append(tmpdf)\n",
    "\n",
    "tmp = sns.color_palette('colorblind')\n",
    "palette = [tmp[2],tmp[1],tmp[0]]\n",
    "\n",
    "plt.figure(figsize=(2.5,2.5))\n",
    "ax = sns.kdeplot(x=\"DepthCount\",y=\"Parallelism\",hue=\"Domain\",hue_order=['Motor','Logic','Sensory'],data=df_ps_combined,palette=palette,alpha=0.5,legend=False,shade=True)\n",
    "plt.title('Parallelism across\\nANN hidden layers',fontsize=12)\n",
    "# plt.xticks([-5,1],['Input','Output'],fontsize=10,rotation=10)\n",
    "plt.xticks(fontsize=10)\n",
    "plt.xlabel('Hidden layer depth', fontsize=12)\n",
    "plt.ylabel('Parallelism',fontsize=12)\n",
    "plt.yticks(fontsize=10)\n",
    "# ax.legend_.set_bbox_to_anchor((0, .4))\n",
    "# ax.legend_._set_loc(2)\n",
    "# plt.setp(ax.get_legend().get_title(), fontsize='0')\n",
    "# plt.setp(ax.get_legend().get_texts(), fontsize='8')\n",
    "plt.tight_layout()\n",
    "# plt.savefig('ANNPSGradient.png',dpi=300)\n"
   ]
  }
 ],
 "metadata": {
  "kernelspec": {
   "display_name": "Python 3",
   "language": "python",
   "name": "python3"
  },
  "language_info": {
   "codemirror_mode": {
    "name": "ipython",
    "version": 3
   },
   "file_extension": ".py",
   "mimetype": "text/x-python",
   "name": "python",
   "nbconvert_exporter": "python",
   "pygments_lexer": "ipython3",
   "version": "3.7.6"
  }
 },
 "nbformat": 4,
 "nbformat_minor": 4
}
