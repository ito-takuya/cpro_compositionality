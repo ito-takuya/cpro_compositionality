{
 "cells": [
  {
   "cell_type": "markdown",
   "metadata": {},
   "source": [
    "# Experiment 12 - calculate PS as a function of pretraining epochs\n"
   ]
  },
  {
   "cell_type": "markdown",
   "metadata": {},
   "source": [
    "`~/miniconda3/bin/python experiment12_zeroshot_reviewerFixedPretrainingEpochsXcalculatePS.py --pretraining --rule2pretraining --cuda --simstart 0 --nsimulations 40 --pretrain_epochs 5`"
   ]
  },
  {
   "cell_type": "code",
   "execution_count": 2,
   "metadata": {},
   "outputs": [],
   "source": [
    "import numpy as np\n",
    "import torch\n",
    "import scipy.stats as stats\n",
    "import matplotlib.pyplot as plt\n",
    "import seaborn as sns\n",
    "%matplotlib inline\n",
    "from model import analysis\n",
    "from importlib import reload\n",
    "import tools\n",
    "import pandas as pd\n",
    "analysis = reload(analysis)\n",
    "plt.rcParams['font.sans-serif'] = \"Arial\"\n",
    "import h5py\n",
    "import nibabel as nib\n",
    "import os"
   ]
  },
  {
   "cell_type": "code",
   "execution_count": 3,
   "metadata": {},
   "outputs": [],
   "source": [
    "datadir = '../../data/model_results/experiment12/'\n",
    "\n",
    "# figuredir = '../figures/manuscriptFigures_v2/SFig_ReversedPretraining/'\n",
    "figuredir = '../manuscripts/neurips2022/figures/SFig_PSthroughPretraining/'\n",
    "\n",
    "\n",
    "palette = sns.color_palette(\"Set2\")\n"
   ]
  },
  {
   "cell_type": "markdown",
   "metadata": {},
   "source": [
    "# Load data"
   ]
  },
  {
   "cell_type": "code",
   "execution_count": 5,
   "metadata": {},
   "outputs": [],
   "source": [
    "# num_epochs = [10, 20, 50, 100, 200, 300, 400, 500, 600, 700, 800, 900, 1000]\n",
    "num_epochs = [10, 20, 30, 40, 50, 60, 70, 80, 90, 100,110,120, 130, 140, 150,160,170,180,190, 200, 210,220,230,240, 250,260,270,280,290, 300] #, 350, 400, 450, 500]\n",
    "# num_epochs = [100, 200, 300, 400, 500, 600, 700, 800, 900,1000]\n",
    "simstart = 0 \n",
    "simend = 40\n",
    "\n",
    "#\n",
    "df = pd.read_csv(datadir + 'expt12_adam_zeroshot_2layers_pretraining' + str(num_epochs[0]) + '_2rulepretraining' + str(num_epochs[0]) + '_simData' + str(simstart) + '.csv')\n",
    "df.insert(len(df.columns),\"Simulation\",list(np.repeat(simstart,len(df))),True)\n",
    "df.insert(len(df.columns),\"Layers\",list(np.repeat(2,len(df))),True)\n",
    "df.insert(len(df.columns),\"Training\",list(np.repeat('Combined',len(df))),True)\n",
    "df.insert(len(df.columns),\"NumEpochs\",list(np.repeat(num_epochs[0],len(df))),True)\n",
    "\n",
    "for epoch in num_epochs:\n",
    "    for i in range(simstart+1,simend):\n",
    "            ####\n",
    "            # 2 layers\n",
    "            #\n",
    "            tmp = pd.read_csv(datadir + 'expt12_adam_zeroshot_2layers_pretraining' + str(epoch) + '_2rulepretraining' + str(epoch) + '_simData' + str(i) + '.csv')\n",
    "            tmp.insert(len(tmp.columns),\"Simulation\",list(np.repeat(i,len(tmp))),True)\n",
    "            tmp.insert(len(tmp.columns),\"Layers\",list(np.repeat(2,len(tmp))),True)\n",
    "            tmp.insert(len(tmp.columns),\"Training\",list(np.repeat('Combined',len(tmp))),True)\n",
    "            tmp.insert(len(tmp.columns),\"NumEpochs\",list(np.repeat(epoch,len(tmp))),True)\n",
    "            tmp['LogicAvg'] = tmp[['LogicPS1', 'LogicPS2']].mean(axis=1)\n",
    "            tmp['SensoryAvg'] = tmp[['SensoryPS1', 'SensoryPS2']].mean(axis=1)\n",
    "            tmp['MotorAvg'] = tmp[['MotorPS1', 'MotorPS2']].mean(axis=1)\n",
    "            tmp['PSavg'] = tmp[['LogicAvg', 'SensoryAvg','MotorAvg']].mean(axis=1)\n",
    "            df = df.append(tmp)\n",
    "\n",
    "df.Accuracy = df.Accuracy.values*100.0\n",
    "\n",
    "# df_adam0.Accuracy = df_adam0.Accuracy.values*100.0\n",
    "# df_adam0_1rule.Accuracy = df_adam0_1rule.Accuracy.values*100.0\n",
    "# df_adam0_nopretraining.Accuracy = df_adam0_nopretraining.Accuracy.values*100.0\n",
    "# df_all['Training'] = df_all['Training'].replace({'Concept pretraining': 'Primitives pretraining'})"
   ]
  },
  {
   "cell_type": "code",
   "execution_count": 24,
   "metadata": {},
   "outputs": [
    {
     "data": {
      "text/plain": [
       "array([ 0,  5, 10, 15, 20, 25, 30])"
      ]
     },
     "execution_count": 24,
     "metadata": {},
     "output_type": "execute_result"
    }
   ],
   "source": [
    "np.arange(0,len(num_epochs)+1,5)"
   ]
  },
  {
   "cell_type": "code",
   "execution_count": 23,
   "metadata": {},
   "outputs": [
    {
     "data": {
      "text/plain": [
       "array([  0,  50, 100, 150, 200, 250, 300])"
      ]
     },
     "execution_count": 23,
     "metadata": {},
     "output_type": "execute_result"
    }
   ],
   "source": [
    "np.arange(0,301,50)"
   ]
  },
  {
   "cell_type": "code",
   "execution_count": 27,
   "metadata": {},
   "outputs": [
    {
     "data": {
      "text/plain": [
       "array([ 10,  60, 110, 160, 210, 260])"
      ]
     },
     "execution_count": 27,
     "metadata": {},
     "output_type": "execute_result"
    }
   ],
   "source": [
    "np.arange(10,301,50)"
   ]
  },
  {
   "cell_type": "code",
   "execution_count": 48,
   "metadata": {},
   "outputs": [],
   "source": [
    "tmp_x = num_epochs[::4].append(300)"
   ]
  },
  {
   "cell_type": "code",
   "execution_count": 52,
   "metadata": {},
   "outputs": [
    {
     "data": {
      "text/plain": [
       "[10, 60, 110, 160, 210, 260]"
      ]
     },
     "execution_count": 52,
     "metadata": {},
     "output_type": "execute_result"
    }
   ],
   "source": [
    "num_epochs[::5]"
   ]
  },
  {
   "cell_type": "code",
   "execution_count": 50,
   "metadata": {},
   "outputs": [],
   "source": [
    "tmp_x"
   ]
  },
  {
   "cell_type": "code",
   "execution_count": 40,
   "metadata": {},
   "outputs": [
    {
     "data": {
      "text/plain": [
       "[array([ 0,  5, 10, 15, 20, 25]), 29]"
      ]
     },
     "execution_count": 40,
     "metadata": {},
     "output_type": "execute_result"
    }
   ],
   "source": [
    "[np.arange(0,len(num_epochs),5),29]"
   ]
  },
  {
   "cell_type": "code",
   "execution_count": 74,
   "metadata": {},
   "outputs": [
    {
     "data": {
      "image/png": "[encoded data removed]",
      "text/plain": [
       "<Figure size 180x144 with 1 Axes>"
      ]
     },
     "metadata": {
      "needs_background": "light"
     },
     "output_type": "display_data"
    }
   ],
   "source": [
    "xticks = [0, 4, 9, 14, 19 ,24, 29]\n",
    "xtick_labels = [10, 50, 100, 150, 200, 250,300]\n",
    "plt.figure(figsize=(2.5,2.))\n",
    "# ax = sns.boxplot(x=\"NumEpochs\",y=\"PSavg\",palette='plasma',data=df,sym='')\n",
    "ax = sns.barplot(x=\"NumEpochs\",y=\"PSavg\",palette='plasma',data=df)\n",
    "# sns.stripplot(x=\"NumEpochs\",y=\"PSavg\",palette='plasma',data=df,dodge=True,zorder=0)\n",
    "plt.title('PS throughout\\npretraining epochs', fontsize=10)\n",
    "plt.xlabel('Pretraining Epochs', fontsize=10)\n",
    "plt.ylabel('PS', fontsize=10)\n",
    "plt.xticks(xticks,xtick_labels,rotation=-35,fontsize=8);\n",
    "plt.yticks(fontsize=8);\n",
    "# plt.ylim([0.2,.5])\n",
    "# handles, labels = ax.get_legend_handles_labels()\n",
    "# When creating the legend, only use the first two elements\n",
    "# to effectively remove the last two.\n",
    "# l = plt.legend(handles[0:2], labels[0:2],fontsize=6)\n",
    "# When creating the legend, only use the first two elements\n",
    "# to effectively remove the last two.\n",
    "# l = plt.legend(handles[0:4], labels[0:4],fontsize=8)\n",
    "# plt.ylim([-.07,.11])\n",
    "sns.despine()\n",
    "plt.tight_layout()\n",
    "plt.savefig(figuredir + 'Expt12_ModelPS_PretrainingEpochs.png', dpi=300)\n",
    "      \n",
    "# t, p = stats.ttest_ind(df_all.PSavg[df_all.Training=='Combined'].values[1:],df_all.PSavg[df_all.Training=='CombinedReversed'].values[1:])\n",
    "# print('Combined vs. Reversed Combined PS avg')\n",
    "# print('\\t t =', t, '| p =', p)\n"
   ]
  },
  {
   "cell_type": "code",
   "execution_count": 72,
   "metadata": {},
   "outputs": [
    {
     "data": {
      "image/png": "[encoded data removed]",
      "text/plain": [
       "<Figure size 180x144 with 1 Axes>"
      ]
     },
     "metadata": {
      "needs_background": "light"
     },
     "output_type": "display_data"
    }
   ],
   "source": [
    "xticks = [0, 4, 9, 14, 19 ,24, 29]\n",
    "xtick_labels = [10, 50, 100, 150, 200, 250,300]\n",
    "plt.figure(figsize=(2.5,2.))\n",
    "# ax = sns.boxplot(x=\"NumEpochs\",y=\"Accuracy\",palette='plasma',data=df,sym='')\n",
    "ax = sns.barplot(x=\"NumEpochs\",y=\"Accuracy\",palette='plasma',data=df)\n",
    "# sns.stripplot(x=\"NumEpochs\",y=\"Accuracy\",palette='plasma',data=df,dodge=True,zorder=0)\n",
    "plt.title('C-PRO Generalization\\nperformance', fontsize=10)\n",
    "plt.xlabel('Pretraining Epochs', fontsize=10)\n",
    "plt.ylabel('Accuracy (%)', fontsize=10)\n",
    "plt.xticks(xticks,xtick_labels,rotation=-35,fontsize=8);\n",
    "plt.yticks([0,50,100],[0,50,100],fontsize=8);\n",
    "# plt.ylim([0.2,.5])\n",
    "# handles, labels = ax.get_legend_handles_labels()\n",
    "# When creating the legend, only use the first two elements\n",
    "# to effectively remove the last two.\n",
    "# l = plt.legend(handles[0:2], labels[0:2],fontsize=6)\n",
    "# When creating the legend, only use the first two elements\n",
    "# to effectively remove the last two.\n",
    "# l = plt.legend(handles[0:4], labels[0:4],fontsize=8)\n",
    "# plt.ylim([-.07,.11])\n",
    "sns.despine()\n",
    "plt.tight_layout()\n",
    "plt.savefig(figuredir + 'Expt12_ModelAccuracy_PretrainingEpochs.png', dpi=300)\n",
    "      \n",
    "# t, p = stats.ttest_ind(df_all.PSavg[df_all.Training=='Combined'].values[1:],df_all.PSavg[df_all.Training=='CombinedReversed'].values[1:])\n",
    "# print('Combined vs. Reversed Combined PS avg')\n",
    "# print('\\t t =', t, '| p =', p)\n"
   ]
  },
  {
   "cell_type": "code",
   "execution_count": 69,
   "metadata": {},
   "outputs": [
    {
     "name": "stdout",
     "output_type": "stream",
     "text": [
      "SpearmanrResult(correlation=0.8723025583982202, pvalue=3.38212050829734e-10)\n",
      "(0.8771938022993999, 2.020036528243862e-10)\n"
     ]
    }
   ],
   "source": [
    "print(stats.spearmanr(df.groupby('NumEpochs').mean().Accuracy.values,df.groupby('NumEpochs').mean().PSavg.values))\n",
    "print(stats.pearsonr(df.groupby('NumEpochs').mean().Accuracy.values,df.groupby('NumEpochs').mean().PSavg.values))\n",
    "r, p = stats.spearmanr(df.groupby('NumEpochs').mean().Accuracy.values,df.groupby('NumEpochs').mean().PSavg.values)"
   ]
  },
  {
   "cell_type": "code",
   "execution_count": 73,
   "metadata": {
    "tags": []
   },
   "outputs": [
    {
     "data": {
      "image/png": "[encoded data removed]",
      "text/plain": [
       "<Figure size 144x144 with 1 Axes>"
      ]
     },
     "metadata": {
      "needs_background": "light"
     },
     "output_type": "display_data"
    }
   ],
   "source": [
    "df_tmp = df.groupby('NumEpochs').mean()\n",
    "plt.figure(figsize=(2.,2.))\n",
    "ax = sns.regplot(x=\"PSavg\",y=\"Accuracy\",data=df_tmp,line_kws={'linewidth':3}, color=sns.color_palette('Set2')[0], scatter_kws={'s':2,'color':sns.color_palette('Set2')[0]})\n",
    "plt.xlabel('Average PS',fontsize=10)\n",
    "plt.ylabel('Accuracy', fontsize=10)\n",
    "plt.xticks(fontsize=8)\n",
    "plt.yticks(fontsize=8)\n",
    "plt.title('C-PRO generalization\\nand average PS',fontsize=10)\n",
    "# ax.annotate('$\\rho=$' + str(r),fontsize=50) \n",
    "# plt.legend(fontsize=8,borderaxespad=0.3,borderpad=0.3,labelspacing=0.1,handlelength=0.5)\n",
    "# plt.ylim([-5,10])\n",
    "# plt.xlim([-0.13,0.13])\n",
    "sns.despine()\n",
    "plt.tight_layout()\n",
    "plt.savefig(figuredir + 'Expt12_PretrainingPSxAccuracy.png', dpi=300)\n"
   ]
  }
 ],
 "metadata": {
  "kernelspec": {
   "display_name": "Python 3 (ipykernel)",
   "language": "python",
   "name": "python3"
  },
  "language_info": {
   "codemirror_mode": {
    "name": "ipython",
    "version": 3
   },
   "file_extension": ".py",
   "mimetype": "text/x-python",
   "name": "python",
   "nbconvert_exporter": "python",
   "pygments_lexer": "ipython3",
   "version": "3.7.6"
  }
 },
 "nbformat": 4,
 "nbformat_minor": 4
}
