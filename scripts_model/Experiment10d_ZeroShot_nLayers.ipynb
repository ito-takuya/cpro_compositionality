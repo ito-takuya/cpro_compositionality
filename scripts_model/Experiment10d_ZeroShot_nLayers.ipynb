{
 "cells": [
  {
   "cell_type": "markdown",
   "metadata": {},
   "source": [
    "# Experiment 10 - 2 zeroshot learning evaluation"
   ]
  },
  {
   "cell_type": "code",
   "execution_count": 1,
   "metadata": {},
   "outputs": [],
   "source": [
    "import numpy as np\n",
    "import torch\n",
    "import scipy.stats as stats\n",
    "import matplotlib.pyplot as plt\n",
    "import seaborn as sns\n",
    "%matplotlib inline\n",
    "from model import analysis\n",
    "from importlib import reload\n",
    "import tools\n",
    "import pandas as pd\n",
    "analysis = reload(analysis)\n",
    "plt.rcParams['font.sans-serif'] = \"Arial\""
   ]
  },
  {
   "cell_type": "code",
   "execution_count": 2,
   "metadata": {},
   "outputs": [],
   "source": [
    "datadir = '../../data/model_results/experiment10/'\n",
    "figuredir = '../figures/manuscriptFigures/Fig7_BrainANN_PSOverlap/'\n",
    "palette = sns.color_palette(\"Set2\")\n"
   ]
  },
  {
   "cell_type": "markdown",
   "metadata": {},
   "source": [
    "# Load data"
   ]
  },
  {
   "cell_type": "code",
   "execution_count": 3,
   "metadata": {},
   "outputs": [],
   "source": [
    "simstart = 0 \n",
    "simend = 40\n",
    "nlayers = 3\n",
    "\n",
    "#\n",
    "df_adam0_combined = pd.read_csv(datadir + 'expt10_adam_zeroshot_' + str(nlayers) + 'layers_pretraining_2rulepretraining_simData' + str(simstart) + '.csv')\n",
    "df_adam0_combined.insert(len(df_adam0_combined.columns),\"Simulation\",list(np.repeat(simstart,len(df_adam0_combined))),True)\n",
    "df_adam0_combined.insert(len(df_adam0_combined.columns),\"Layers\",list(np.repeat(nlayers,len(df_adam0_combined))),True)\n",
    "df_adam0_combined.insert(len(df_adam0_combined.columns),\"Training\",list(np.repeat('Combined',len(df_adam0_combined))),True)\n",
    "\n",
    "for i in range(simstart+1,simend):\n",
    "    ####\n",
    "\n",
    "    #\n",
    "    tmp = pd.read_csv(datadir + 'expt10_adam_zeroshot_' + str(nlayers) + 'layers_pretraining_2rulepretraining_simData' + str(i) + '.csv')\n",
    "    tmp.insert(len(tmp.columns),\"Simulation\",list(np.repeat(i,len(tmp))),True)\n",
    "    tmp.insert(len(tmp.columns),\"Layers\",list(np.repeat(nlayers,len(tmp))),True)\n",
    "    tmp.insert(len(tmp.columns),\"Training\",list(np.repeat('Combined',len(tmp))),True)\n",
    "    tmp['LogicAvg'] = tmp[['LogicPS1', 'LogicPS2']].mean(axis=1)\n",
    "    tmp['SensoryAvg'] = tmp[['SensoryPS1', 'SensoryPS2']].mean(axis=1)\n",
    "    tmp['MotorAvg'] = tmp[['MotorPS1', 'MotorPS2']].mean(axis=1)\n",
    "    tmp['PSavg'] = tmp[['LogicAvg', 'SensoryAvg','MotorAvg']].mean(axis=1)\n",
    "    df_adam0_combined = df_adam0_combined.append(tmp)\n",
    "    \n",
    "    \n",
    "df_adam0_combined.Accuracy = df_adam0_combined.Accuracy.values*100.0\n",
    "df_all = df_adam0_combined"
   ]
  },
  {
   "cell_type": "markdown",
   "metadata": {},
   "source": [
    "## Plot PS as a function of depth for 'combined' pretraining"
   ]
  },
  {
   "cell_type": "markdown",
   "metadata": {},
   "source": [
    "#### First load in vanilla model with CPRO task training (from expt 8)"
   ]
  },
  {
   "cell_type": "code",
   "execution_count": 4,
   "metadata": {},
   "outputs": [],
   "source": [
    "depth_palette = ['#0099cc','#336699']\n",
    "\n",
    "\n",
    "df_ps_combined = {}\n",
    "df_ps_combined['Depth'] = []\n",
    "df_ps_combined['DepthCount'] = []\n",
    "df_ps_combined['Parallelism'] = []\n",
    "df_ps_combined['Domain'] = []\n",
    "df_ps_combined['Simulation'] = []\n",
    "\n",
    "for i in range(simstart,simend):\n",
    "    # Concept pretraining\n",
    "    tmpdf = df_adam0_combined.loc[df_adam0_combined.Simulation==i]\n",
    "    tmpdf = tmpdf.loc[tmpdf.NumPracticedTasks==0]\n",
    "    for depth in range(1,nlayers+1):\n",
    "        for rule in ['Sensory','Logic','Motor']:\n",
    "            df_ps_combined['Simulation'].append(i)\n",
    "            df_ps_combined['Depth'].append('Depth ' + str(depth))\n",
    "            df_ps_combined['DepthCount'].append(depth)\n",
    "            df_ps_combined['Domain'].append(rule)\n",
    "            df_ps_combined['Parallelism'].append(tmpdf[rule + 'PS' + str(depth)].values[0])\n",
    "\n",
    "\n",
    "\n",
    "df_ps_combined = pd.DataFrame(df_ps_combined)\n"
   ]
  },
  {
   "cell_type": "code",
   "execution_count": 19,
   "metadata": {},
   "outputs": [
    {
     "data": {
      "image/png": "[encoded data removed]",
      "text/plain": [
       "<Figure size 180x180 with 1 Axes>"
      ]
     },
     "metadata": {
      "needs_background": "light"
     },
     "output_type": "display_data"
    }
   ],
   "source": [
    "df_normalized = pd.DataFrame()\n",
    "# Normalize all PS and decoding scores for each domain\n",
    "for domain in ['Sensory','Logic','Motor']:\n",
    "    tmpdf = df_ps_combined.loc[df_ps_combined.Domain==domain].copy()\n",
    "#     tmpps = (tmpdf.Parallelism.values - tmpdf.Parallelism.min())/np.max(tmpdf.Parallelism.max())\n",
    "    tmpps = (tmpdf.Parallelism.values)/tmpdf.Parallelism.max()\n",
    "    tmpdf['Parallelism'] = tmpps\n",
    "    df_normalized = df_normalized.append(tmpdf)\n",
    "    \n",
    "palette = [sns.color_palette('colorblind')[0],sns.color_palette('colorblind')[1],sns.color_palette('colorblind')[2]]\n",
    "\n",
    "\n",
    "plt.figure(figsize=(2.5,2.5))\n",
    "ax = sns.kdeplot(x=\"DepthCount\",y=\"Parallelism\",hue=\"Domain\",hue_order=['Sensory','Logic','Motor',],data=df_normalized,palette=palette,alpha=.3,shade=True,legend=False)\n",
    "plt.title('Parallelism across\\nANN hidden layers',fontsize=10)\n",
    "# plt.xticks([-5,1],['Input','Output'],fontsize=10,rotation=10)\n",
    "plt.xticks(fontsize=8)\n",
    "plt.xlabel('Hidden layer depth\\n', fontsize=10)\n",
    "plt.ylabel('Normalized PS',fontsize=10)\n",
    "plt.yticks(fontsize=8)\n",
    "# ax.legend_.set_bbox_to_anchor((1, .2))\n",
    "# ax.legend_._set_loc(2)\n",
    "# plt.setp(ax.get_legend().get_title(), fontsize='0')\n",
    "# plt.setp(ax.get_legend().get_texts(), fontsize='8')\n",
    "plt.ylim([-0.55,1.4])\n",
    "sns.despine()\n",
    "plt.tight_layout()\n",
    "plt.savefig(figuredir + 'ANNPSGradient.png',dpi=300)\n"
   ]
  },
  {
   "cell_type": "code",
   "execution_count": null,
   "metadata": {},
   "outputs": [],
   "source": []
  }
 ],
 "metadata": {
  "kernelspec": {
   "display_name": "Python 3",
   "language": "python",
   "name": "python3"
  },
  "language_info": {
   "codemirror_mode": {
    "name": "ipython",
    "version": 3
   },
   "file_extension": ".py",
   "mimetype": "text/x-python",
   "name": "python",
   "nbconvert_exporter": "python",
   "pygments_lexer": "ipython3",
   "version": "3.7.6"
  }
 },
 "nbformat": 4,
 "nbformat_minor": 4
}
