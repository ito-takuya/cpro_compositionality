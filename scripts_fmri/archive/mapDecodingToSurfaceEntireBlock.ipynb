{
 "cells": [
  {
   "cell_type": "markdown",
   "metadata": {},
   "source": [
    "# Exploratory notebook for miniblock decoding analysis"
   ]
  },
  {
   "cell_type": "code",
   "execution_count": 2,
   "metadata": {},
   "outputs": [],
   "source": [
    "import numpy as np\n",
    "import scipy.stats as stats\n",
    "import h5py\n",
    "import nibabel as nib\n",
    "import matplotlib.pyplot as plt\n",
    "import seaborn as sns\n",
    "from importlib import reload\n",
    "import pandas as pd\n",
    "import loadTaskBehavioralData as task\n",
    "import tools\n",
    "import multiprocessing as mp\n",
    "import statsmodels.stats.multitest as mc\n",
    "%matplotlib inline"
   ]
  },
  {
   "cell_type": "markdown",
   "metadata": {},
   "source": [
    "#### Parameter set up"
   ]
  },
  {
   "cell_type": "code",
   "execution_count": 3,
   "metadata": {},
   "outputs": [],
   "source": [
    "projectdir = '/projects3/CPROCompositionality/'\n",
    "datadir = projectdir + 'data/processedData/' \n",
    "resultdir = projectdir + 'data/results/'\n",
    "subjNums = ['013','014','016','017','018','021','023','024','026','027','028',\n",
    "            '030','031','032','033','034','035','037','038','039','040','041',\n",
    "            '042','043','045','046','047','048','049','050','053','055','056',\n",
    "            '057','058','062','063','066','067','068','069','070','072','074',\n",
    "            '075','076','077','081','085','086','087','088','090','092','093',\n",
    "            '094','095','097','098','099','101','102','103','104','105','106',\n",
    "            '108','109','110','111','112','114','115','117','119','120','121',\n",
    "            '122','123','124','125','126','127','128','129','130','131','132',\n",
    "            '134','135','136','137','138','139','140','141']\n",
    "\n",
    "glasser = projectdir + 'data/Q1-Q6_RelatedParcellation210.LR.CorticalAreas_dil_Colors.32k_fs_RL.dlabel.nii'\n",
    "glasser = nib.load(glasser).get_data()\n",
    "glasser = np.squeeze(glasser)\n",
    "rois = np.arange(1,361)"
   ]
  },
  {
   "cell_type": "markdown",
   "metadata": {},
   "source": [
    "#### Load results for novelty decoding"
   ]
  },
  {
   "cell_type": "code",
   "execution_count": 4,
   "metadata": {},
   "outputs": [],
   "source": [
    "df_novelty = pd.read_csv(resultdir + 'CrossSubjectNoveltyDecoding/CrossSubjectWholeBlockNoveltyDecoding_allROIs.csv')\n",
    "chance = 0.5\n",
    "rois = np.unique(df_novelty.ROI)\n",
    "accuracy = []\n",
    "ps = []\n",
    "for roi in np.sort(rois):\n",
    "    tmp_df = df_novelty.loc[df_novelty.ROI==roi]\n",
    "    acc = tmp_df.DecodingAccuracy.values\n",
    "    p = stats.binom_test(np.mean(acc),n=len(acc),p=chance)\n",
    "    p = p/2.0 if np.mean(acc)>chance else 1.0-p/2.0\n",
    "    ps.append(p)\n",
    "    accuracy.append(np.mean(acc))\n",
    "\n",
    "qs = mc.fdrcorrection(ps)[0]\n",
    "accuracy = np.asarray(accuracy)\n",
    "sig_acc = np.multiply(accuracy,qs)\n",
    "data = np.zeros((len(accuracy),2))\n",
    "data[:,0] = accuracy\n",
    "data[:,1] = sig_acc\n",
    "tools.mapBackToSurface(data,resultdir + 'NoveltyDecodingWholeBlock')"
   ]
  },
  {
   "cell_type": "markdown",
   "metadata": {},
   "source": [
    "#### Load results for 64 task decoding"
   ]
  },
  {
   "cell_type": "code",
   "execution_count": 5,
   "metadata": {},
   "outputs": [],
   "source": [
    "rois = np.arange(1,361)\n",
    "chance = 1/64.0\n",
    "accuracy = []\n",
    "ps = []\n",
    "for roi in np.sort(rois):\n",
    "    df_64 = pd.read_csv(resultdir + 'CrossSubject64TaskDecoding/CrossSubjectWholeBlock64TaskDecoding_roi' + str(roi) + '.csv')\n",
    "    subjs = np.unique(df_64.Subject.values)\n",
    "    subjaccuracy = []\n",
    "    for subj in subjs:\n",
    "        tmpdf = df_64.loc[df_64.Subject==subj]\n",
    "        acc = np.mean(tmpdf.DecodingAccuracy.values)\n",
    "        subjaccuracy.append(acc)\n",
    "    t, p = stats.ttest_1samp(subjaccuracy,chance)\n",
    "    p = p/2.0 if np.mean(subjaccuracy)>chance else 1.0-p/2.0\n",
    "    ps.append(p)\n",
    "    accuracy.append(np.mean(subjaccuracy))\n",
    "\n",
    "qs = mc.fdrcorrection(ps)[0]\n",
    "accuracy = np.asarray(accuracy)\n",
    "sig_acc = np.multiply(accuracy,qs)\n",
    "data = np.zeros((len(accuracy),2))\n",
    "data[:,0] = accuracy\n",
    "data[:,1] = sig_acc\n",
    "tools.mapBackToSurface(data,resultdir + '64TaskDecodingWholeBlock')"
   ]
  },
  {
   "cell_type": "markdown",
   "metadata": {},
   "source": [
    "#### Load results for logic rule decoding"
   ]
  },
  {
   "cell_type": "code",
   "execution_count": 6,
   "metadata": {},
   "outputs": [],
   "source": [
    "rois = np.arange(1,361)\n",
    "chance = 1/4.0\n",
    "accuracy = []\n",
    "ps = []\n",
    "for roi in np.sort(rois):\n",
    "    df_logic = pd.read_csv(resultdir + 'CrossSubjectLogicRuleDecoding/CrossSubjectWholeBlockLogicRuleDecoding_roi' + str(roi) + '.csv')\n",
    "    subjs = np.unique(df_logic.Subject.values)\n",
    "    subjaccuracy = []\n",
    "    for subj in subjs:\n",
    "        tmpdf = df_logic.loc[df_logic.Subject==subj]\n",
    "        acc = np.mean(tmpdf.DecodingAccuracy.values)\n",
    "        subjaccuracy.append(acc)\n",
    "    t, p = stats.ttest_1samp(subjaccuracy,chance)\n",
    "    p = p/2.0 if np.mean(subjaccuracy)>chance else 1.0-p/2.0\n",
    "    ps.append(p)\n",
    "    accuracy.append(np.mean(subjaccuracy))\n",
    "\n",
    "qs = mc.fdrcorrection(ps)[0]\n",
    "accuracy = np.asarray(accuracy)\n",
    "sig_acc = np.multiply(accuracy,qs)\n",
    "data = np.zeros((len(accuracy),2))\n",
    "data[:,0] = accuracy\n",
    "data[:,1] = sig_acc\n",
    "tools.mapBackToSurface(data,resultdir + 'LogicRuleDecodingWholeBlock')"
   ]
  },
  {
   "cell_type": "markdown",
   "metadata": {},
   "source": [
    "#### Load results for sensory rule decoding"
   ]
  },
  {
   "cell_type": "code",
   "execution_count": 7,
   "metadata": {},
   "outputs": [],
   "source": [
    "rois = np.arange(1,361)\n",
    "chance = 1/4.0\n",
    "accuracy = []\n",
    "ps = []\n",
    "for roi in np.sort(rois):\n",
    "    df_sensory = pd.read_csv(resultdir + 'CrossSubjectSensoryRuleDecoding/CrossSubjectWholeBlockSensoryRuleDecoding_roi' + str(roi) + '.csv')\n",
    "    subjs = np.unique(df_sensory.Subject.values)\n",
    "    subjaccuracy = []\n",
    "    for subj in subjs:\n",
    "        tmpdf = df_sensory.loc[df_logic.Subject==subj]\n",
    "        acc = np.mean(tmpdf.DecodingAccuracy.values)\n",
    "        subjaccuracy.append(acc)\n",
    "    t, p = stats.ttest_1samp(subjaccuracy,chance)\n",
    "    p = p/2.0 if np.mean(subjaccuracy)>chance else 1.0-p/2.0\n",
    "    ps.append(p)\n",
    "    accuracy.append(np.mean(subjaccuracy))\n",
    "\n",
    "qs = mc.fdrcorrection(ps)[0]\n",
    "accuracy = np.asarray(accuracy)\n",
    "sig_acc = np.multiply(accuracy,qs)\n",
    "data = np.zeros((len(accuracy),2))\n",
    "data[:,0] = accuracy\n",
    "data[:,1] = sig_acc\n",
    "tools.mapBackToSurface(data,resultdir + 'SensoryRuleDecodingWholeBlock')"
   ]
  },
  {
   "cell_type": "markdown",
   "metadata": {},
   "source": [
    "#### Load results for motor rule decoding"
   ]
  },
  {
   "cell_type": "code",
   "execution_count": 8,
   "metadata": {},
   "outputs": [],
   "source": [
    "rois = np.arange(1,361)\n",
    "chance = 1/4.0\n",
    "accuracy = []\n",
    "ps = []\n",
    "for roi in np.sort(rois):\n",
    "    df_motor = pd.read_csv(resultdir + 'CrossSubjectMotorRuleDecoding/CrossSubjectWholeBlockMotorRuleDecoding_roi' + str(roi) + '.csv')\n",
    "    subjs = np.unique(df_motor.Subject.values)\n",
    "    subjaccuracy = []\n",
    "    for subj in subjs:\n",
    "        tmpdf = df_motor.loc[df_logic.Subject==subj]\n",
    "        acc = np.mean(tmpdf.DecodingAccuracy.values)\n",
    "        subjaccuracy.append(acc)\n",
    "    t, p = stats.ttest_1samp(subjaccuracy,chance)\n",
    "    p = p/2.0 if np.mean(subjaccuracy)>chance else 1.0-p/2.0\n",
    "    ps.append(p)\n",
    "    accuracy.append(np.mean(subjaccuracy))\n",
    "\n",
    "qs = mc.fdrcorrection(ps)[0]\n",
    "accuracy = np.asarray(accuracy)\n",
    "sig_acc = np.multiply(accuracy,qs)\n",
    "data = np.zeros((len(accuracy),2))\n",
    "data[:,0] = accuracy\n",
    "data[:,1] = sig_acc\n",
    "tools.mapBackToSurface(data,resultdir + 'MotorRuleDecodingWholeBlock')"
   ]
  }
 ],
 "metadata": {
  "kernelspec": {
   "display_name": "Python 3",
   "language": "python",
   "name": "python3"
  },
  "language_info": {
   "codemirror_mode": {
    "name": "ipython",
    "version": 3
   },
   "file_extension": ".py",
   "mimetype": "text/x-python",
   "name": "python",
   "nbconvert_exporter": "python",
   "pygments_lexer": "ipython3",
   "version": "3.7.3"
  }
 },
 "nbformat": 4,
 "nbformat_minor": 4
}
