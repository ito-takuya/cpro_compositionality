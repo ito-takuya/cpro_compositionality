{
 "cells": [
  {
   "cell_type": "markdown",
   "metadata": {},
   "source": [
    "# Exploratory notebook to map parallelism scores to surface"
   ]
  },
  {
   "cell_type": "code",
   "execution_count": 3,
   "metadata": {},
   "outputs": [
    {
     "name": "stderr",
     "output_type": "stream",
     "text": [
      "pixdim[1,2,3] should be non-zero; setting 0 dims to 1\n"
     ]
    }
   ],
   "source": [
    "import numpy as np\n",
    "import scipy.stats as stats\n",
    "import h5py\n",
    "import nibabel as nib\n",
    "import nilearn.plotting as plotting\n",
    "import matplotlib.pyplot as plt\n",
    "import seaborn as sns\n",
    "from importlib import reload\n",
    "import pandas as pd\n",
    "import loadTaskBehavioralData as task\n",
    "# import tools\n",
    "import multiprocessing as mp\n",
    "import statsmodels.stats.multitest as mc\n",
    "%matplotlib inline\n",
    "import hcp_utils as hcp\n"
   ]
  },
  {
   "cell_type": "markdown",
   "metadata": {},
   "source": [
    "#### Parameter set up"
   ]
  },
  {
   "cell_type": "code",
   "execution_count": 18,
   "metadata": {},
   "outputs": [
    {
     "name": "stderr",
     "output_type": "stream",
     "text": [
      "/Users/tito/miniconda3/lib/python3.7/site-packages/ipykernel_launcher.py:15: DeprecationWarning: get_data() is deprecated in favor of get_fdata(), which has a more predictable return type. To obtain get_data() behavior going forward, use numpy.asanyarray(img.dataobj).\n",
      "\n",
      "* deprecated from version: 3.0\n",
      "* Will raise <class 'nibabel.deprecator.ExpiredDeprecationError'> as of version: 5.0\n",
      "  from ipykernel import kernelapp as app\n"
     ]
    }
   ],
   "source": [
    "projectdir = '../../'\n",
    "datadir = projectdir + 'data/processedData/' \n",
    "resultdir = projectdir + 'data/results/'\n",
    "subjNums = ['013','014','016','017','018','021','023','024','026','027','028',\n",
    "            '030','031','032','033','034','035','037','038','039','040','041',\n",
    "            '042','043','045','046','047','048','049','050','053','055','056',\n",
    "            '057','058','062','063','066','067','068','069','070','072','074',\n",
    "            '075','076','077','081','085','086','087','088','090','092','093',\n",
    "            '094','095','097','098','099','101','102','103','104','105','106',\n",
    "            '108','109','110','111','112','114','115','117','119','120','121',\n",
    "            '122','123','124','125','126','127','128','129','130','131','132',\n",
    "            '134','135','136','137','138','139','140','141']\n",
    "\n",
    "glasser = projectdir + 'data/Q1-Q6_RelatedParcellation210.LR.CorticalAreas_dil_Colors.32k_fs_RL.dlabel.nii'\n",
    "glasser = nib.load(glasser).get_data()\n",
    "glasser = np.squeeze(glasser)\n",
    "rois = np.arange(1,361)\n",
    "\n",
    "#### Load in CAB-NP ROI labels\n",
    "cabn_labels = pd.read_csv(projectdir + 'data/CortexSubcortex_ColeAnticevic_NetPartition_wSubcorGSR_parcels_LR_LabelKey.txt',header=0,delimiter='\\t')\n",
    "df_labels = cabn_labels.iloc[0:360]\n",
    "df_labels.reset_index()\n",
    "del df_labels['INDEX'], df_labels[\"KEYVALUE\"]\n",
    "\n",
    "# Using final partition\n",
    "networkdef = df_labels['NETWORKKEY'].values\n",
    "# network mappings for final partition set\n",
    "networkmappings = {'fpn':7, 'vis1':1, 'vis2':2, 'smn':3, 'aud':8, 'lan':6, 'dan':5, 'con':4, 'dmn':9, \n",
    "                   'pmulti':10, 'none1':11, 'none2':12}\n",
    "\n",
    "fpn_ind = np.where(networkdef==networkmappings['fpn'])[0]\n",
    "con_ind = np.where(networkdef==networkmappings['con'])[0]\n",
    "ccn_ind = np.hstack((fpn_ind,con_ind))"
   ]
  },
  {
   "cell_type": "markdown",
   "metadata": {},
   "source": [
    "#### Load results for logic rule PS (GROUP-level)"
   ]
  },
  {
   "cell_type": "code",
   "execution_count": 20,
   "metadata": {},
   "outputs": [],
   "source": [
    "rois = np.arange(1,361)\n",
    "accuracy = []\n",
    "ps = []\n",
    "ps_scores = np.loadtxt(resultdir + 'ParallelismScore_LogicRules_GroupAverage.csv')\n",
    "nulldist = np.loadtxt(resultdir + 'ParallelismScore_LogicRules_GroupAverage_NullDistribution.csv')\n",
    "fwe_thresh = np.max(nulldist,axis=0)\n",
    "nsamples = len(fwe_thresh)\n",
    "alpha_ind = int(nsamples * .95)\n",
    "fwe_thresh = np.sort(fwe_thresh)[alpha_ind]\n",
    "data = np.zeros((360,2))\n",
    "data[:,0] = ps_scores\n",
    "data[:,1] = np.multiply(ps_scores,ps_scores>fwe_thresh)\n",
    "tools.mapBackToSurface(data,resultdir + 'LogicRulePSGroup')"
   ]
  },
  {
   "cell_type": "markdown",
   "metadata": {},
   "source": [
    "#### Load results for sensory rule PS (GROUP-level)"
   ]
  },
  {
   "cell_type": "code",
   "execution_count": 80,
   "metadata": {},
   "outputs": [],
   "source": [
    "rois = np.arange(1,361)\n",
    "accuracy = []\n",
    "ps = []\n",
    "ps_scores = np.loadtxt(resultdir + 'ParallelismScore_SensoryRules_GroupAverage.csv')\n",
    "nulldist = np.loadtxt(resultdir + 'ParallelismScore_SensoryRules_GroupAverage_NullDistribution.csv')\n",
    "fwe_thresh = np.max(nulldist,axis=0)\n",
    "nsamples = len(fwe_thresh)\n",
    "alpha_ind = int(nsamples * .95)\n",
    "fwe_thresh = np.sort(fwe_thresh)[alpha_ind]\n",
    "data = np.zeros((360,2))\n",
    "data[:,0] = ps_scores\n",
    "data[:,1] = np.multiply(ps_scores,ps_scores>fwe_thresh)\n",
    "tools.mapBackToSurface(data,resultdir + 'SensoryRulePSGroup')"
   ]
  },
  {
   "cell_type": "markdown",
   "metadata": {},
   "source": [
    "#### Load results for motor rule PS (GROUP-level)"
   ]
  },
  {
   "cell_type": "code",
   "execution_count": 81,
   "metadata": {},
   "outputs": [],
   "source": [
    "rois = np.arange(1,361)\n",
    "accuracy = []\n",
    "ps = []\n",
    "ps_scores = np.loadtxt(resultdir + 'ParallelismScore_MotorRules_GroupAverage.csv')\n",
    "nulldist = np.loadtxt(resultdir + 'ParallelismScore_MotorRules_GroupAverage_NullDistribution.csv')\n",
    "fwe_thresh = np.max(nulldist,axis=0)\n",
    "nsamples = len(fwe_thresh)\n",
    "alpha_ind = int(nsamples * .95)\n",
    "fwe_thresh = np.sort(fwe_thresh)[alpha_ind]\n",
    "data = np.zeros((360,2))\n",
    "data[:,0] = ps_scores\n",
    "data[:,1] = np.multiply(ps_scores,ps_scores>fwe_thresh)\n",
    "tools.mapBackToSurface(data,resultdir + 'MotorRulePSGroup')"
   ]
  }
 ],
 "metadata": {
  "kernelspec": {
   "display_name": "Python 3",
   "language": "python",
   "name": "python3"
  },
  "language_info": {
   "codemirror_mode": {
    "name": "ipython",
    "version": 3
   },
   "file_extension": ".py",
   "mimetype": "text/x-python",
   "name": "python",
   "nbconvert_exporter": "python",
   "pygments_lexer": "ipython3",
   "version": "3.7.6"
  }
 },
 "nbformat": 4,
 "nbformat_minor": 4
}
