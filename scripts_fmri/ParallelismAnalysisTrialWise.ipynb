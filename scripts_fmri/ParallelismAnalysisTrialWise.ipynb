{
 "cells": [
  {
   "cell_type": "markdown",
   "metadata": {},
   "source": [
    "# Exploratory notebook for miniblock decoding analysis\n",
    "#### Plot decoding as a function of miniblock"
   ]
  },
  {
   "cell_type": "code",
   "execution_count": 1,
   "metadata": {},
   "outputs": [],
   "source": [
    "import numpy as np\n",
    "import scipy.stats as stats\n",
    "import h5py\n",
    "import nibabel as nib\n",
    "import matplotlib.pyplot as plt\n",
    "import seaborn as sns\n",
    "from importlib import reload\n",
    "import pandas as pd\n",
    "import loadTaskBehavioralData as task\n",
    "import tools\n",
    "import multiprocessing as mp\n",
    "import statsmodels.stats.multitest as mc\n",
    "%matplotlib inline"
   ]
  },
  {
   "cell_type": "markdown",
   "metadata": {},
   "source": [
    "#### Parameter set up"
   ]
  },
  {
   "cell_type": "code",
   "execution_count": 125,
   "metadata": {},
   "outputs": [],
   "source": [
    "projectdir = '/projects3/CPROCompositionality/'\n",
    "datadir = projectdir + 'data/processedData/' \n",
    "resultdir = projectdir + 'data/results/'\n",
    "subjNums = ['013','014','016','017','018','021','023','024','026','027','028',\n",
    "            '030','031','032','033','034','035','037','038','039','040','041',\n",
    "            '042','043','045','046','047','048','049','050','053','055','056',\n",
    "            '057','058','062','063','066','067','068','069','070','072','074',\n",
    "            '075','076','077','081','085','086','087','088','090','092','093',\n",
    "            '094','095','097','098','099','101','102','103','104','105','106',\n",
    "            '108','109','110','111','112','114','115','117','119','120','121',\n",
    "            '122','123','124','125','126','127','128','129','130','131','132',\n",
    "            '134','135','136','137','138','139','140','141']\n",
    "\n",
    "glasser = projectdir + 'data/Q1-Q6_RelatedParcellation210.LR.CorticalAreas_dil_Colors.32k_fs_RL.dlabel.nii'\n",
    "glasser = nib.load(glasser).get_data()\n",
    "glasser = np.squeeze(glasser)\n",
    "rois = np.arange(1,361)\n",
    "\n",
    "#### Load in CAB-NP ROI labels\n",
    "cabn_labels = pd.read_csv(projectdir + 'data/CortexSubcortex_ColeAnticevic_NetPartition_wSubcorGSR_parcels_LR_LabelKey.txt',header=0,delimiter='\\t')\n",
    "df_labels = cabn_labels.iloc[0:360]\n",
    "df_labels.reset_index()\n",
    "del df_labels['INDEX'], df_labels[\"KEYVALUE\"]\n",
    "\n",
    "# Using final partition\n",
    "networkdef = df_labels['NETWORKKEY'].values\n",
    "# network mappings for final partition set\n",
    "networkmappings = {'fpn':7, 'vis1':1, 'vis2':2, 'smn':3, 'aud':8, 'lan':6, 'dan':5, 'con':4, 'dmn':9, \n",
    "                   'pmulti':10, 'none1':11, 'none2':12}\n",
    "\n",
    "fpn_ind = np.where(networkdef==networkmappings['fpn'])[0]\n",
    "con_ind = np.where(networkdef==networkmappings['con'])[0]\n",
    "ccn_ind = np.hstack((fpn_ind,con_ind))"
   ]
  },
  {
   "cell_type": "code",
   "execution_count": 187,
   "metadata": {},
   "outputs": [],
   "source": [
    "def moving_average(a, n=3) :\n",
    "    ret = np.cumsum(a, dtype=float)\n",
    "    ret[n:] = ret[n:] - ret[:-n]\n",
    "    return ret[n - 1:] / n"
   ]
  },
  {
   "cell_type": "markdown",
   "metadata": {},
   "source": [
    "#### Load in logic rule PS, nov v prac"
   ]
  },
  {
   "cell_type": "code",
   "execution_count": 133,
   "metadata": {},
   "outputs": [
    {
     "name": "stdout",
     "output_type": "stream",
     "text": [
      "Significant differences (after FDR) []\n",
      "Significant differences (before FDR) [ 63 277]\n",
      "\t [9 7]\n"
     ]
    }
   ],
   "source": [
    "h5f = h5py.File(resultdir + 'ParallelismScoreTrialwise/LogicRules.h5','r')\n",
    "ps_mat = h5f['data'][:]\n",
    "h5f.close()\n",
    "ps_pract_logic = np.zeros((360,len(subjNums)))\n",
    "ps_novel_logic = np.zeros((360,len(subjNums)))\n",
    "scount = 0\n",
    "for subj in subjNums:\n",
    "    df_subj = task.loadExperimentalData(subj)\n",
    "    # Find which tasks are practiced for this subject\n",
    "    tmpprac = df_subj.loc[df_subj.TaskNovelty=='Prac']\n",
    "    unique_prac_id = np.unique(tmpprac.TaskID.values)-1.0\n",
    "    unique_prac_id = unique_prac_id.astype(int)\n",
    "    # Find which tasks are novel for this subject\n",
    "    tmpnov = df_subj.loc[df_subj.TaskNovelty=='Novel']\n",
    "    unique_nov_id = np.unique(tmpnov.TaskID.values)-1.0\n",
    "    unique_nov_id = unique_nov_id.astype(int)\n",
    "    \n",
    "    ps_pract_logic[:,scount] = np.mean(ps_mat[:,unique_prac_id,scount],axis=1)\n",
    "    ps_novel_logic[:,scount] = np.mean(ps_mat[:,unique_nov_id,scount],axis=1)\n",
    "    \n",
    "    scount += 1\n",
    "        \n",
    "ts, ps = stats.ttest_rel(ps_pract_logic,ps_novel_logic,axis=1)\n",
    "i = 0\n",
    "for t in ts:\n",
    "    if t>0:\n",
    "        ps[i] = ps[i]/2.0\n",
    "    else:\n",
    "        ps[i] = 1.0-ps[i]/2.0\n",
    "    i += 1 \n",
    "qs = mc.fdrcorrection(ps)[1]\n",
    "\n",
    "print('Significant differences (after FDR)', np.where(qs[ccn_ind]<0.05)[0])\n",
    "if len(np.where(qs[ccn_ind]<0.05)[0])>0:\n",
    "    print('\\t',networkdef[np.where(qs[ccn_ind]<0.05)[0]])\n",
    "print('Significant differences (before FDR)', np.where(ps<0.05)[0])\n",
    "if len(np.where(ps<0.05)[0])>0:\n",
    "    print('\\t',networkdef[np.where(ps<0.05)[0]])\n",
    "        \n",
    "data_logic = np.zeros((360,3))\n",
    "data_logic[:,0] = np.mean(ps_pract_logic,axis=1)\n",
    "data_logic[:,1] = np.mean(ps_novel_logic,axis=1)\n",
    "data_logic[:,2] = np.mean(ps_pract_logic,axis=1)-np.mean(ps_novel_logic,axis=1)\n",
    "tools.mapBackToSurface(data_logic,resultdir + 'ParallelismScoreTrialwise/LogicRule_NovelVPrac')"
   ]
  },
  {
   "cell_type": "markdown",
   "metadata": {},
   "source": [
    "#### Plot whole-brain PS for Practiced V Novel for Logic Rule PS"
   ]
  },
  {
   "cell_type": "code",
   "execution_count": 148,
   "metadata": {},
   "outputs": [
    {
     "name": "stdout",
     "output_type": "stream",
     "text": [
      "t = -1.7705313891231693 | p = 0.0798463821701303\n"
     ]
    },
    {
     "data": {
      "image/png": "[encoded data removed]",
      "text/plain": [
       "<Figure size 504x288 with 1 Axes>"
      ]
     },
     "metadata": {
      "needs_background": "light"
     },
     "output_type": "display_data"
    }
   ],
   "source": [
    "df = {}\n",
    "df['PS'] = []\n",
    "df['Condition'] = []\n",
    "df['Subject'] = []\n",
    "df['PS'].extend(np.mean(ps_pract_logic,axis=0))\n",
    "df['Condition'].extend(np.repeat('Practiced',len(subjNums)))\n",
    "df['Subject'].extend(subjNums)\n",
    "df['PS'].extend(np.mean(ps_novel_logic,axis=0))\n",
    "df['Condition'].extend(np.repeat('Novel',len(subjNums)))\n",
    "df['Subject'].extend(subjNums)\n",
    "df = pd.DataFrame(df)\n",
    "plt.figure(figsize=(7,4))\n",
    "sns.boxplot(data=df,y='PS',x='Condition')\n",
    "plt.title('Practiced versus Novel PS\\nLogic rules', fontsize=20)\n",
    "plt.xticks(fontsize=16)\n",
    "plt.yticks(fontsize=16)\n",
    "plt.ylabel('Parallelism Score',fontsize=18)\n",
    "plt.xlabel('Condition',fontsize=18)\n",
    "t, p = stats.ttest_rel(np.mean(ps_pract_logic,axis=0),np.mean(ps_novel_logic,axis=0))\n",
    "print('t =', t, '| p =', p)"
   ]
  },
  {
   "cell_type": "markdown",
   "metadata": {},
   "source": [
    "#### Load in sensory rule PS, nov v prac"
   ]
  },
  {
   "cell_type": "code",
   "execution_count": 134,
   "metadata": {},
   "outputs": [
    {
     "name": "stdout",
     "output_type": "stream",
     "text": [
      "Significant differences (after FDR) []\n",
      "Significant differences (before FDR) [155]\n",
      "\t [2]\n"
     ]
    }
   ],
   "source": [
    "h5f = h5py.File(resultdir + 'ParallelismScoreTrialwise/SensoryRules.h5','r')\n",
    "ps_mat = h5f['data'][:]\n",
    "h5f.close()\n",
    "ps_pract_sensory = np.zeros((360,len(subjNums)))\n",
    "ps_novel_sensory = np.zeros((360,len(subjNums)))\n",
    "scount = 0\n",
    "for subj in subjNums:\n",
    "    df_subj = task.loadExperimentalData(subj)\n",
    "    # Find which tasks are practiced for this subject\n",
    "    tmpprac = df_subj.loc[df_subj.TaskNovelty=='Prac']\n",
    "    unique_prac_id = np.unique(tmpprac.TaskID.values)-1.0\n",
    "    unique_prac_id = unique_prac_id.astype(int)\n",
    "    # Find which tasks are novel for this subject\n",
    "    tmpnov = df_subj.loc[df_subj.TaskNovelty=='Novel']\n",
    "    unique_nov_id = np.unique(tmpnov.TaskID.values)-1.0\n",
    "    unique_nov_id = unique_nov_id.astype(int)\n",
    "    \n",
    "    ps_pract_sensory[:,scount] = np.mean(ps_mat[:,unique_prac_id,scount],axis=1)\n",
    "    ps_novel_sensory[:,scount] = np.mean(ps_mat[:,unique_nov_id,scount],axis=1)\n",
    "    \n",
    "    scount += 1\n",
    "        \n",
    "ts, ps = stats.ttest_rel(ps_pract_sensory,ps_novel_sensory,axis=1)\n",
    "i = 0\n",
    "for t in ts:\n",
    "    if t>0:\n",
    "        ps[i] = ps[i]/2.0\n",
    "    else:\n",
    "        ps[i] = 1.0-ps[i]/2.0\n",
    "    i += 1 \n",
    "qs = mc.fdrcorrection(ps)[1]\n",
    "\n",
    "print('Significant differences (after FDR)', np.where(qs<0.05)[0])\n",
    "if len(np.where(qs<0.05)[0])>0:\n",
    "    print('\\t',networkdef[np.where(qs<0.05)[0]])\n",
    "print('Significant differences (before FDR)', np.where(ps<0.05)[0])\n",
    "if len(np.where(ps<0.05)[0])>0:\n",
    "    print('\\t',networkdef[np.where(ps<0.05)[0]])\n",
    "        \n",
    "data_sensory = np.zeros((360,3))\n",
    "data_sensory[:,0] = np.mean(ps_pract_sensory,axis=1)\n",
    "data_sensory[:,1] = np.mean(ps_novel_sensory,axis=1)\n",
    "data_sensory[:,2] = np.mean(ps_pract_sensory,axis=1)-np.mean(ps_novel_sensory,axis=1)\n",
    "tools.mapBackToSurface(data_sensory,resultdir + 'ParallelismScoreTrialwise/SensoryRule_NovelVPrac')"
   ]
  },
  {
   "cell_type": "markdown",
   "metadata": {},
   "source": [
    "#### Plot whole-brain PS for Practiced V Novel for Sensory Rule PS"
   ]
  },
  {
   "cell_type": "code",
   "execution_count": 149,
   "metadata": {},
   "outputs": [
    {
     "name": "stdout",
     "output_type": "stream",
     "text": [
      "t = -1.5566808565589494 | p = 0.12287154245358954\n"
     ]
    },
    {
     "data": {
      "image/png": "[encoded data removed]",
      "text/plain": [
       "<Figure size 504x288 with 1 Axes>"
      ]
     },
     "metadata": {
      "needs_background": "light"
     },
     "output_type": "display_data"
    }
   ],
   "source": [
    "df = {}\n",
    "df['PS'] = []\n",
    "df['Condition'] = []\n",
    "df['Subject'] = []\n",
    "df['PS'].extend(np.mean(ps_pract_sensory,axis=0))\n",
    "df['Condition'].extend(np.repeat('Practiced',len(subjNums)))\n",
    "df['Subject'].extend(subjNums)\n",
    "df['PS'].extend(np.mean(ps_novel_sensory,axis=0))\n",
    "df['Condition'].extend(np.repeat('Novel',len(subjNums)))\n",
    "df['Subject'].extend(subjNums)\n",
    "df = pd.DataFrame(df)\n",
    "plt.figure(figsize=(7,4))\n",
    "sns.boxplot(data=df,y='PS',x='Condition')\n",
    "plt.title('Practiced versus Novel PS\\nsensory rules', fontsize=20)\n",
    "plt.xticks(fontsize=16)\n",
    "plt.yticks(fontsize=16)\n",
    "plt.ylabel('Parallelism Score',fontsize=18)\n",
    "plt.xlabel('Condition',fontsize=18)\n",
    "t, p = stats.ttest_rel(np.mean(ps_pract_sensory,axis=0),np.mean(ps_novel_sensory,axis=0))\n",
    "print('t =', t, '| p =', p)"
   ]
  },
  {
   "cell_type": "markdown",
   "metadata": {},
   "source": [
    "#### Load in motor rule PS, nov v prac"
   ]
  },
  {
   "cell_type": "code",
   "execution_count": 135,
   "metadata": {},
   "outputs": [
    {
     "name": "stdout",
     "output_type": "stream",
     "text": [
      "Significant differences (after FDR) []\n",
      "Significant differences (before FDR) [165 255]\n",
      "\t [12  9]\n"
     ]
    }
   ],
   "source": [
    "h5f = h5py.File(resultdir + 'ParallelismScoreTrialwise/MotorRules.h5','r')\n",
    "ps_mat = h5f['data'][:]\n",
    "h5f.close()\n",
    "ps_pract_motor = np.zeros((360,len(subjNums)))\n",
    "ps_novel_motor = np.zeros((360,len(subjNums)))\n",
    "scount = 0\n",
    "for subj in subjNums:\n",
    "    df_subj = task.loadExperimentalData(subj)\n",
    "    # Find which tasks are practiced for this subject\n",
    "    tmpprac = df_subj.loc[df_subj.TaskNovelty=='Prac']\n",
    "    unique_prac_id = np.unique(tmpprac.TaskID.values)-1.0\n",
    "    unique_prac_id = unique_prac_id.astype(int)\n",
    "    # Find which tasks are novel for this subject\n",
    "    tmpnov = df_subj.loc[df_subj.TaskNovelty=='Novel']\n",
    "    unique_nov_id = np.unique(tmpnov.TaskID.values)-1.0\n",
    "    unique_nov_id = unique_nov_id.astype(int)\n",
    "    \n",
    "    ps_pract_motor[:,scount] = np.mean(ps_mat[:,unique_prac_id,scount],axis=1)\n",
    "    ps_novel_motor[:,scount] = np.mean(ps_mat[:,unique_nov_id,scount],axis=1)\n",
    "    \n",
    "    scount += 1\n",
    "        \n",
    "ts, ps = stats.ttest_rel(ps_pract_motor,ps_novel_motor,axis=1)\n",
    "i = 0\n",
    "for t in ts:\n",
    "    if t>0:\n",
    "        ps[i] = ps[i]/2.0\n",
    "    else:\n",
    "        ps[i] = 1.0-ps[i]/2.0\n",
    "    i += 1 \n",
    "qs = mc.fdrcorrection(ps)[1]\n",
    "\n",
    "print('Significant differences (after FDR)', np.where(qs<0.05)[0])\n",
    "if len(np.where(qs<0.05)[0])>0:\n",
    "    print('\\t',networkdef[np.where(qs<0.05)[0]])\n",
    "print('Significant differences (before FDR)', np.where(ps<0.05)[0])\n",
    "if len(np.where(ps<0.05)[0])>0:\n",
    "    print('\\t',networkdef[np.where(ps<0.05)[0]])\n",
    "        \n",
    "data_motor = np.zeros((360,3))\n",
    "data_motor[:,0] = np.mean(ps_pract_motor,axis=1)\n",
    "data_motor[:,1] = np.mean(ps_novel_motor,axis=1)\n",
    "data_motor[:,2] = np.mean(ps_pract_motor,axis=1)-np.mean(ps_novel_motor,axis=1)\n",
    "tools.mapBackToSurface(data_motor,resultdir + 'ParallelismScoreTrialwise/MotorRule_NovelVPrac')"
   ]
  },
  {
   "cell_type": "markdown",
   "metadata": {},
   "source": [
    "#### Plot whole-brain PS for Practiced V Novel for Motor Rule PS"
   ]
  },
  {
   "cell_type": "code",
   "execution_count": 150,
   "metadata": {},
   "outputs": [
    {
     "name": "stdout",
     "output_type": "stream",
     "text": [
      "t = -1.7647315537360886 | p = 0.08082277548134403\n"
     ]
    },
    {
     "data": {
      "image/png": "[encoded data removed]",
      "text/plain": [
       "<Figure size 504x288 with 1 Axes>"
      ]
     },
     "metadata": {
      "needs_background": "light"
     },
     "output_type": "display_data"
    }
   ],
   "source": [
    "df = {}\n",
    "df['PS'] = []\n",
    "df['Condition'] = []\n",
    "df['Subject'] = []\n",
    "df['PS'].extend(np.mean(ps_pract_motor,axis=0))\n",
    "df['Condition'].extend(np.repeat('Practiced',len(subjNums)))\n",
    "df['Subject'].extend(subjNums)\n",
    "df['PS'].extend(np.mean(ps_novel_motor,axis=0))\n",
    "df['Condition'].extend(np.repeat('Novel',len(subjNums)))\n",
    "df['Subject'].extend(subjNums)\n",
    "df = pd.DataFrame(df)\n",
    "plt.figure(figsize=(7,4))\n",
    "sns.boxplot(data=df,y='PS',x='Condition')\n",
    "plt.title('Practiced versus Novel PS\\nmotor rules', fontsize=20)\n",
    "plt.xticks(fontsize=16)\n",
    "plt.yticks(fontsize=16)\n",
    "plt.ylabel('Parallelism Score',fontsize=18)\n",
    "plt.xlabel('Condition',fontsize=18)\n",
    "t, p = stats.ttest_rel(np.mean(ps_pract_motor,axis=0),np.mean(ps_novel_motor,axis=0))\n",
    "print('t =', t, '| p =', p)"
   ]
  },
  {
   "cell_type": "markdown",
   "metadata": {},
   "source": [
    "# Combination of logic, sensory, and motor differences in PS"
   ]
  },
  {
   "cell_type": "code",
   "execution_count": 142,
   "metadata": {},
   "outputs": [
    {
     "name": "stdout",
     "output_type": "stream",
     "text": [
      "Significant differences (after FDR) []\n",
      "Significant differences (before FDR) [ 15  19 145 158 165 255]\n",
      "\t [ 2  2  5  2 12  9]\n"
     ]
    }
   ],
   "source": [
    "prac_combo = ps_pract_logic + ps_pract_sensory + ps_pract_motor\n",
    "novel_combo = ps_novel_logic + ps_novel_sensory + ps_novel_motor\n",
    "\n",
    "t, p = stats.ttest_rel(prac_combo,novel_combo,axis=1)\n",
    "# i = 0\n",
    "# for t in ts:\n",
    "#     if t>0:\n",
    "#         ps[i] = ps[i]/2.0\n",
    "#     else:\n",
    "#         ps[i] = 1.0-ps[i]/2.0\n",
    "#     i += 1 \n",
    "qs = mc.fdrcorrection(ps)[1]\n",
    "\n",
    "print('Significant differences (after FDR)', np.where(qs<0.05)[0])\n",
    "if len(np.where(qs<0.05)[0])>0:\n",
    "    print('\\t',networkdef[np.where(qs<0.05)[0]])\n",
    "print('Significant differences (before FDR)', np.where(ps<0.05)[0])\n",
    "if len(np.where(ps<0.05)[0])>0:\n",
    "    print('\\t',networkdef[np.where(ps<0.05)[0]])\n",
    "    \n",
    "data_combo = np.zeros((360,3))\n",
    "data_combo[:,0] = np.mean(prac_combo,axis=1)\n",
    "data_combo[:,1] = np.mean(novel_combo,axis=1)\n",
    "data_combo[:,2] = np.mean(prac_combo,axis=1)-np.mean(novel_combo,axis=1)\n",
    "tools.mapBackToSurface(data_combo,resultdir + 'ParallelismScoreTrialwise/3RuleCombo_NovelVPrac')"
   ]
  },
  {
   "cell_type": "markdown",
   "metadata": {},
   "source": [
    "#### Plot whole-brain PS for Practiced V Novel for all 3 rules PS"
   ]
  },
  {
   "cell_type": "code",
   "execution_count": 151,
   "metadata": {},
   "outputs": [
    {
     "name": "stdout",
     "output_type": "stream",
     "text": [
      "t = -3.189576038453279 | p = 0.0019305967152210808\n"
     ]
    },
    {
     "data": {
      "image/png": "[encoded data removed]",
      "text/plain": [
       "<Figure size 504x288 with 1 Axes>"
      ]
     },
     "metadata": {
      "needs_background": "light"
     },
     "output_type": "display_data"
    }
   ],
   "source": [
    "df = {}\n",
    "df['PS'] = []\n",
    "df['Condition'] = []\n",
    "df['Subject'] = []\n",
    "df['PS'].extend(np.mean(prac_combo,axis=0))\n",
    "df['Condition'].extend(np.repeat('Practiced',len(subjNums)))\n",
    "df['Subject'].extend(subjNums)\n",
    "df['PS'].extend(np.mean(novel_combo,axis=0))\n",
    "df['Condition'].extend(np.repeat('Novel',len(subjNums)))\n",
    "df['Subject'].extend(subjNums)\n",
    "df = pd.DataFrame(df)\n",
    "plt.figure(figsize=(7,4))\n",
    "sns.boxplot(data=df,y='PS',x='Condition')\n",
    "plt.title('Practiced versus Novel PS\\nCombined rules', fontsize=20)\n",
    "plt.xticks(fontsize=16)\n",
    "plt.yticks(fontsize=16)\n",
    "plt.ylabel('Parallelism Score',fontsize=18)\n",
    "plt.xlabel('Condition',fontsize=18)\n",
    "t, p = stats.ttest_rel(np.mean(prac_combo,axis=0),np.mean(novel_combo,axis=0))\n",
    "print('t =', t, '| p =', p)"
   ]
  },
  {
   "cell_type": "markdown",
   "metadata": {},
   "source": [
    "# Negation PS scores"
   ]
  },
  {
   "cell_type": "code",
   "execution_count": 118,
   "metadata": {},
   "outputs": [
    {
     "name": "stdout",
     "output_type": "stream",
     "text": [
      "Significant differences (after FDR) []\n",
      "Significant differences (before FDR) [ 93 128 255 358]\n",
      "\t [9 6 9 4]\n"
     ]
    }
   ],
   "source": [
    "h5f = h5py.File(resultdir + 'ParallelismScoreTrialwise/LogicRules.h5','r')\n",
    "ps_mat = h5f['data'][:]\n",
    "h5f.close()\n",
    "ps_pos = np.zeros((360,len(subjNums)))\n",
    "ps_neg = np.zeros((360,len(subjNums)))\n",
    "scount = 0\n",
    "for subj in subjNums:\n",
    "    df_subj = task.loadExperimentalData(subj)\n",
    "    # Find which tasks are negations for this subject\n",
    "    df_both = df_subj.loc[df_subj.LogicRules=='**BOTH**']\n",
    "    unique_both_id = np.unique(df_both.TaskID.values)-1.0\n",
    "    df_either = df_subj.loc[df_subj.LogicRules=='*EITHER*']\n",
    "    unique_either_id = np.unique(df_either.TaskID.values)-1.0\n",
    "    affirmative_ind = np.hstack((unique_both_id,unique_either_id))\n",
    "    \n",
    "    # Find which tasks are negations for this subject\n",
    "    df_nboth = df_subj.loc[df_subj.LogicRules=='NOT*BOTH']\n",
    "    unique_nboth_id = np.unique(df_nboth.TaskID.values)-1.0\n",
    "    df_neither = df_subj.loc[df_subj.LogicRules=='NEITHER*']\n",
    "    unique_neither_id = np.unique(df_neither.TaskID.values)-1.0\n",
    "    negation_ind = np.hstack((unique_nboth_id,unique_neither_id))\n",
    "    \n",
    "    negation_ind = negation_ind.astype(int)\n",
    "    affirmative_ind = affirmative_ind.astype(int)\n",
    "    ps_pos[:,scount] = np.mean(ps_mat[:,affirmative_ind,scount],axis=1)\n",
    "    ps_neg[:,scount] = np.mean(ps_mat[:,negation_ind,scount],axis=1)\n",
    "    \n",
    "    scount += 1\n",
    "        \n",
    "        \n",
    "ts, ps = stats.ttest_rel(ps_pos,ps_neg,axis=1)\n",
    "i = 0\n",
    "for t in ts:\n",
    "    if t>0:\n",
    "        ps[i] = ps[i]/2.0\n",
    "    else:\n",
    "        ps[i] = 1.0-ps[i]/2.0\n",
    "    i += 1 \n",
    "qs = mc.fdrcorrection(ps)[1]\n",
    "\n",
    "print('Significant differences (after FDR)', np.where(qs<0.05)[0])\n",
    "if len(np.where(qs<0.05)[0])>0:\n",
    "    print('\\t',networkdef[np.where(qs<0.05)[0]])\n",
    "print('Significant differences (before FDR)', np.where(ps<0.05)[0])\n",
    "if len(np.where(ps<0.05)[0])>0:\n",
    "    print('\\t',networkdef[np.where(ps<0.05)[0]])\n",
    "data = np.zeros((360,3))\n",
    "data[:,0] = np.mean(ps_pos,axis=1)\n",
    "data[:,1] = np.mean(ps_neg,axis=1)\n",
    "data[:,2] = np.mean(ps_pos,axis=1)-np.mean(ps_neg,axis=1)\n",
    "tools.mapBackToSurface(data,resultdir + 'ParallelismScoreTrialwise/LogicRuleNegation')"
   ]
  },
  {
   "cell_type": "markdown",
   "metadata": {},
   "source": [
    "#### Plot whole-brain PS for Affirmative v Negation (logic rule) PS"
   ]
  },
  {
   "cell_type": "code",
   "execution_count": 152,
   "metadata": {},
   "outputs": [
    {
     "name": "stdout",
     "output_type": "stream",
     "text": [
      "t = -1.6198758017355737 | p = 0.1085739556352574\n"
     ]
    },
    {
     "data": {
      "image/png": "[encoded data removed]",
      "text/plain": [
       "<Figure size 504x288 with 1 Axes>"
      ]
     },
     "metadata": {
      "needs_background": "light"
     },
     "output_type": "display_data"
    }
   ],
   "source": [
    "df = {}\n",
    "df['PS'] = []\n",
    "df['Condition'] = []\n",
    "df['Subject'] = []\n",
    "df['PS'].extend(np.mean(ps_pos,axis=0))\n",
    "df['Condition'].extend(np.repeat('Affirmative',len(subjNums)))\n",
    "df['Subject'].extend(subjNums)\n",
    "df['PS'].extend(np.mean(ps_neg,axis=0))\n",
    "df['Condition'].extend(np.repeat('Negation',len(subjNums)))\n",
    "df['Subject'].extend(subjNums)\n",
    "df = pd.DataFrame(df)\n",
    "plt.figure(figsize=(7,4))\n",
    "sns.boxplot(data=df,y='PS',x='Condition')\n",
    "plt.title('Affirmative versus Negative PS\\nNegation contrast', fontsize=20)\n",
    "plt.xticks(fontsize=16)\n",
    "plt.yticks(fontsize=16)\n",
    "plt.ylabel('Parallelism Score',fontsize=18)\n",
    "plt.xlabel('Condition',fontsize=18)\n",
    "t, p = stats.ttest_rel(np.mean(ps_pos,axis=0),np.mean(ps_neg,axis=0))\n",
    "print('t =', t, '| p =', p)"
   ]
  }
 ],
 "metadata": {
  "kernelspec": {
   "display_name": "Python 3",
   "language": "python",
   "name": "python3"
  },
  "language_info": {
   "codemirror_mode": {
    "name": "ipython",
    "version": 3
   },
   "file_extension": ".py",
   "mimetype": "text/x-python",
   "name": "python",
   "nbconvert_exporter": "python",
   "pygments_lexer": "ipython3",
   "version": "3.7.3"
  }
 },
 "nbformat": 4,
 "nbformat_minor": 4
}
