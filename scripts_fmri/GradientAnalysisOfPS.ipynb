{
 "cells": [
  {
   "cell_type": "markdown",
   "metadata": {},
   "source": [
    "# Evaluate the cortical distribution of Sensory, Logic, and Motor Parallelism with the Margulies hierarchical gradients"
   ]
  },
  {
   "cell_type": "code",
   "execution_count": 1,
   "metadata": {},
   "outputs": [],
   "source": [
    "import numpy as np\n",
    "import nibabel as nib\n",
    "import scipy.stats as stats\n",
    "import matplotlib.pyplot as plt\n",
    "import seaborn as sns\n",
    "%matplotlib inline\n",
    "import pandas as pd\n",
    "sns.set_style(\"whitegrid\")"
   ]
  },
  {
   "cell_type": "code",
   "execution_count": 49,
   "metadata": {},
   "outputs": [],
   "source": [
    "# Load network\n",
    "# Using final partition\n",
    "networkdef = np.loadtxt('../../data/network_partition.txt')\n",
    "networkorder = np.asarray(sorted(range(len(networkdef)), key=lambda k: networkdef[k]))\n",
    "networkorder.shape = (len(networkorder),1)\n",
    "# network mappings for final partition set\n",
    "networkmappings = {'fpn':7, 'vis1':1, 'vis2':2, 'smn':3, 'aud':8, 'lan':6, 'dan':5, 'con':4, 'dmn':9, \n",
    "                   'pmulti':10, 'none1':11, 'none2':12}\n",
    "networks = networkmappings.keys()"
   ]
  },
  {
   "cell_type": "markdown",
   "metadata": {},
   "source": [
    "#### Load in gradient, parallelism, standard decoding maps, and parcellation maps"
   ]
  },
  {
   "cell_type": "code",
   "execution_count": 2,
   "metadata": {},
   "outputs": [],
   "source": [
    "datadir = '../../data/results/'\n",
    "\n",
    "rules = ['Sensory', 'Logic', 'Motor']\n",
    "ps = {}\n",
    "decoding = {}\n",
    "\n",
    "for domain in rules:\n",
    "    ps[domain] = nib.load(datadir + domain + 'RulePSGroup.dscalar.nii').get_fdata().T\n",
    "    decoding[domain] = nib.load(datadir + domain + 'RuleDecoding.dscalar.nii').get_fdata().T\n",
    "\n",
    "# Load in gradient\n",
    "hierarchical_gradient = nib.load(datadir + '../hcp.gradients.dscalar.nii').get_fdata().T\n",
    "\n",
    "# Load in glasser atlas\n",
    "glasser = np.squeeze(nib.load(datadir + '../Q1-Q6_RelatedParcellation210.LR.CorticalAreas_dil_Colors.32k_fs_RL.dlabel.nii').get_fdata())\n"
   ]
  },
  {
   "cell_type": "markdown",
   "metadata": {},
   "source": [
    "##### Parcellate all data into 360 cortical regions"
   ]
  },
  {
   "cell_type": "code",
   "execution_count": 171,
   "metadata": {},
   "outputs": [],
   "source": [
    "n_parcels = 360\n",
    "\n",
    "parcel_gradient = np.zeros((n_parcels,2))\n",
    "#\n",
    "parcel_ps = {}\n",
    "parcel_decoding = {}\n",
    "for domain in rules:\n",
    "    parcel_ps[domain] = np.zeros((n_parcels,))\n",
    "    parcel_decoding[domain] = np.zeros((n_parcels,))\n",
    "    \n",
    "for roi in range(n_parcels):\n",
    "    roi_ind = np.where(glasser==roi+1)[0]\n",
    "    parcel_gradient[roi,:] = np.mean(hierarchical_gradient[roi_ind,:2],axis=0)*-1\n",
    "    \n",
    "    for domain in rules:\n",
    "        parcel_ps[domain][roi] = np.mean(ps[domain][roi_ind,0],axis=0)\n",
    "        parcel_decoding[domain][roi] = np.mean(decoding[domain][roi_ind,0],axis=0)\n",
    "    "
   ]
  },
  {
   "cell_type": "markdown",
   "metadata": {},
   "source": [
    "#### Tidy data into dataframe"
   ]
  },
  {
   "cell_type": "code",
   "execution_count": 179,
   "metadata": {},
   "outputs": [],
   "source": [
    "df = {}\n",
    "df['Gradient1'] = []\n",
    "df['Gradient2'] = []\n",
    "df['Parcel'] = []\n",
    "df['Parallelism'] = []\n",
    "df['Decoding'] = []\n",
    "df['Domain'] = []\n",
    "df['Depth'] = []\n",
    "\n",
    "# Normalize all PS and decoding scores for each domain\n",
    "for domain in rules:\n",
    "    parcel_ps[domain] = (parcel_ps[domain] - np.min(parcel_ps[domain]))/np.max(parcel_ps[domain])\n",
    "    parcel_decoding[domain] = (parcel_decoding[domain] - np.min(parcel_decoding[domain]))/np.max(parcel_decoding[domain])\n",
    "    \n",
    "for roi in range(n_parcels):\n",
    "    net = networkdef[roi]\n",
    "    if net in sensory_nets: depth = 1\n",
    "    if net in association_nets: depth = 2\n",
    "    if net in motor_nets: depth = 3\n",
    "    for domain in rules:\n",
    "        df['Parcel'].append(roi+1)\n",
    "        df['Gradient1'].append(parcel_gradient[roi,0])\n",
    "        df['Gradient2'].append(parcel_gradient[roi,1])\n",
    "        df['Parallelism'].append(parcel_ps[domain][roi])\n",
    "        df['Decoding'].append(parcel_decoding[domain][roi])\n",
    "        df['Domain'].append(domain)\n",
    "        df['Depth'].append(depth)\n",
    "\n",
    "        \n",
    "df = pd.DataFrame(df)"
   ]
  },
  {
   "cell_type": "code",
   "execution_count": 206,
   "metadata": {},
   "outputs": [
    {
     "data": {
      "image/png": "[encoded data removed]",
      "text/plain": [
       "<Figure size 180x180 with 1 Axes>"
      ]
     },
     "metadata": {},
     "output_type": "display_data"
    }
   ],
   "source": [
    "plt.figure(figsize=(2.5,2.5))\n",
    "ax = sns.kdeplot(x=\"Gradient2\",y=\"Parallelism\",hue=\"Domain\",data=df,shade=True,palette='colorblind',legend=False)\n",
    "plt.title('Parallelism across\\ncortical hierarchy',fontsize=12)\n",
    "# plt.xticks([-5,1],['Input','Output'],fontsize=10,rotation=10)\n",
    "plt.xticks(np.arange(-6,6,2),fontsize=10)\n",
    "plt.xlabel('Sensory–Assoc.–Motor\\nCortical axis', fontsize=12)\n",
    "plt.ylabel('Normalized PS',fontsize=12)\n",
    "plt.yticks(fontsize=10)\n",
    "# ax.legend_.set_bbox_to_anchor((0, 1.0))\n",
    "# ax.legend_._set_loc(2)\n",
    "# plt.setp(ax.get_legend().get_title(), fontsize='0')\n",
    "# plt.setp(ax.get_legend().get_texts(), fontsize='6')\n",
    "plt.tight_layout()\n",
    "# plt.savefig('EmpiricalPSGradient.png',dpi=300)\n"
   ]
  }
 ],
 "metadata": {
  "kernelspec": {
   "display_name": "Python 3",
   "language": "python",
   "name": "python3"
  },
  "language_info": {
   "codemirror_mode": {
    "name": "ipython",
    "version": 3
   },
   "file_extension": ".py",
   "mimetype": "text/x-python",
   "name": "python",
   "nbconvert_exporter": "python",
   "pygments_lexer": "ipython3",
   "version": "3.7.6"
  }
 },
 "nbformat": 4,
 "nbformat_minor": 4
}
