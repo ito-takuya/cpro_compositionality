{
 "cells": [
  {
   "cell_type": "markdown",
   "metadata": {},
   "source": [
    "# Evaluate the cortical distribution of Sensory, Logic, and Motor Parallelism with the Margulies hierarchical gradients"
   ]
  },
  {
   "cell_type": "code",
   "execution_count": 1,
   "metadata": {},
   "outputs": [],
   "source": [
    "import numpy as np\n",
    "import nibabel as nib\n",
    "import scipy.stats as stats\n",
    "import matplotlib.pyplot as plt\n",
    "import seaborn as sns\n",
    "%matplotlib inline\n",
    "import pandas as pd\n",
    "plt.rcParams['font.sans-serif'] = \"Arial\""
   ]
  },
  {
   "cell_type": "code",
   "execution_count": 2,
   "metadata": {},
   "outputs": [],
   "source": [
    "# Load network\n",
    "# Using final partition\n",
    "networkdef = np.loadtxt('../../data/network_partition.txt')\n",
    "networkorder = np.asarray(sorted(range(len(networkdef)), key=lambda k: networkdef[k]))\n",
    "networkorder.shape = (len(networkorder),1)\n",
    "# network mappings for final partition set\n",
    "networkmappings = {'fpn':7, 'vis1':1, 'vis2':2, 'smn':3, 'aud':8, 'lan':6, 'dan':5, 'con':4, 'dmn':9, \n",
    "                   'pmulti':10, 'none1':11, 'none2':12}\n",
    "networks = networkmappings.keys()"
   ]
  },
  {
   "cell_type": "markdown",
   "metadata": {},
   "source": [
    "#### Load in gradient, parallelism, standard decoding maps, and parcellation maps"
   ]
  },
  {
   "cell_type": "code",
   "execution_count": 3,
   "metadata": {},
   "outputs": [],
   "source": [
    "datadir = '../../data/results/'\n",
    "# figuredir = '../figures/manuscriptFigures/Fig7_BrainANN_PSOverlap/'\n",
    "neuripsdir = '../manuscripts/neurips2022/figures/Fig7_BoxPlotANNHumanHierarchyPS/'\n",
    "\n",
    "rules = ['Motor','Logic','Sensory']\n",
    "# rules = ['Sensory','Logic','Motor']\n",
    "ps = {}\n",
    "decoding = {}\n",
    "\n",
    "for domain in rules:\n",
    "    ps[domain] = nib.load(datadir + domain + 'RulePSGroup.dscalar.nii').get_fdata().T\n",
    "    decoding[domain] = nib.load(datadir + domain + 'RuleDecoding.dscalar.nii').get_fdata().T\n",
    "\n",
    "# Load in gradient\n",
    "hierarchical_gradient = nib.load(datadir + '../hcp.gradients.dscalar.nii').get_fdata().T\n",
    "\n",
    "# Load in glasser atlas\n",
    "glasser = np.squeeze(nib.load(datadir + '../Q1-Q6_RelatedParcellation210.LR.CorticalAreas_dil_Colors.32k_fs_RL.dlabel.nii').get_fdata())\n"
   ]
  },
  {
   "cell_type": "markdown",
   "metadata": {},
   "source": [
    "##### Parcellate all data into 360 cortical regions"
   ]
  },
  {
   "cell_type": "code",
   "execution_count": 4,
   "metadata": {},
   "outputs": [],
   "source": [
    "n_parcels = 360\n",
    "\n",
    "parcel_gradient = np.zeros((n_parcels,2))\n",
    "#\n",
    "parcel_ps = {}\n",
    "parcel_decoding = {}\n",
    "for domain in rules:\n",
    "    parcel_ps[domain] = np.zeros((n_parcels,))\n",
    "    parcel_decoding[domain] = np.zeros((n_parcels,))\n",
    "    \n",
    "for roi in range(n_parcels):\n",
    "    roi_ind = np.where(glasser==roi+1)[0]\n",
    "    parcel_gradient[roi,:] = np.mean(hierarchical_gradient[roi_ind,:2],axis=0)*-1\n",
    "    \n",
    "    for domain in rules:\n",
    "        parcel_ps[domain][roi] = np.mean(ps[domain][roi_ind,0],axis=0)\n",
    "        parcel_decoding[domain][roi] = np.mean(decoding[domain][roi_ind,0],axis=0)\n",
    "    "
   ]
  },
  {
   "cell_type": "markdown",
   "metadata": {},
   "source": [
    "#### Tidy data into dataframe"
   ]
  },
  {
   "cell_type": "code",
   "execution_count": 5,
   "metadata": {},
   "outputs": [],
   "source": [
    "df = {}\n",
    "df['Gradient1'] = []\n",
    "df['Gradient2'] = []\n",
    "df['Parcel'] = []\n",
    "df['Parallelism'] = []\n",
    "df['Decoding'] = []\n",
    "df['Domain'] = []\n",
    "# df['Depth'] = []\n",
    "\n",
    "# Normalize all PS and decoding scores for each domain\n",
    "for domain in rules:\n",
    "    parcel_ps[domain] = (parcel_ps[domain] - np.min(parcel_ps[domain]))/np.max(parcel_ps[domain])\n",
    "#     parcel_decoding[domain] = (parcel_decoding[domain] - np.min(parcel_decoding[domain]))/np.max(parcel_decoding[domain])\n",
    "    parcel_decoding[domain] = (parcel_decoding[domain])/np.max(parcel_decoding[domain])\n",
    "    \n",
    "for roi in range(n_parcels):\n",
    "    net = networkdef[roi]\n",
    "#     if net in sensory_nets: depth = 1\n",
    "#     if net in association_nets: depth = 2\n",
    "#     if net in motor_nets: depth = 3\n",
    "    for domain in rules:\n",
    "        df['Parcel'].append(roi+1)\n",
    "        df['Gradient1'].append(parcel_gradient[roi,0])\n",
    "        df['Gradient2'].append(parcel_gradient[roi,1])\n",
    "        df['Parallelism'].append(parcel_ps[domain][roi])\n",
    "        df['Decoding'].append(parcel_decoding[domain][roi])\n",
    "        df['Domain'].append(domain)\n",
    "#         df['Depth'].append(depth)\n",
    "\n",
    "        \n",
    "df = pd.DataFrame(df)"
   ]
  },
  {
   "cell_type": "code",
   "execution_count": 6,
   "metadata": {},
   "outputs": [
    {
     "data": {
      "image/png": "[encoded data removed]",
      "text/plain": [
       "<Figure size 180x180 with 1 Axes>"
      ]
     },
     "metadata": {
      "needs_background": "light"
     },
     "output_type": "display_data"
    }
   ],
   "source": [
    "tmp = sns.color_palette('colorblind')\n",
    "palette = [tmp[2],tmp[1],tmp[0]]\n",
    "plt.figure(figsize=(2.5,2.5))\n",
    "ax = sns.kdeplot(x=\"Gradient2\",y=\"Parallelism\",hue=\"Domain\",data=df,shade=True,palette=palette,alpha=.6,legend=False)\n",
    "plt.title('Parallelism across\\ncortical hierarchy',fontsize=10)\n",
    "# plt.xticks([-5,1],['Input','Output'],fontsize=10,rotation=10)\n",
    "plt.xticks(np.arange(-6,6,2),fontsize=8)\n",
    "plt.xlabel('Sensory–Assoc.–Motor\\nCortical axis', fontsize=10)\n",
    "plt.ylabel('Normalized PS',fontsize=10)\n",
    "plt.yticks(fontsize=8)\n",
    "# ax.legend_.set_bbox_to_anchor((0, 1.0))\n",
    "# ax.legend_._set_loc(2)\n",
    "# plt.setp(ax.get_legend().get_title(), fontsize='0')\n",
    "# plt.setp(ax.get_legend().get_texts(), fontsize='6')\n",
    "sns.despine()\n",
    "plt.tight_layout()\n",
    "# plt.savefig(figuredir + 'EmpiricalPSGradient.png',dpi=300)\n"
   ]
  },
  {
   "cell_type": "markdown",
   "metadata": {},
   "source": [
    "# Discretize regions into sensory, association, and motor areas and compare with ANN PS scores by depth"
   ]
  },
  {
   "cell_type": "code",
   "execution_count": 8,
   "metadata": {},
   "outputs": [
    {
     "name": "stdout",
     "output_type": "stream",
     "text": [
      "PS for rule Sensory\n",
      "\tLayer 1 v 2 | t = 3.7919703855971485  | p = 0.0001787305456196154\n",
      "\tLayer 2 v 3 | t = 1.8567388278735453  | p = 0.06438733655786252\n",
      "\tLayer 1 v 3 | t = 4.642781069168452  | p = 9.410728135572134e-06\n",
      "PS for rule Logic\n",
      "\tLayer 1 v 2 | t = -4.937013468060787  | p = 1.2812097782517647e-06\n",
      "\tLayer 2 v 3 | t = 4.376968365786142  | p = 1.6948470968166946e-05\n",
      "\tLayer 1 v 3 | t = 1.1890955227794953  | p = 0.23691701399286846\n",
      "PS for rule Motor\n",
      "\tLayer 1 v 2 | t = -1.0612833717031307  | p = 0.2893639616841221\n",
      "\tLayer 2 v 3 | t = -19.085101558087445  | p = 9.146497730074624e-53\n",
      "\tLayer 1 v 3 | t = -13.720402179406474  | p = 9.833399769346083e-26\n"
     ]
    },
    {
     "data": {
      "image/png": "[encoded data removed]",
      "text/plain": [
       "<Figure size 216x180 with 1 Axes>"
      ]
     },
     "metadata": {
      "needs_background": "light"
     },
     "output_type": "display_data"
    }
   ],
   "source": [
    "associationnets = ['con','dan','lan','fpn','dmn','pmulti','none1','none2']\n",
    "sensorimotornets = ['vis1','vis2','smn','aud']\n",
    "sensorynets = ['vis1','vis2','aud']\n",
    "motornets = ['smn']\n",
    "\n",
    "ruledomains = ['Sensory', 'Logic', 'Motor']\n",
    "\n",
    "df_ps_brain = {}\n",
    "df_ps_brain['Parallelism'] = []\n",
    "df_ps_brain['System'] = []\n",
    "df_ps_brain['Rule'] = []\n",
    "df_ps_brain['Parcel'] = []\n",
    "\n",
    "for net in sensorynets:\n",
    "    rois = np.where(networkdef==networkmappings[net])[0]\n",
    "    for roi in rois:\n",
    "        for domain in ruledomains:\n",
    "            df_ps_brain['Parallelism'].append(parcel_ps[domain][roi])\n",
    "            df_ps_brain['Rule'].append(domain)\n",
    "            df_ps_brain['System'].append('Sensory')\n",
    "            df_ps_brain['Parcel'].append(roi)\n",
    "\n",
    "for net in associationnets:\n",
    "    rois = np.where(networkdef==networkmappings[net])[0]\n",
    "    for roi in rois:\n",
    "        for domain in ruledomains:\n",
    "            df_ps_brain['Parallelism'].append(parcel_ps[domain][roi])\n",
    "            df_ps_brain['Rule'].append(domain)\n",
    "            df_ps_brain['System'].append('Association')\n",
    "            df_ps_brain['Parcel'].append(roi)\n",
    "        \n",
    "for net in motornets:\n",
    "    rois = np.where(networkdef==networkmappings[net])[0]\n",
    "    for roi in rois:\n",
    "        for domain in ruledomains:\n",
    "            df_ps_brain['Parallelism'].append(parcel_ps[domain][roi])\n",
    "            df_ps_brain['Rule'].append(domain)\n",
    "            df_ps_brain['System'].append('Motor')\n",
    "            df_ps_brain['Parcel'].append(roi)\n",
    "\n",
    "df_ps_brain = pd.DataFrame(df_ps_brain)\n",
    "\n",
    "\n",
    "plt.figure(figsize=(3.,2.5))\n",
    "ax = sns.boxplot(x=\"Rule\",y=\"Parallelism\",hue='System',sym='',whis=[2.5,97.5],data=df_ps_brain,palette='Oranges') #,order=hierarchy_ind,palette=networkpalette)\n",
    "sns.stripplot(x=\"Rule\",y=\"Parallelism\",hue='System',alpha=0.4,s=3,data=df_ps_brain,dodge=True,palette='Oranges',zorder=0)\n",
    "# tmp = df_system.groupby('System',sort=False).mean()\n",
    "# y = tmp.Dimensionality.values\n",
    "# sns.lineplot(x=\"System\",y=\"Dimensionality\",data=tmp,markers=[\"o\"],color=sns.color_palette(\"Set2\")[6],linewidth=2,zorder=4)\n",
    "# sns.scatterplot(x=\"System\",y=\"Dimensionality\",data=tmp,markers=[\"o\"],color=sns.color_palette(\"Set2\")[6],zorder=4)\n",
    "# plt.plot(np.arange(0,3),y,'o',color=sns.color_palette(\"Set2\")[6],linewidth=1)\n",
    "plt.xticks(fontsize=10);\n",
    "plt.xlabel('Rule domains',fontsize=10);\n",
    "# plt.ylabel('Rep. dim.',fontsize=10);\n",
    "plt.ylabel('Normalized PS',fontsize=10)\n",
    "# plt.ylabel(None)\n",
    "plt.title('PS across the\\nsensory-motor hierarchy', fontsize=10);\n",
    "plt.xticks(fontsize=8,rotation=0)\n",
    "plt.yticks(fontsize=8)\n",
    "handles, labels = ax.get_legend_handles_labels()\n",
    "# When creating the legend, only use the first two elements\n",
    "# to effectively remove the last two.\n",
    "l = plt.legend(handles[0:3], labels[0:3],fontsize=6)\n",
    "plt.tight_layout()\n",
    "plt.ylim([-0.1,1.4])\n",
    "sns.despine()\n",
    "plt.savefig(neuripsdir + '/PS_Hierarchy_Brain.png',dpi=300)\n",
    "\n",
    "\n",
    "for rule in df_ps_brain.Rule.unique():\n",
    "    tmpdf = df_ps_brain.loc[df_ps_brain.Rule==rule]\n",
    "    print('PS for rule', rule)\n",
    "    #\n",
    "    t, p = stats.ttest_ind(tmpdf.loc[tmpdf.System=='Sensory'].Parallelism.values,tmpdf.loc[tmpdf.System=='Association'].Parallelism.values)\n",
    "    print('\\tLayer 1 v 2 | t =', t, ' | p =', p)\n",
    "    #\n",
    "    t, p = stats.ttest_ind(tmpdf.loc[tmpdf.System=='Association'].Parallelism.values,tmpdf.loc[tmpdf.System=='Motor'].Parallelism.values)\n",
    "    print('\\tLayer 2 v 3 | t =', t, ' | p =', p)\n",
    "    #\n",
    "    t, p = stats.ttest_ind(tmpdf.loc[tmpdf.System=='Sensory'].Parallelism.values,tmpdf.loc[tmpdf.System=='Motor'].Parallelism.values)\n",
    "    print('\\tLayer 1 v 3 | t =', t, ' | p =', p)\n",
    "    "
   ]
  },
  {
   "cell_type": "markdown",
   "metadata": {},
   "source": [
    "# Load in ANN data (3-layer model) to compare with brain data"
   ]
  },
  {
   "cell_type": "code",
   "execution_count": 16,
   "metadata": {},
   "outputs": [
    {
     "name": "stdout",
     "output_type": "stream",
     "text": [
      "PS for rule Sensory\n",
      "\tLayer 1 v 2 | t = 11.020642834383155  | p = 1.5210616696332704e-13\n",
      "\tLayer 2 v 3 | t = 2.1967886323138237  | p = 0.03404453606966684\n",
      "\tLayer 1 v 3 | t = 10.387932670085927  | p = 8.613415919262574e-13\n",
      "PS for rule Logic\n",
      "\tLayer 1 v 2 | t = -3.9685738808885653  | p = 0.00030080164330678654\n",
      "\tLayer 2 v 3 | t = 6.047507859804625  | p = 4.448771802927088e-07\n",
      "\tLayer 1 v 3 | t = -1.2071035074323704  | p = 0.23466276955714205\n",
      "PS for rule Motor\n",
      "\tLayer 1 v 2 | t = -7.512382182075072  | p = 4.285832842971316e-09\n",
      "\tLayer 2 v 3 | t = -0.703536192837779  | p = 0.48590093678932356\n",
      "\tLayer 1 v 3 | t = -6.043261396145786  | p = 4.509609419122185e-07\n"
     ]
    },
    {
     "data": {
      "image/png": "[encoded data removed]",
      "text/plain": [
       "<Figure size 216x180 with 1 Axes>"
      ]
     },
     "metadata": {
      "needs_background": "light"
     },
     "output_type": "display_data"
    }
   ],
   "source": [
    "\n",
    "datadir = '../../data/model_results/experiment10/'\n",
    "simstart = 0 \n",
    "simend = 40\n",
    "nlayers = 3\n",
    "\n",
    "#\n",
    "df_adam0_combined = pd.read_csv(datadir + 'expt10_adam_zeroshot_' + str(nlayers) + 'layers_pretraining_2rulepretraining_simData' + str(simstart) + '.csv')\n",
    "df_adam0_combined.insert(len(df_adam0_combined.columns),\"Simulation\",list(np.repeat(simstart,len(df_adam0_combined))),True)\n",
    "df_adam0_combined.insert(len(df_adam0_combined.columns),\"Layers\",list(np.repeat(nlayers,len(df_adam0_combined))),True)\n",
    "df_adam0_combined.insert(len(df_adam0_combined.columns),\"Training\",list(np.repeat('Combined',len(df_adam0_combined))),True)\n",
    "\n",
    "for i in range(simstart+1,simend):\n",
    "    ####\n",
    "\n",
    "    #\n",
    "    tmp = pd.read_csv(datadir + 'expt10_adam_zeroshot_' + str(nlayers) + 'layers_pretraining_2rulepretraining_simData' + str(i) + '.csv')\n",
    "    tmp.insert(len(tmp.columns),\"Simulation\",list(np.repeat(i,len(tmp))),True)\n",
    "    tmp.insert(len(tmp.columns),\"Layers\",list(np.repeat(nlayers,len(tmp))),True)\n",
    "    tmp.insert(len(tmp.columns),\"Training\",list(np.repeat('Combined',len(tmp))),True)\n",
    "    tmp['LogicAvg'] = tmp[['LogicPS1', 'LogicPS2']].mean(axis=1)\n",
    "    tmp['SensoryAvg'] = tmp[['SensoryPS1', 'SensoryPS2']].mean(axis=1)\n",
    "    tmp['MotorAvg'] = tmp[['MotorPS1', 'MotorPS2']].mean(axis=1)\n",
    "    tmp['PSavg'] = tmp[['LogicAvg', 'SensoryAvg','MotorAvg']].mean(axis=1)\n",
    "    df_adam0_combined = df_adam0_combined.append(tmp)\n",
    "    \n",
    "    \n",
    "df_adam0_combined.Accuracy = df_adam0_combined.Accuracy.values*100.0\n",
    "df_all = df_adam0_combined\n",
    "\n",
    "df_ps_combined = {}\n",
    "df_ps_combined['Layer'] = []\n",
    "df_ps_combined['LayerCount'] = []\n",
    "df_ps_combined['Parallelism'] = []\n",
    "df_ps_combined['Rule'] = []\n",
    "df_ps_combined['Simulation'] = []\n",
    "\n",
    "for i in range(0,40):\n",
    "    # Concept pretraining\n",
    "    tmpdf = df_adam0_combined.loc[df_adam0_combined.Simulation==i]\n",
    "    tmpdf = tmpdf.loc[tmpdf.NumPracticedTasks==0]\n",
    "    for depth in range(1,nlayers+1):\n",
    "        for rule in ['Sensory','Logic','Motor']:\n",
    "            df_ps_combined['Simulation'].append(i)\n",
    "            df_ps_combined['Layer'].append('Layer ' + str(depth))\n",
    "            df_ps_combined['LayerCount'].append(depth)\n",
    "            df_ps_combined['Rule'].append(rule)\n",
    "            df_ps_combined['Parallelism'].append(tmpdf[rule + 'PS' + str(depth)].values[0])\n",
    "df_ps_combined = pd.DataFrame(df_ps_combined)\n",
    "\n",
    "# tmpdf = df_ps_combined.groupby([\"Rule\",\"Layer\"]).mean().reset_index()\n",
    "\n",
    "# df_normalized = df_ps_combined\n",
    "#### Normalize\n",
    "df_normalized = pd.DataFrame()\n",
    "# Normalize all PS and decoding scores for each domain\n",
    "for domain in ['Sensory','Logic','Motor']:\n",
    "    tmpdf = df_ps_combined.loc[df_ps_combined.Rule==domain].copy()\n",
    "    tmpps = (tmpdf.Parallelism.values - tmpdf.Parallelism.min())/np.max(tmpdf.Parallelism.max())\n",
    "#     tmpps = (tmpdf.Parallelism.values)/tmpdf.Parallelism.max()\n",
    "#     tmpps = tmpdf.Parallelism.values\n",
    "    tmpdf['Parallelism'] = tmpps\n",
    "    df_normalized = df_normalized.append(tmpdf)\n",
    "\n",
    "\n",
    "##### Plot\n",
    "plt.figure(figsize=(3.,2.5))\n",
    "ax = sns.boxplot(x=\"Rule\",y=\"Parallelism\",hue='Layer',sym='',whis=[2.5,97.5],data=df_normalized,palette='Oranges') #,order=hierarchy_ind,palette=networkpalette)\n",
    "sns.stripplot(x=\"Rule\",y=\"Parallelism\",hue='Layer',alpha=0.4,s=3,data=df_normalized,dodge=True,palette='Oranges',zorder=0)\n",
    "# tmp = df_system.groupby('System',sort=False).mean()\n",
    "# y = tmp.Dimensionality.values\n",
    "# sns.lineplot(x=\"System\",y=\"Dimensionality\",data=tmp,markers=[\"o\"],color=sns.color_palette(\"Set2\")[6],linewidth=2,zorder=4)\n",
    "# sns.scatterplot(x=\"System\",y=\"Dimensionality\",data=tmp,markers=[\"o\"],color=sns.color_palette(\"Set2\")[6],zorder=4)\n",
    "# plt.plot(np.arange(0,3),y,'o',color=sns.color_palette(\"Set2\")[6],linewidth=1)\n",
    "plt.xticks(fontsize=10);\n",
    "plt.xlabel('Rule domains',fontsize=10);\n",
    "# plt.ylabel('Rep. dim.',fontsize=10);\n",
    "plt.ylabel(None)\n",
    "# plt.ylabel(None)\n",
    "plt.title('PS across\\nANN hidden layers', fontsize=10);\n",
    "plt.xticks(fontsize=8,rotation=0)\n",
    "plt.yticks(fontsize=8)\n",
    "plt.ylabel('Normalized PS',fontsize=10)\n",
    "handles, labels = ax.get_legend_handles_labels()\n",
    "# When creating the legend, only use the first two elements\n",
    "# to effectively remove the last two.\n",
    "l = plt.legend(handles[0:3], labels[0:3],fontsize=6)\n",
    "plt.tight_layout()\n",
    "plt.ylim([0,1.7])\n",
    "sns.despine()\n",
    "plt.savefig(neuripsdir + 'PS_Hierarchy_ANN.png',dpi=300)\n",
    "\n",
    "for rule in df_normalized.Rule.unique():\n",
    "    tmpdf = df_normalized.loc[df_normalized.Rule==rule]\n",
    "    print('PS for rule', rule)\n",
    "    #\n",
    "    t, p = stats.ttest_rel(tmpdf.loc[tmpdf.LayerCount==1].Parallelism.values,tmpdf.loc[tmpdf.LayerCount==2].Parallelism.values)\n",
    "    print('\\tLayer 1 v 2 | t =', t, ' | p =', p)\n",
    "    #\n",
    "    t, p = stats.ttest_rel(tmpdf.loc[tmpdf.LayerCount==2].Parallelism.values,tmpdf.loc[tmpdf.LayerCount==3].Parallelism.values)\n",
    "    print('\\tLayer 2 v 3 | t =', t, ' | p =', p)\n",
    "    #\n",
    "    t, p = stats.ttest_rel(tmpdf.loc[tmpdf.LayerCount==1].Parallelism.values,tmpdf.loc[tmpdf.LayerCount==3].Parallelism.values)\n",
    "    print('\\tLayer 1 v 3 | t =', t, ' | p =', p)\n",
    "    \n",
    "    \n"
   ]
  },
  {
   "cell_type": "markdown",
   "metadata": {},
   "source": [
    "# Plot Sensory-Association-Motor System for visualization purposes"
   ]
  },
  {
   "cell_type": "markdown",
   "metadata": {},
   "source": [
    "#### Surface mapping function"
   ]
  },
  {
   "cell_type": "code",
   "execution_count": 185,
   "metadata": {},
   "outputs": [],
   "source": [
    "import os\n",
    "projectdir = '../../'\n",
    "glasserfile = projectdir + 'data/Q1-Q6_RelatedParcellation210.LR.CorticalAreas_dil_Colors.32k_fs_RL.dlabel.nii'\n",
    "glasser = nib.load(glasserfile).get_fdata()\n",
    "glasser = np.squeeze(glasser)\n",
    "\n",
    "def mapBackToSurface(array,filename):\n",
    "    \"\"\" \n",
    "    array can either be 360 array or ~59k array. If 360, will automatically map back to ~59k\n",
    "    \"\"\"\n",
    "    #### Map back to surface\n",
    "    if array.shape[0]==360:\n",
    "        out_array = np.zeros((glasser.shape[0],3))\n",
    "\n",
    "        roicount = 0 \n",
    "        for roi in range(360):\n",
    "            for col in range(array.shape[1]):\n",
    "                vertex_ind = np.where(glasser==roi+1)[0]\n",
    "                out_array[vertex_ind,col] = array[roicount,col]\n",
    "\n",
    "            roicount += 1\n",
    "\n",
    "    else:\n",
    "        out_array = array\n",
    "\n",
    "    #### \n",
    "    # Write file to csv and run wb_command\n",
    "    np.savetxt(filename + '.csv', out_array,fmt='%s')\n",
    "    wb_file = filename + '.dscalar.nii'\n",
    "    wb_command = 'wb_command -cifti-convert -from-text ' + filename + '.csv ' + glasserfile + ' ' + wb_file + ' -reset-scalars'\n",
    "    os.system(wb_command)\n",
    "    os.remove(filename + '.csv')"
   ]
  },
  {
   "cell_type": "code",
   "execution_count": 195,
   "metadata": {},
   "outputs": [
    {
     "name": "stdout",
     "output_type": "stream",
     "text": [
      "Number of ROIs in sensory areas: 75\n",
      "Number of ROIs in association areas: 246\n",
      "Number of ROIs in motor areas: 39\n"
     ]
    }
   ],
   "source": [
    "parcels = np.zeros((360,1))\n",
    "\n",
    "roi_total = 0\n",
    "for net in sensorynets:\n",
    "    rois = np.where(networkdef==networkmappings[net])[0]\n",
    "    for roi in rois:\n",
    "        parcels[roi] = 1\n",
    "    roi_total += len(rois)\n",
    "print('Number of ROIs in sensory areas:', roi_total)\n",
    "\n",
    "roi_total = 0\n",
    "for net in associationnets:\n",
    "    rois = np.where(networkdef==networkmappings[net])[0]\n",
    "\n",
    "    for roi in rois:\n",
    "        parcels[roi] = 2\n",
    "    roi_total += len(rois)\n",
    "print('Number of ROIs in association areas:', roi_total)        \n",
    "\n",
    "roi_total = 0\n",
    "for net in motornets:\n",
    "    rois = np.where(networkdef==networkmappings[net])[0]\n",
    "    for roi in rois:\n",
    "        parcels[roi] = 3\n",
    "    roi_total += len(rois)\n",
    "print('Number of ROIs in motor areas:', roi_total)\n",
    "            \n",
    "# mapBackToSurface(parcels,'../../data/Sensory_Assoc_Motor_Discretization')"
   ]
  }
 ],
 "metadata": {
  "kernelspec": {
   "display_name": "Python 3 (ipykernel)",
   "language": "python",
   "name": "python3"
  },
  "language_info": {
   "codemirror_mode": {
    "name": "ipython",
    "version": 3
   },
   "file_extension": ".py",
   "mimetype": "text/x-python",
   "name": "python",
   "nbconvert_exporter": "python",
   "pygments_lexer": "ipython3",
   "version": "3.7.6"
  }
 },
 "nbformat": 4,
 "nbformat_minor": 4
}
