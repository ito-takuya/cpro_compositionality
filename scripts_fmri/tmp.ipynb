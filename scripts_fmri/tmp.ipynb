{
 "cells": [
  {
   "cell_type": "markdown",
   "metadata": {},
   "source": [
    "# Exploratory notebook for miniblock decoding analysis\n",
    "#### Plot decoding as a function of miniblock"
   ]
  },
  {
   "cell_type": "code",
   "execution_count": 1,
   "metadata": {},
   "outputs": [],
   "source": [
    "import numpy as np\n",
    "import scipy.stats as stats\n",
    "import h5py\n",
    "import nibabel as nib\n",
    "import matplotlib.pyplot as plt\n",
    "import seaborn as sns\n",
    "from importlib import reload\n",
    "import pandas as pd\n",
    "import loadTaskBehavioralData as task\n",
    "import tools\n",
    "import multiprocessing as mp\n",
    "import statsmodels.stats.multitest as mc\n",
    "%matplotlib inline"
   ]
  },
  {
   "cell_type": "markdown",
   "metadata": {},
   "source": [
    "#### Parameter set up"
   ]
  },
  {
   "cell_type": "code",
   "execution_count": null,
   "metadata": {},
   "outputs": [],
   "source": [
    "projectdir = '/projects3/CPROCompositionality/'\n",
    "datadir = projectdir + 'data/processedData/' \n",
    "resultdir = projectdir + 'data/results/'\n",
    "subjNums = ['013','014','016','017','018','021','023','024','026','027','028',\n",
    "            '030','031','032','033','034','035','037','038','039','040','041',\n",
    "            '042','043','045','046','047','048','049','050','053','055','056',\n",
    "            '057','058','062','063','066','067','068','069','070','072','074',\n",
    "            '075','076','077','081','085','086','087','088','090','092','093',\n",
    "            '094','095','097','098','099','101','102','103','104','105','106',\n",
    "            '108','109','110','111','112','114','115','117','119','120','121',\n",
    "            '122','123','124','125','126','127','128','129','130','131','132',\n",
    "            '134','135','136','137','138','139','140','141']\n",
    "\n",
    "glasser = projectdir + 'data/Q1-Q6_RelatedParcellation210.LR.CorticalAreas_dil_Colors.32k_fs_RL.dlabel.nii'\n",
    "glasser = nib.load(glasser).get_data()\n",
    "glasser = np.squeeze(glasser)\n",
    "rois = np.arange(1,361)"
   ]
  },
  {
   "cell_type": "code",
   "execution_count": 3,
   "metadata": {},
   "outputs": [],
   "source": [
    "data = []\n",
    "for subj in subjNums:\n",
    "    h5f= h5py.File(datadir + subj + '_glmOutput_data_betaSeriesWholeBlock.h5','r')\n",
    "    tmp = h5f['taskRegression']['betaSeriesWholeBlock_24pXaCompCorXVolterra_taskReg_betas_canonical'][:]\n",
    "    h5f.close()\n",
    "    data.append(tmp)\n",
    "    \n",
    "data = np.asarray(data)\n",
    "h5f = h5py.File(datadir + 'Data_WholeMiniblock_AllSubjs.h5','a')\n",
    "h5f.create_dataset('data',data=data)\n",
    "h5f.close()\n"
   ]
  }
 ],
 "metadata": {
  "kernelspec": {
   "display_name": "Python 3",
   "language": "python",
   "name": "python3"
  },
  "language_info": {
   "codemirror_mode": {
    "name": "ipython",
    "version": 3
   },
   "file_extension": ".py",
   "mimetype": "text/x-python",
   "name": "python",
   "nbconvert_exporter": "python",
   "pygments_lexer": "ipython3",
   "version": "3.7.3"
  }
 },
 "nbformat": 4,
 "nbformat_minor": 4
}
