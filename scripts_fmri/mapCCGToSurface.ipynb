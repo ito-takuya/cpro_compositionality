{
 "cells": [
  {
   "cell_type": "markdown",
   "metadata": {},
   "source": [
    "# Exploratory notebook to map parallelism scores to surface"
   ]
  },
  {
   "cell_type": "code",
   "execution_count": 2,
   "metadata": {},
   "outputs": [],
   "source": [
    "import numpy as np\n",
    "import scipy.stats as stats\n",
    "import h5py\n",
    "import nibabel as nib\n",
    "import matplotlib.pyplot as plt\n",
    "import seaborn as sns\n",
    "from importlib import reload\n",
    "import pandas as pd\n",
    "import loadTaskBehavioralData as task\n",
    "import tools\n",
    "import multiprocessing as mp\n",
    "import statsmodels.stats.multitest as mc\n",
    "%matplotlib inline"
   ]
  },
  {
   "cell_type": "markdown",
   "metadata": {},
   "source": [
    "#### Parameter set up"
   ]
  },
  {
   "cell_type": "code",
   "execution_count": 51,
   "metadata": {},
   "outputs": [],
   "source": [
    "projectdir = '/projects3/CPROCompositionality/'\n",
    "datadir = projectdir + 'data/processedData/' \n",
    "resultdir = projectdir + 'data/results/'\n",
    "subjNums = ['013','014','016','017','018','021','023','024','026','027','028',\n",
    "            '030','031','032','033','034','035','037','038','039','040','041',\n",
    "            '042','043','045','046','047','048','049','050','053','055','056',\n",
    "            '057','058','062','063','066','067','068','069','070','072','074',\n",
    "            '075','076','077','081','085','086','087','088','090','092','093',\n",
    "            '094','095','097','098','099','101','102','103','104','105','106',\n",
    "            '108','109','110','111','112','114','115','117','119','120','121',\n",
    "            '122','123','124','125','126','127','128','129','130','131','132',\n",
    "            '134','135','136','137','138','139','140','141']\n",
    "\n",
    "glasser = projectdir + 'data/Q1-Q6_RelatedParcellation210.LR.CorticalAreas_dil_Colors.32k_fs_RL.dlabel.nii'\n",
    "glasser = nib.load(glasser).get_data()\n",
    "glasser = np.squeeze(glasser)\n",
    "rois = np.arange(1,361)\n",
    "\n",
    "#### Load in CAB-NP ROI labels\n",
    "cabn_labels = pd.read_csv(projectdir + 'data/CortexSubcortex_ColeAnticevic_NetPartition_wSubcorGSR_parcels_LR_LabelKey.txt',header=0,delimiter='\\t')\n",
    "df_labels = cabn_labels.iloc[0:360]\n",
    "df_labels.reset_index()\n",
    "del df_labels['INDEX'], df_labels[\"KEYVALUE\"]\n",
    "\n",
    "# Using final partition\n",
    "networkdef = df_labels['NETWORKKEY'].values\n",
    "# network mappings for final partition set\n",
    "networkmappings = {'fpn':7, 'vis1':1, 'vis2':2, 'smn':3, 'aud':8, 'lan':6, 'dan':5, 'con':4, 'dmn':9, \n",
    "                   'pmulti':10, 'none1':11, 'none2':12}\n",
    "\n",
    "fpn_ind = np.where(networkdef==networkmappings['fpn'])[0]\n",
    "con_ind = np.where(networkdef==networkmappings['con'])[0]\n",
    "ccn_ind = np.hstack((fpn_ind,con_ind))"
   ]
  },
  {
   "cell_type": "markdown",
   "metadata": {},
   "source": [
    "#### CCG for logic rules"
   ]
  },
  {
   "cell_type": "code",
   "execution_count": 102,
   "metadata": {},
   "outputs": [],
   "source": [
    "rois = np.arange(1,361)\n",
    "accuracy = []\n",
    "ccg_scores = np.loadtxt(resultdir + 'CrossConditionGeneralization/LogicDecoding.csv')\n",
    "nulldist = np.loadtxt(resultdir + 'CrossConditionGeneralization/LogicDecoding_NullDistribution.csv')\n",
    "fwe_thresh = np.max(nulldist,axis=0)\n",
    "nsamples = len(fwe_thresh)\n",
    "alpha_ind = int(nsamples * .95)\n",
    "fwe_thresh = np.sort(fwe_thresh)[alpha_ind]\n",
    "data = np.zeros((360,2))\n",
    "data[:,0] = ccg_scores\n",
    "data[:,1] = np.multiply(ccg_scores,ccg_scores>fwe_thresh)\n",
    "tools.mapBackToSurface(data,resultdir + 'CrossConditionGeneralization/LogicRuleCCG')"
   ]
  },
  {
   "cell_type": "markdown",
   "metadata": {},
   "source": [
    "#### CCG for sensory rules"
   ]
  },
  {
   "cell_type": "code",
   "execution_count": 103,
   "metadata": {},
   "outputs": [],
   "source": [
    "rois = np.arange(1,361)\n",
    "accuracy = []\n",
    "ccg_scores = np.loadtxt(resultdir + 'CrossConditionGeneralization/SensoryDecoding.csv')\n",
    "nulldist = np.loadtxt(resultdir + 'CrossConditionGeneralization/SensoryDecoding_NullDistribution.csv')\n",
    "fwe_thresh = np.max(nulldist,axis=0)\n",
    "nsamples = len(fwe_thresh)\n",
    "alpha_ind = int(nsamples * .95)\n",
    "fwe_thresh = np.sort(fwe_thresh)[alpha_ind]\n",
    "data = np.zeros((360,2))\n",
    "data[:,0] = ccg_scores\n",
    "data[:,1] = np.multiply(ccg_scores,ccg_scores>fwe_thresh)\n",
    "tools.mapBackToSurface(data,resultdir + 'CrossConditionGeneralization/SensoryRuleCCG')"
   ]
  },
  {
   "cell_type": "markdown",
   "metadata": {},
   "source": [
    "#### CCG for motor rules"
   ]
  },
  {
   "cell_type": "code",
   "execution_count": 104,
   "metadata": {},
   "outputs": [],
   "source": [
    "rois = np.arange(1,361)\n",
    "accuracy = []\n",
    "ccg_scores = np.loadtxt(resultdir + 'CrossConditionGeneralization/MotorDecoding.csv')\n",
    "nulldist = np.loadtxt(resultdir + 'CrossConditionGeneralization/MotorDecoding_NullDistribution.csv')\n",
    "fwe_thresh = np.max(nulldist,axis=0)\n",
    "nsamples = len(fwe_thresh)\n",
    "alpha_ind = int(nsamples * .95)\n",
    "fwe_thresh = np.sort(fwe_thresh)[alpha_ind]\n",
    "data = np.zeros((360,2))\n",
    "data[:,0] = ccg_scores\n",
    "data[:,1] = np.multiply(ccg_scores,ccg_scores>fwe_thresh)\n",
    "tools.mapBackToSurface(data,resultdir + 'CrossConditionGeneralization/MotorRuleCCG')"
   ]
  }
 ],
 "metadata": {
  "kernelspec": {
   "display_name": "Python 3",
   "language": "python",
   "name": "python3"
  },
  "language_info": {
   "codemirror_mode": {
    "name": "ipython",
    "version": 3
   },
   "file_extension": ".py",
   "mimetype": "text/x-python",
   "name": "python",
   "nbconvert_exporter": "python",
   "pygments_lexer": "ipython3",
   "version": "3.7.3"
  }
 },
 "nbformat": 4,
 "nbformat_minor": 4
}
