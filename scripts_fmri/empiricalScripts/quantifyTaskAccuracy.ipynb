{
 "cells": [
  {
   "cell_type": "markdown",
   "metadata": {},
   "source": [
    "# Quantify behavioral data from fMRI C-PRO experiment"
   ]
  },
  {
   "cell_type": "code",
   "execution_count": 1,
   "metadata": {},
   "outputs": [],
   "source": [
    "import numpy as np\n",
    "import pandas as pd\n",
    "import scipy.stats as stats\n",
    "import analyzeBehavior as analyze\n",
    "from importlib import reload\n",
    "import matplotlib.pyplot as plt\n",
    "import seaborn as sns\n",
    "%matplotlib inline\n",
    "plt.style.use(\"ggplot\")\n",
    "sns.set_style(\"whitegrid\")\n",
    "plt.rcParams[\"font.family\"] = \"Arial\""
   ]
  },
  {
   "cell_type": "markdown",
   "metadata": {},
   "source": [
    "##### Load and sort data"
   ]
  },
  {
   "cell_type": "code",
   "execution_count": 2,
   "metadata": {},
   "outputs": [],
   "source": [
    "datadir = '../../../data/fMRI_BehavData/'\n",
    "\n",
    "subjNums = ['013','014','016','017','018','021','023','024','026','027','028','030','031','032','033',\n",
    "            '034','035','037','038','039','040','041','042','043','045','046','047','048','049','050',\n",
    "            '053','055','056','057','058','062','063','066','067','068','069','070','072','074','075',\n",
    "            '076','077','081','085','086','087','088','090','092','093','094','095','097','098','099',\n",
    "            '101','102','103','104','105','106','108','109','110','111','112','114','115','117','119',\n",
    "            '120','121','122','123','124','125','126','127','128','129','130','131','132','134','135',\n",
    "            '136','137','138','139','140','141']\n",
    "# # ### Doesn't need to be run again\n",
    "\n",
    "# keyValues = {'Logic':'LogicCue[LogLevel5]', 'Sensory':'SemanticCue[LogLevel5]', 'Motor':'ResponseCue[LogLevel5]','Accuracy':'Feedback[LogLevel6]', 'Novelty':'TaskType_rec', 'TaskNum':'TaskName[LogLevel5]',\n",
    "#              'PracTaskIntro':'PracIntroExampleList',\n",
    "#              'LogicExample':'LogicCue[SubTrial]','SensoryExample':'SemanticCue[SubTrial]','MotorExample':'ResponseCue[SubTrial]',\n",
    "#              'PracIntroAccuracy':'Feedback[LogLevel5]','RT':'ProbeStim1.RT'}\n",
    "# # Simplify dataframe into easier key-value strings\n",
    "# for subj in subjNums:\n",
    "#     df = pd.read_csv(datadir + subj + '_behavdata.csv')\n",
    "#     df_new = {}\n",
    "#     for key in keyValues:\n",
    "#         df_new[key] = df[keyValues[key]].values\n",
    "        \n",
    "#     df = pd.DataFrame(df_new)\n",
    "#     df.to_csv(datadir + subj + '_behavdata_reformatted.csv')\n",
    "        "
   ]
  },
  {
   "cell_type": "markdown",
   "metadata": {},
   "source": [
    "# Plot performances across different conditions\n",
    "* Novel and practiced conditions\n",
    "* 1st presentation of practiced tasks, 2nd presentation of practiced tasks\n",
    "* 1st presentation of novel tasks, 2nd presentation of novel tasks"
   ]
  },
  {
   "cell_type": "markdown",
   "metadata": {},
   "source": [
    "# Practiced v 2-rule v 1-rule on first presentation of tasks only"
   ]
  },
  {
   "cell_type": "code",
   "execution_count": 3,
   "metadata": {},
   "outputs": [
    {
     "name": "stdout",
     "output_type": "stream",
     "text": [
      "Practice accuracy: 87.6736111111111\n",
      "2-rule similarity accuracy: 84.85725308641975\n",
      "1-rule similarity accuracy: 83.47800925925925\n",
      "Practiced versus 2-rule: stat = 1598.0 | p = 0.007629746111402928\n",
      "2-rule versus 1-rule: stat = 1669.0 | p = 0.03356337180402668\n"
     ]
    },
    {
     "data": {
      "image/png": "[encoded data removed]",
      "text/plain": [
       "<Figure size 180x180 with 1 Axes>"
      ]
     },
     "metadata": {},
     "output_type": "display_data"
    }
   ],
   "source": [
    "analyze=reload(analyze)\n",
    "palette_color = ['#ff5050', '#cc6699','#993333']\n",
    "\n",
    "df_acc = analyze.behaviorOfTaskSimilarity(subjNums,firstOnly=True)\n",
    "df_acc.rename(columns = {'2-rule similarity':'2-rule overlap'}, inplace = True)\n",
    "df_acc.rename(columns = {'1-rule similarity':'1-rule overlap'}, inplace = True)\n",
    "df_acc.Accuracy = df_acc.Accuracy.values * 100.0\n",
    "prac_acc = df_acc.loc[df_acc['Condition']=='Practiced']\n",
    "rule2_acc = df_acc.loc[df_acc['Condition']=='2-rule similarity']\n",
    "rule1_acc = df_acc.loc[df_acc['Condition']=='1-rule similarity']\n",
    "print('Practice accuracy:', np.mean(prac_acc.Accuracy.values))\n",
    "print('2-rule similarity accuracy:', np.mean(rule2_acc.Accuracy.values))\n",
    "print('1-rule similarity accuracy:', np.mean(rule1_acc.Accuracy.values))\n",
    "t, p = stats.wilcoxon(prac_acc.Accuracy.values,rule2_acc.Accuracy.values)\n",
    "print('Practiced versus 2-rule: stat =', t, '| p =', p)\n",
    "t, p = stats.wilcoxon(rule2_acc.Accuracy.values,rule1_acc.Accuracy.values)\n",
    "print('2-rule versus 1-rule: stat =', t, '| p =', p)\n",
    "\n",
    "\n",
    "plt.figure(figsize=(2.5,2.5))\n",
    "tmp_df = pd.concat([prac_acc,rule2_acc,rule1_acc])\n",
    "plt.title('Behavioral\\ntask performance',fontsize=12)\n",
    "ax = sns.boxplot(x=\"Condition\",y=\"Accuracy\",data=tmp_df,\n",
    "           medianprops={'linestyle':'-'},sym='',whis=[2.5,97.5],palette=palette_color)\n",
    "ax = sns.stripplot(x=\"Condition\",y=\"Accuracy\",data=tmp_df,\n",
    "              dodge=True,palette=palette_color)\n",
    "plt.plot(np.arange(-0.5,3.5),np.repeat(25,4),'gray',linestyle='--')\n",
    "#\n",
    "#### Statistical tests - Prac v 2-rule\n",
    "t, p = stats.wilcoxon(tmp_df.Accuracy[tmp_df.Condition=='Practiced'].values,\n",
    "                       tmp_df.Accuracy[tmp_df.Condition=='2-rule similarity'].values)\n",
    "if t>0 and p<0.05: annote=\"*\"\n",
    "if t>0 and p<0.01: annote=\"**\"\n",
    "if t>0 and p<0.0001: annote=\"***\"\n",
    "# Statistical annotations\n",
    "x_prac, x_2rule, x_1rule = 0, 1, 2\n",
    "y1, h, col = tmp_df.Accuracy[tmp_df.Condition=='Practiced'].max() + 5, 2, 'k'\n",
    "plt.plot([x_prac, x_prac, x_2rule, x_2rule], [y1, y1+h, y1+h, y1], lw=1, c=col)\n",
    "plt.text((x_prac+x_2rule)*.5, y1+h, annote, ha='center', va='bottom', color=col)\n",
    "#\n",
    "#### Statistical tests - 2-rule v Prac\n",
    "t, p = stats.wilcoxon(tmp_df.Accuracy[tmp_df.Condition=='2-rule similarity'].values,\n",
    "                       tmp_df.Accuracy[tmp_df.Condition=='1-rule similarity'].values)\n",
    "if t>0 and p<0.05: annote=\"*\"\n",
    "if t>0 and p<0.01: annote=\"**\"\n",
    "if t>0 and p<0.0001: annote=\"***\"\n",
    "# Statistical annotations\n",
    "x_prac, x_2rule, x_1rule = 0, 1, 2\n",
    "y1, h, col = tmp_df.Accuracy[tmp_df.Condition=='2-rule similarity'].values.max() + 5, 2, 'k'\n",
    "plt.plot([x_2rule, x_2rule, x_1rule, x_1rule], [y1, y1+h, y1+h, y1], lw=1, c=col)\n",
    "plt.text((x_2rule+x_1rule)*.5, y1+h, annote, ha='center', va='bottom', color=col)\n",
    "#\n",
    "plt.xticks(np.arange(0,3),['Practiced','2-rule','1-rule'],rotation=-20,fontsize=10)\n",
    "plt.yticks(fontsize=10)\n",
    "plt.ylim([0,120])\n",
    "plt.ylabel('Accuracy (%)',fontsize=12)\n",
    "plt.xlabel('Task context overlap', fontsize=12)\n",
    "plt.tight_layout()\n",
    "# plt.savefig('BehavioralEvidenceForCompositionality.png',dpi=300)"
   ]
  }
 ],
 "metadata": {
  "kernelspec": {
   "display_name": "Python 3",
   "language": "python",
   "name": "python3"
  },
  "language_info": {
   "codemirror_mode": {
    "name": "ipython",
    "version": 3
   },
   "file_extension": ".py",
   "mimetype": "text/x-python",
   "name": "python",
   "nbconvert_exporter": "python",
   "pygments_lexer": "ipython3",
   "version": "3.7.6"
  }
 },
 "nbformat": 4,
 "nbformat_minor": 4
}
