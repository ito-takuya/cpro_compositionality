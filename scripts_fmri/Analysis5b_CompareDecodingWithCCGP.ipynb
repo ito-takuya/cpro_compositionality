{
 "cells": [
  {
   "cell_type": "markdown",
   "metadata": {},
   "source": [
    "# Compare standard decoding analyses to CCGP for rule decoding across cortex\n",
    "\n",
    "#### 1/6/2021"
   ]
  },
  {
   "cell_type": "code",
   "execution_count": 1,
   "metadata": {},
   "outputs": [],
   "source": [
    "import numpy as np\n",
    "import scipy.stats as stats\n",
    "import h5py\n",
    "import nibabel as nib\n",
    "import matplotlib.pyplot as plt\n",
    "import seaborn as sns\n",
    "from importlib import reload\n",
    "import pandas as pd\n",
    "import multiprocessing as mp\n",
    "import statsmodels.stats.multitest as mc\n",
    "import os\n",
    "%matplotlib inline"
   ]
  },
  {
   "cell_type": "markdown",
   "metadata": {},
   "source": [
    "#### Parameter set up"
   ]
  },
  {
   "cell_type": "code",
   "execution_count": 2,
   "metadata": {},
   "outputs": [],
   "source": [
    "projectdir = '../../'\n",
    "datadir = projectdir + 'data/' \n",
    "resultdir = projectdir + 'data/results/'\n",
    "subjNums = ['013','014','016','017','018','021','023','024','026','027','028',\n",
    "            '030','031','032','033','034','035','037','038','039','040','041',\n",
    "            '042','043','045','046','047','048','049','050','053','055','056',\n",
    "            '057','058','062','063','066','067','068','069','070','072','074',\n",
    "            '075','076','077','081','085','086','087','088','090','092','093',\n",
    "            '094','095','097','098','099','101','102','103','104','105','106',\n",
    "            '108','109','110','111','112','114','115','117','119','120','121',\n",
    "            '122','123','124','125','126','127','128','129','130','131','132',\n",
    "            '134','135','136','137','138','139','140','141']\n",
    "\n",
    "glasserfile = projectdir + 'data/Q1-Q6_RelatedParcellation210.LR.CorticalAreas_dil_Colors.32k_fs_RL.dlabel.nii'\n",
    "glasser = nib.load(glasserfile).get_fdata()\n",
    "glasser = np.squeeze(glasser)\n",
    "rois = np.arange(1,361)\n",
    "\n",
    "#### Load in CAB-NP ROI labels\n",
    "cabn_labels = pd.read_csv(projectdir + 'data/CortexSubcortex_ColeAnticevic_NetPartition_wSubcorGSR_parcels_LR_LabelKey.txt',header=0,delimiter='\\t')\n",
    "df_labels = cabn_labels.iloc[0:360]\n",
    "df_labels.reset_index()\n",
    "del df_labels['INDEX'], df_labels[\"KEYVALUE\"]\n",
    "\n",
    "# Using final partition\n",
    "networkdef = df_labels['NETWORKKEY'].values\n",
    "# network mappings for final partition set\n",
    "networkmappings = {'fpn':7, 'vis1':1, 'vis2':2, 'smn':3, 'aud':8, 'lan':6, 'dan':5, 'con':4, 'dmn':9, \n",
    "                   'pmulti':10, 'none1':11, 'none2':12}\n",
    "\n",
    "fpn_ind = np.where(networkdef==networkmappings['fpn'])[0]\n",
    "con_ind = np.where(networkdef==networkmappings['con'])[0]\n",
    "ccn_ind = np.hstack((fpn_ind,con_ind))\n",
    "\n",
    "nParcels = 360"
   ]
  },
  {
   "cell_type": "markdown",
   "metadata": {},
   "source": [
    "# Surface mapping function"
   ]
  },
  {
   "cell_type": "code",
   "execution_count": 3,
   "metadata": {},
   "outputs": [],
   "source": [
    "def mapBackToSurface(array,filename):\n",
    "    \"\"\" \n",
    "    array can either be 360 array or ~59k array. If 360, will automatically map back to ~59k\n",
    "    \"\"\"\n",
    "    #### Map back to surface\n",
    "    if array.shape[0]==360:\n",
    "        out_array = np.zeros((glasser.shape[0],3))\n",
    "\n",
    "        roicount = 0 \n",
    "        for roi in range(360):\n",
    "            for col in range(array.shape[1]):\n",
    "                vertex_ind = np.where(glasser==roi+1)[0]\n",
    "                out_array[vertex_ind,col] = array[roicount,col]\n",
    "\n",
    "            roicount += 1\n",
    "\n",
    "    else:\n",
    "        out_array = array\n",
    "\n",
    "    #### \n",
    "    # Write file to csv and run wb_command\n",
    "    np.savetxt(filename + '.csv', out_array,fmt='%s')\n",
    "    wb_file = filename + '.dscalar.nii'\n",
    "    wb_command = 'wb_command -cifti-convert -from-text ' + filename + '.csv ' + glasserfile + ' ' + wb_file + ' -reset-scalars'\n",
    "    os.system(wb_command)\n",
    "    os.remove(filename + '.csv')"
   ]
  },
  {
   "cell_type": "markdown",
   "metadata": {},
   "source": [
    "# Logic rule decoding and CCGP"
   ]
  },
  {
   "cell_type": "code",
   "execution_count": 64,
   "metadata": {},
   "outputs": [
    {
     "name": "stderr",
     "output_type": "stream",
     "text": [
      "No handles with labels found to put in legend.\n"
     ]
    },
    {
     "data": {
      "image/png": "[encoded data removed]",
      "text/plain": [
       "<Figure size 93.6x151.2 with 1 Axes>"
      ]
     },
     "metadata": {
      "needs_background": "light"
     },
     "output_type": "display_data"
    }
   ],
   "source": [
    "decoding_dir = resultdir + 'DecodingAnalyses/'\n",
    "classifier = 'distance'\n",
    "rule = 'Logic'\n",
    "norm = ''\n",
    "logic_dec = np.loadtxt(decoding_dir + 'Subj' + rule + 'Decoding_' + classifier + norm + '.csv')\n",
    "logic_ccgp = np.loadtxt(decoding_dir + 'Subj' + rule + 'CCGP_' + classifier + norm +  '.csv')\n",
    "\n",
    "# Plot bar plot and statistical testing\n",
    "df_logic = {}\n",
    "df_logic['Classifier'] = []\n",
    "df_logic['Decoding'] = []\n",
    "df_logic['Parcel'] = []\n",
    "df_logic['Accuracy'] = []\n",
    "df_logic['Subject'] = []\n",
    "for roi in range(nParcels): \n",
    "    for subj in range(len(subjNums)):\n",
    "        df_logic['Classifier'].append(classifier)\n",
    "        df_logic['Decoding'].append('Standard')\n",
    "        df_logic['Parcel'].append(roi)\n",
    "        df_logic['Subject'].append(subj)\n",
    "        df_logic['Accuracy'].append(logic_dec[roi,subj])\n",
    "        #\n",
    "        df_logic['Classifier'].append(classifier)\n",
    "        df_logic['Decoding'].append('CCGP')\n",
    "        df_logic['Parcel'].append(roi)\n",
    "        df_logic['Subject'].append(subj)\n",
    "        df_logic['Accuracy'].append(logic_ccgp[roi,subj])\n",
    "        \n",
    "df_logic = pd.DataFrame(df_logic)\n",
    "\n",
    "plt.figure(figsize=(1.3,2.1))\n",
    "sns.stripplot(x=\"Decoding\",y=\"Accuracy\",data=df_logic,dodge=True,size=3,palette=\"Set2\",zorder=0)\n",
    "ax = sns.boxplot(x=\"Decoding\",y=\"Accuracy\",data=df_logic,sym='',whis=[2.5,97.5],palette=\"Set2\",linewidth=1.0) #,order=hierarchy_ind,palette=networkpalette)\n",
    "plt.xticks(rotation=25,fontsize=8)\n",
    "# plt.xlabel('Network',fontsize=10);\n",
    "plt.xlabel(None,fontsize=9)\n",
    "plt.ylabel('Accuracy',fontsize=9);\n",
    "plt.yticks(fontsize=8)\n",
    "# plt.ylim([-0.55,1.2])\n",
    "# plt.title('',fontsize=10)\n",
    "# plt.title('Representational\\nsegregation', fontsize=10);\n",
    "plt.legend()\n",
    "handles, labels = ax.get_legend_handles_labels()\n",
    "l = plt.legend(handles[:2], labels[:2], loc=3, borderaxespad=0.2, prop={'size': 6})\n",
    "plt.tight_layout()\n",
    "sns.despine()\n",
    "\n",
    "# Run statistical analyses\n",
    "t_dec, p_dec = stats.ttest_1samp(logic_dec,0.25,axis=1)\n",
    "q_dec = mc.fdrcorrection(p_dec)[1]\n",
    "t_ccgp, p_ccgp = stats.ttest_1samp(logic_ccgp,0.25,axis=1)\n",
    "q_ccgp = mc.fdrcorrection(p_ccgp)[1]\n",
    "\n",
    "# Map to surface significant effects for decoding and ccgp\n",
    "sig_effects = np.zeros((nParcels,2))\n",
    "sig_effects[:,0] = np.multiply(np.mean(logic_dec,axis=1),q_dec<0.05)\n",
    "sig_effects[:,1] = np.multiply(np.mean(logic_ccgp,axis=1),q_ccgp<0.05)\n",
    "\n",
    "outfilename = decoding_dir + 'Surface_' + rule + '_' + classifier + norm\n",
    "mapBackToSurface(sig_effects,outfilename)"
   ]
  },
  {
   "cell_type": "markdown",
   "metadata": {},
   "source": [
    "# Sensory rule decoding and CCGP"
   ]
  },
  {
   "cell_type": "code",
   "execution_count": 65,
   "metadata": {},
   "outputs": [
    {
     "name": "stderr",
     "output_type": "stream",
     "text": [
      "No handles with labels found to put in legend.\n"
     ]
    },
    {
     "data": {
      "image/png": "[encoded data removed]",
      "text/plain": [
       "<Figure size 93.6x151.2 with 1 Axes>"
      ]
     },
     "metadata": {
      "needs_background": "light"
     },
     "output_type": "display_data"
    }
   ],
   "source": [
    "decoding_dir = resultdir + 'DecodingAnalyses/'\n",
    "classifier = 'distance'\n",
    "rule = 'Sensory'\n",
    "norm = ''\n",
    "sensory_dec = np.loadtxt(decoding_dir + 'Subj' + rule + 'Decoding_' + classifier + norm + '.csv')\n",
    "sensory_ccgp = np.loadtxt(decoding_dir + 'Subj' + rule + 'CCGP_' + classifier + norm + '.csv')\n",
    "\n",
    "# Plot bar plot and statistical testing\n",
    "df_sensory = {}\n",
    "df_sensory['Classifier'] = []\n",
    "df_sensory['Decoding'] = []\n",
    "df_sensory['Parcel'] = []\n",
    "df_sensory['Accuracy'] = []\n",
    "df_sensory['Subject'] = []\n",
    "for roi in range(nParcels): \n",
    "    for subj in range(len(subjNums)):\n",
    "        df_sensory['Classifier'].append(classifier)\n",
    "        df_sensory['Decoding'].append('Standard')\n",
    "        df_sensory['Parcel'].append(roi)\n",
    "        df_sensory['Subject'].append(subj)\n",
    "        df_sensory['Accuracy'].append(sensory_dec[roi,subj])\n",
    "        #\n",
    "        df_sensory['Classifier'].append(classifier)\n",
    "        df_sensory['Decoding'].append('CCGP')\n",
    "        df_sensory['Parcel'].append(roi)\n",
    "        df_sensory['Subject'].append(subj)\n",
    "        df_sensory['Accuracy'].append(sensory_ccgp[roi,subj])\n",
    "        \n",
    "df_sensory = pd.DataFrame(df_sensory)\n",
    "\n",
    "plt.figure(figsize=(1.3,2.1))\n",
    "sns.stripplot(x=\"Decoding\",y=\"Accuracy\",data=df_sensory,dodge=True,size=3,palette=\"Set2\",zorder=0)\n",
    "ax = sns.boxplot(x=\"Decoding\",y=\"Accuracy\",data=df_sensory,sym='',whis=[2.5,97.5],palette=\"Set2\",linewidth=1.0) #,order=hierarchy_ind,palette=networkpalette)\n",
    "plt.xticks(rotation=25,fontsize=8)\n",
    "# plt.xlabel('Network',fontsize=10);\n",
    "plt.xlabel(None,fontsize=9)\n",
    "plt.ylabel('Accuracy',fontsize=9);\n",
    "plt.yticks(fontsize=8)\n",
    "# plt.ylim([-0.55,1.2])\n",
    "# plt.title('',fontsize=10)\n",
    "# plt.title('Representational\\nsegregation', fontsize=10);\n",
    "plt.legend()\n",
    "handles, labels = ax.get_legend_handles_labels()\n",
    "l = plt.legend(handles[:2], labels[:2], loc=3, borderaxespad=0.2, prop={'size': 6})\n",
    "plt.tight_layout()\n",
    "sns.despine()\n",
    "\n",
    "# Run statistical analyses\n",
    "t_dec, p_dec = stats.ttest_1samp(sensory_dec,0.25,axis=1)\n",
    "q_dec = mc.fdrcorrection(p_dec)[1]\n",
    "t_ccgp, p_ccgp = stats.ttest_1samp(sensory_ccgp,0.25,axis=1)\n",
    "q_ccgp = mc.fdrcorrection(p_ccgp)[1]\n",
    "\n",
    "# Map to surface significant effects for decoding and ccgp\n",
    "sig_effects = np.zeros((nParcels,2))\n",
    "sig_effects[:,0] = np.multiply(np.mean(sensory_dec,axis=1),q_dec<0.05)\n",
    "sig_effects[:,1] = np.multiply(np.mean(sensory_ccgp,axis=1),q_ccgp<0.05)\n",
    "\n",
    "outfilename = decoding_dir + 'Surface_' + rule + '_' + classifier + norm\n",
    "mapBackToSurface(sig_effects,outfilename)"
   ]
  },
  {
   "cell_type": "markdown",
   "metadata": {},
   "source": [
    "# Motor rule decoding and CCGP"
   ]
  },
  {
   "cell_type": "code",
   "execution_count": 67,
   "metadata": {},
   "outputs": [
    {
     "name": "stderr",
     "output_type": "stream",
     "text": [
      "No handles with labels found to put in legend.\n"
     ]
    },
    {
     "data": {
      "image/png": "[encoded data removed]",
      "text/plain": [
       "<Figure size 93.6x151.2 with 1 Axes>"
      ]
     },
     "metadata": {
      "needs_background": "light"
     },
     "output_type": "display_data"
    }
   ],
   "source": [
    "decoding_dir = resultdir + 'DecodingAnalyses/'\n",
    "classifier = 'svm'\n",
    "rule = 'Motor'\n",
    "norm = ''\n",
    "motor_dec = np.loadtxt(decoding_dir + 'Subj' + rule + 'Decoding_' + classifier + norm + '.csv')\n",
    "motor_ccgp = np.loadtxt(decoding_dir + 'Subj' + rule + 'CCGP_' + classifier + norm + '.csv')\n",
    "\n",
    "# Plot bar plot and statistical testing\n",
    "df_motor = {}\n",
    "df_motor['Classifier'] = []\n",
    "df_motor['Decoding'] = []\n",
    "df_motor['Parcel'] = []\n",
    "df_motor['Accuracy'] = []\n",
    "df_motor['Subject'] = []\n",
    "for roi in range(nParcels): \n",
    "    for subj in range(len(subjNums)):\n",
    "        df_motor['Classifier'].append(classifier)\n",
    "        df_motor['Decoding'].append('Standard')\n",
    "        df_motor['Parcel'].append(roi)\n",
    "        df_motor['Subject'].append(subj)\n",
    "        df_motor['Accuracy'].append(motor_dec[roi,subj])\n",
    "        #\n",
    "        df_motor['Classifier'].append(classifier)\n",
    "        df_motor['Decoding'].append('CCGP')\n",
    "        df_motor['Parcel'].append(roi)\n",
    "        df_motor['Subject'].append(subj)\n",
    "        df_motor['Accuracy'].append(motor_ccgp[roi,subj])\n",
    "        \n",
    "df_motor = pd.DataFrame(df_motor)\n",
    "\n",
    "plt.figure(figsize=(1.3,2.1))\n",
    "sns.stripplot(x=\"Decoding\",y=\"Accuracy\",data=df_motor,dodge=True,size=3,palette=\"Set2\",zorder=0)\n",
    "ax = sns.boxplot(x=\"Decoding\",y=\"Accuracy\",data=df_motor,sym='',whis=[2.5,97.5],palette=\"Set2\",linewidth=1.0) #,order=hierarchy_ind,palette=networkpalette)\n",
    "plt.xticks(rotation=25,fontsize=8)\n",
    "# plt.xlabel('Network',fontsize=10);\n",
    "plt.xlabel(None,fontsize=9)\n",
    "plt.ylabel('Accuracy',fontsize=9);\n",
    "plt.yticks(fontsize=8)\n",
    "# plt.ylim([-0.55,1.2])\n",
    "# plt.title('',fontsize=10)\n",
    "# plt.title('Representational\\nsegregation', fontsize=10);\n",
    "plt.legend()\n",
    "handles, labels = ax.get_legend_handles_labels()\n",
    "l = plt.legend(handles[:2], labels[:2], loc=3, borderaxespad=0.2, prop={'size': 6})\n",
    "plt.tight_layout()\n",
    "sns.despine()\n",
    "\n",
    "# Run statistical analyses\n",
    "t_dec, p_dec = stats.ttest_1samp(motor_dec,0.25,axis=1)\n",
    "q_dec = mc.fdrcorrection(p_dec)[1]\n",
    "t_ccgp, p_ccgp = stats.ttest_1samp(motor_ccgp,0.25,axis=1)\n",
    "q_ccgp = mc.fdrcorrection(p_ccgp)[1]\n",
    "\n",
    "# Map to surface significant effects for decoding and ccgp\n",
    "sig_effects = np.zeros((nParcels,2))\n",
    "sig_effects[:,0] = np.multiply(np.mean(motor_dec,axis=1),q_dec<.05)\n",
    "sig_effects[:,1] = np.multiply(np.mean(motor_ccgp,axis=1),q_ccgp<.05)\n",
    "\n",
    "outfilename = decoding_dir + 'Surface_' + rule + '_' + classifier + norm\n",
    "mapBackToSurface(sig_effects,outfilename)"
   ]
  },
  {
   "cell_type": "markdown",
   "metadata": {},
   "source": [
    "___"
   ]
  },
  {
   "cell_type": "markdown",
   "metadata": {},
   "source": [
    "# Group decoding analyses"
   ]
  },
  {
   "cell_type": "markdown",
   "metadata": {},
   "source": [
    "# Logic rule decoding and CCGP"
   ]
  },
  {
   "cell_type": "code",
   "execution_count": 15,
   "metadata": {},
   "outputs": [
    {
     "name": "stderr",
     "output_type": "stream",
     "text": [
      "No handles with labels found to put in legend.\n"
     ]
    },
    {
     "data": {
      "image/png": "[encoded data removed]",
      "text/plain": [
       "<Figure size 93.6x151.2 with 1 Axes>"
      ]
     },
     "metadata": {
      "needs_background": "light"
     },
     "output_type": "display_data"
    }
   ],
   "source": [
    "decoding_dir = resultdir + 'DecodingAnalyses/'\n",
    "classifier = 'svm'\n",
    "rule = 'Logic'\n",
    "norm = ''\n",
    "logic_dec = np.loadtxt(decoding_dir + 'Group' + rule + 'Decoding_' + classifier + norm + '.csv')\n",
    "logic_ccgp = np.loadtxt(decoding_dir + 'Group' + rule + 'CCGP_' + classifier + norm +  '.csv')\n",
    "\n",
    "# Plot bar plot and statistical testing\n",
    "df_logic = {}\n",
    "df_logic['Classifier'] = []\n",
    "df_logic['Decoding'] = []\n",
    "df_logic['Parcel'] = []\n",
    "df_logic['Accuracy'] = []\n",
    "for roi in range(nParcels): \n",
    "    for subj in range(len(subjNums)):\n",
    "        df_logic['Classifier'].append(classifier)\n",
    "        df_logic['Decoding'].append('Standard')\n",
    "        df_logic['Parcel'].append(roi)\n",
    "        df_logic['Accuracy'].append(logic_dec[roi])\n",
    "        #\n",
    "        df_logic['Classifier'].append(classifier)\n",
    "        df_logic['Decoding'].append('CCGP')\n",
    "        df_logic['Parcel'].append(roi)\n",
    "        df_logic['Accuracy'].append(logic_ccgp[roi])\n",
    "        \n",
    "df_logic = pd.DataFrame(df_logic)\n",
    "\n",
    "plt.figure(figsize=(1.3,2.1))\n",
    "sns.stripplot(x=\"Decoding\",y=\"Accuracy\",data=df_logic,dodge=True,size=3,palette=\"Set2\",zorder=0)\n",
    "ax = sns.boxplot(x=\"Decoding\",y=\"Accuracy\",data=df_logic,sym='',whis=[2.5,97.5],palette=\"Set2\",linewidth=1.0) #,order=hierarchy_ind,palette=networkpalette)\n",
    "plt.xticks(rotation=25,fontsize=8)\n",
    "# plt.xlabel('Network',fontsize=10);\n",
    "plt.xlabel(None,fontsize=9)\n",
    "plt.ylabel('Accuracy',fontsize=9);\n",
    "plt.yticks(fontsize=8)\n",
    "# plt.ylim([-0.55,1.2])\n",
    "# plt.title('',fontsize=10)\n",
    "# plt.title('Representational\\nsegregation', fontsize=10);\n",
    "plt.legend()\n",
    "handles, labels = ax.get_legend_handles_labels()\n",
    "l = plt.legend(handles[:2], labels[:2], loc=3, borderaxespad=0.2, prop={'size': 6})\n",
    "plt.tight_layout()\n",
    "sns.despine()\n",
    "\n",
    "# Run statistical analyses\n",
    "# t_dec, p_dec = stats.ttest_1samp(logic_dec,0.25,axis=1)\n",
    "# q_dec = mc.fdrcorrection(p_dec)[1]\n",
    "# t_ccgp, p_ccgp = stats.ttest_1samp(logic_ccgp,0.25,axis=1)\n",
    "# q_ccgp = mc.fdrcorrection(p_ccgp)[1]\n",
    "\n",
    "# Map to surface significant effects for decoding and ccgp\n",
    "sig_effects = np.zeros((nParcels,2))\n",
    "sig_effects[:,0] = logic_dec #np.multiply(np.mean(logic_dec,axis=1),q_dec<0.05)\n",
    "sig_effects[:,1] = logic_ccgp #np.multiply(np.mean(logic_ccgp,axis=1),q_ccgp<0.05)\n",
    "\n",
    "outfilename = decoding_dir + 'GroupSurface_' + rule + '_' + classifier + norm\n",
    "mapBackToSurface(sig_effects,outfilename)"
   ]
  },
  {
   "cell_type": "markdown",
   "metadata": {},
   "source": [
    "# Sensory rule decoding and CCGP"
   ]
  },
  {
   "cell_type": "code",
   "execution_count": 11,
   "metadata": {},
   "outputs": [
    {
     "name": "stderr",
     "output_type": "stream",
     "text": [
      "No handles with labels found to put in legend.\n"
     ]
    },
    {
     "data": {
      "image/png": "[encoded data removed]",
      "text/plain": [
       "<Figure size 93.6x151.2 with 1 Axes>"
      ]
     },
     "metadata": {
      "needs_background": "light"
     },
     "output_type": "display_data"
    }
   ],
   "source": [
    "decoding_dir = resultdir + 'DecodingAnalyses/'\n",
    "classifier = 'distance'\n",
    "rule = 'Sensory'\n",
    "norm = ''\n",
    "sensory_dec = np.loadtxt(decoding_dir + 'Group' + rule + 'Decoding_' + classifier + norm + '.csv')\n",
    "sensory_ccgp = np.loadtxt(decoding_dir + 'Group' + rule + 'CCGP_' + classifier + norm + '.csv')\n",
    "\n",
    "# Plot bar plot and statistical testing\n",
    "df_sensory = {}\n",
    "df_sensory['Classifier'] = []\n",
    "df_sensory['Decoding'] = []\n",
    "df_sensory['Parcel'] = []\n",
    "df_sensory['Accuracy'] = []\n",
    "for roi in range(nParcels): \n",
    "    for subj in range(len(subjNums)):\n",
    "        df_sensory['Classifier'].append(classifier)\n",
    "        df_sensory['Decoding'].append('Standard')\n",
    "        df_sensory['Parcel'].append(roi)\n",
    "        df_sensory['Accuracy'].append(sensory_dec[roi])\n",
    "        #\n",
    "        df_sensory['Classifier'].append(classifier)\n",
    "        df_sensory['Decoding'].append('CCGP')\n",
    "        df_sensory['Parcel'].append(roi)\n",
    "        df_sensory['Accuracy'].append(sensory_ccgp[roi])\n",
    "        \n",
    "df_sensory = pd.DataFrame(df_sensory)\n",
    "\n",
    "plt.figure(figsize=(1.3,2.1))\n",
    "sns.stripplot(x=\"Decoding\",y=\"Accuracy\",data=df_sensory,dodge=True,size=3,palette=\"Set2\",zorder=0)\n",
    "ax = sns.boxplot(x=\"Decoding\",y=\"Accuracy\",data=df_sensory,sym='',whis=[2.5,97.5],palette=\"Set2\",linewidth=1.0) #,order=hierarchy_ind,palette=networkpalette)\n",
    "plt.xticks(rotation=25,fontsize=8)\n",
    "# plt.xlabel('Network',fontsize=10);\n",
    "plt.xlabel(None,fontsize=9)\n",
    "plt.ylabel('Accuracy',fontsize=9);\n",
    "plt.yticks(fontsize=8)\n",
    "# plt.ylim([-0.55,1.2])\n",
    "# plt.title('',fontsize=10)\n",
    "# plt.title('Representational\\nsegregation', fontsize=10);\n",
    "plt.legend()\n",
    "handles, labels = ax.get_legend_handles_labels()\n",
    "l = plt.legend(handles[:2], labels[:2], loc=3, borderaxespad=0.2, prop={'size': 6})\n",
    "plt.tight_layout()\n",
    "sns.despine()\n",
    "\n",
    "# # Run statistical analyses\n",
    "# t_dec, p_dec = stats.ttest_1samp(sensory_dec,0.25,axis=1)\n",
    "# q_dec = mc.fdrcorrection(p_dec)[1]\n",
    "# t_ccgp, p_ccgp = stats.ttest_1samp(sensory_ccgp,0.25,axis=1)\n",
    "# q_ccgp = mc.fdrcorrection(p_ccgp)[1]\n",
    "\n",
    "# Map to surface significant effects for decoding and ccgp\n",
    "sig_effects = np.zeros((nParcels,2))\n",
    "sig_effects[:,0] = sensory_dec #np.multiply(np.mean(sensory_dec,axis=1),q_dec<0.05)\n",
    "sig_effects[:,1] = sensory_ccgp #np.multiply(np.mean(sensory_ccgp,axis=1),q_ccgp<0.05)\n",
    "\n",
    "outfilename = decoding_dir + 'GroupSurface_' + rule + '_' + classifier + norm\n",
    "mapBackToSurface(sig_effects,outfilename)"
   ]
  },
  {
   "cell_type": "markdown",
   "metadata": {},
   "source": [
    "# GROUP Motor rule decoding and CCGP"
   ]
  },
  {
   "cell_type": "code",
   "execution_count": 14,
   "metadata": {},
   "outputs": [
    {
     "name": "stderr",
     "output_type": "stream",
     "text": [
      "No handles with labels found to put in legend.\n"
     ]
    },
    {
     "data": {
      "image/png": "[encoded data removed]",
      "text/plain": [
       "<Figure size 93.6x151.2 with 1 Axes>"
      ]
     },
     "metadata": {
      "needs_background": "light"
     },
     "output_type": "display_data"
    }
   ],
   "source": [
    "decoding_dir = resultdir + 'DecodingAnalyses/'\n",
    "classifier = 'svm'\n",
    "rule = 'Motor'\n",
    "norm = ''\n",
    "motor_dec = np.loadtxt(decoding_dir + 'Group' + rule + 'Decoding_' + classifier + norm + '.csv')\n",
    "motor_ccgp = np.loadtxt(decoding_dir + 'Group' + rule + 'CCGP_' + classifier + norm + '.csv')\n",
    "\n",
    "# Plot bar plot and statistical testing\n",
    "df_motor = {}\n",
    "df_motor['Classifier'] = []\n",
    "df_motor['Decoding'] = []\n",
    "df_motor['Parcel'] = []\n",
    "df_motor['Accuracy'] = []\n",
    "for roi in range(nParcels): \n",
    "    df_motor['Classifier'].append(classifier)\n",
    "    df_motor['Decoding'].append('Standard')\n",
    "    df_motor['Parcel'].append(roi)\n",
    "    df_motor['Accuracy'].append(motor_dec[roi])\n",
    "    #\n",
    "    df_motor['Classifier'].append(classifier)\n",
    "    df_motor['Decoding'].append('CCGP')\n",
    "    df_motor['Parcel'].append(roi)\n",
    "    df_motor['Accuracy'].append(motor_ccgp[roi])\n",
    "        \n",
    "df_motor = pd.DataFrame(df_motor)\n",
    "\n",
    "plt.figure(figsize=(1.3,2.1))\n",
    "sns.stripplot(x=\"Decoding\",y=\"Accuracy\",data=df_motor,dodge=True,size=3,palette=\"Set2\",zorder=0)\n",
    "ax = sns.boxplot(x=\"Decoding\",y=\"Accuracy\",data=df_motor,sym='',whis=[2.5,97.5],palette=\"Set2\",linewidth=1.0) #,order=hierarchy_ind,palette=networkpalette)\n",
    "plt.xticks(rotation=25,fontsize=8)\n",
    "# plt.xlabel('Network',fontsize=10);\n",
    "plt.xlabel(None,fontsize=9)\n",
    "plt.ylabel('Accuracy',fontsize=9);\n",
    "plt.yticks(fontsize=8)\n",
    "# plt.ylim([-0.55,1.2])\n",
    "# plt.title('',fontsize=10)\n",
    "# plt.title('Representational\\nsegregation', fontsize=10);\n",
    "plt.legend()\n",
    "handles, labels = ax.get_legend_handles_labels()\n",
    "l = plt.legend(handles[:2], labels[:2], loc=3, borderaxespad=0.2, prop={'size': 6})\n",
    "plt.tight_layout()\n",
    "sns.despine()\n",
    "\n",
    "# Run statistical analyses\n",
    "# t_dec, p_dec = stats.ttest_1samp(motor_dec,0.25,axis=1)\n",
    "# q_dec = mc.fdrcorrection(p_dec)[1]\n",
    "# t_ccgp, p_ccgp = stats.ttest_1samp(motor_ccgp,0.25,axis=1)\n",
    "# q_ccgp = mc.fdrcorrection(p_ccgp)[1]\n",
    "\n",
    "# Map to surface significant effects for decoding and ccgp\n",
    "sig_effects = np.zeros((nParcels,2))\n",
    "sig_effects[:,0] = motor_dec #np.multiply(np.mean(motor_dec,axis=1),q_dec<.05)\n",
    "sig_effects[:,1] = motor_ccgp #np.multiply(np.mean(motor_ccgp,axis=1),q_ccgp<.05)\n",
    "\n",
    "outfilename = decoding_dir + 'GroupSurface_' + rule + '_' + classifier + norm\n",
    "mapBackToSurface(sig_effects,outfilename)"
   ]
  },
  {
   "cell_type": "code",
   "execution_count": null,
   "metadata": {},
   "outputs": [],
   "source": []
  }
 ],
 "metadata": {
  "kernelspec": {
   "display_name": "Python 3",
   "language": "python",
   "name": "python3"
  },
  "language_info": {
   "codemirror_mode": {
    "name": "ipython",
    "version": 3
   },
   "file_extension": ".py",
   "mimetype": "text/x-python",
   "name": "python",
   "nbconvert_exporter": "python",
   "pygments_lexer": "ipython3",
   "version": "3.7.6"
  }
 },
 "nbformat": 4,
 "nbformat_minor": 4
}
