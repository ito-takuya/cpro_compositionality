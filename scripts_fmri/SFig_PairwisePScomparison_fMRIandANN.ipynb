{
 "cells": [
  {
   "cell_type": "markdown",
   "id": "454c98ea-4cc2-45e8-b8e2-ba674ad85fae",
   "metadata": {},
   "source": [
    "# Code generated from experiment 11 (ANN) and fMRI data"
   ]
  },
  {
   "cell_type": "code",
   "execution_count": 3,
   "id": "273a3953-b10a-4d19-8485-782ec6f7c7e7",
   "metadata": {},
   "outputs": [],
   "source": [
    "import numpy as np\n",
    "import torch\n",
    "import scipy.stats as stats\n",
    "import matplotlib.pyplot as plt\n",
    "import seaborn as sns\n",
    "%matplotlib inline\n",
    "from importlib import reload\n",
    "import tools\n",
    "import pandas as pd\n",
    "plt.rcParams['font.sans-serif'] = \"Arial\"\n",
    "import h5py\n",
    "import nibabel as nib"
   ]
  },
  {
   "cell_type": "code",
   "execution_count": 7,
   "id": "33a08f01-76e0-4c7d-9748-2c1e8dad47f9",
   "metadata": {},
   "outputs": [],
   "source": [
    "datadir = '../../data/model_results/experiment10/'\n",
    "datadir11 = '../../data/model_results/experiment11/'\n",
    "\n",
    "# figuredir = '../figures/manuscriptFigures_v2/SFig_ReversedPretraining/'\n",
    "figuredir = '../manuscripts/neurips2022/figures/SFig_PairwisePS_Analysis_ANNxFMRI/'\n",
    "\n",
    "\n",
    "palette = sns.color_palette(\"Set2\")\n"
   ]
  },
  {
   "cell_type": "markdown",
   "id": "e6a11898-f618-48d7-bcbd-4c7b1dd8339a",
   "metadata": {},
   "source": [
    "# Visualize PS matrices for each hidden layer"
   ]
  },
  {
   "cell_type": "code",
   "execution_count": 5,
   "id": "af1a4b37-e212-46ab-8a6e-6d30c12fad85",
   "metadata": {},
   "outputs": [],
   "source": [
    "simstart = 0 \n",
    "simend = 40\n",
    "\n",
    "ps_logic_mat = np.zeros((4,4,3,40)) # rules x rules, layers, sims\n",
    "ps_sensory_mat = np.zeros((4,4,3,40)) # rules x rules, layers, sims\n",
    "ps_motor_mat = np.zeros((4,4,3,40)) # rules x rules, layers, sims\n",
    "for i in range(simstart+1,simend):\n",
    "    ####\n",
    "    # 2 layers\n",
    "    #\n",
    "    h5f = h5py.File('../../data/model_results/experiment11/expt10_adam_zeroshot_3layers_pretraining_2rulepretraining_simData' + str(i) + 'psMatrices.h5','r')\n",
    "    ps_logic_mat[:,:,:,i] = h5f['logic'][:].copy()\n",
    "    ps_sensory_mat[:,:,:,i] = h5f['sensory'][:].copy()\n",
    "    ps_motor_mat[:,:,:,i] = h5f['motor'][:].copy()\n",
    "    logic_classes = pd.read_csv('../../data/model_results/experiment11/PS_ClassLabels_Logic.txt').values[:,1]\n",
    "    sensory_classes = pd.read_csv('../../data/model_results/experiment11/PS_ClassLabels_Sensory.txt').values[:,1]\n",
    "    motor_classes = pd.read_csv('../../data/model_results/experiment11/PS_ClassLabels_Motor.txt').values[:,1]\n",
    "    h5f.close()\n",
    "\n",
    "ps_logic_mat_avg = np.mean(ps_logic_mat,axis=3)\n",
    "ps_sensory_mat_avg = np.mean(ps_sensory_mat,axis=3)\n",
    "ps_motor_mat_avg = np.mean(ps_motor_mat,axis=3)\n",
    "\n"
   ]
  },
  {
   "cell_type": "code",
   "execution_count": 26,
   "id": "d1015353-42ee-49b6-bc13-b97cb90e0af6",
   "metadata": {},
   "outputs": [
    {
     "data": {
      "image/png": "[encoded data removed]",
      "text/plain": [
       "<Figure size 378x180 with 6 Axes>"
      ]
     },
     "metadata": {
      "needs_background": "light"
     },
     "output_type": "display_data"
    },
    {
     "data": {
      "image/png": "[encoded data removed]",
      "text/plain": [
       "<Figure size 378x180 with 6 Axes>"
      ]
     },
     "metadata": {
      "needs_background": "light"
     },
     "output_type": "display_data"
    },
    {
     "data": {
      "image/png": "[encoded data removed]",
      "text/plain": [
       "<Figure size 378x180 with 6 Axes>"
      ]
     },
     "metadata": {
      "needs_background": "light"
     },
     "output_type": "display_data"
    }
   ],
   "source": [
    "plt.figure(figsize=(5.25,2.5))\n",
    "for layer in range(3):\n",
    "    plt.subplot(int('13' + str(layer+1)))\n",
    "    ax = sns.heatmap(ps_logic_mat_avg[:,:,layer], square=True, cmap='seismic',center=0,vmin=0,vmax=0.1,cbar=True,cbar_kws={'fraction':0.046})\n",
    "    cbar = ax.collections[0].colorbar\n",
    "    # here set the labelsize by 20\n",
    "    cbar.ax.tick_params(labelsize=6)    \n",
    "    ax.invert_yaxis()\n",
    "    plt.xticks(np.arange(.5,4.5),logic_classes,fontsize=8,rotation=-45)\n",
    "    plt.yticks(np.arange(0.5, 4.5),logic_classes,fontsize=8,rotation=0)\n",
    "    plt.title('Logic PS: Layer ' + str(layer+1),fontsize=10)\n",
    "plt.tight_layout()\n",
    "plt.savefig(figuredir + 'ANN_LogicPS.png',dpi=300)\n",
    "    \n",
    "plt.figure(figsize=(5.25,2.5))\n",
    "for layer in range(3):\n",
    "    plt.subplot(int('13' + str(layer+1)))\n",
    "    ax = sns.heatmap(ps_sensory_mat_avg[:,:,layer], square=True, cmap='seismic',center=0,vmin=0,vmax=0.1,cbar=True,cbar_kws={'fraction':0.046})\n",
    "    cbar = ax.collections[0].colorbar\n",
    "    # here set the labelsize by 20\n",
    "    cbar.ax.tick_params(labelsize=6)    \n",
    "    ax.invert_yaxis()\n",
    "    plt.xticks(np.arange(.5,4.5),sensory_classes,fontsize=8,rotation=-45)\n",
    "    plt.yticks(np.arange(0.5, 4.5),sensory_classes,fontsize=8,rotation=0)\n",
    "    plt.title('Sensory PS: Layer ' + str(layer+1),fontsize=10)\n",
    "plt.tight_layout()\n",
    "plt.savefig(figuredir + 'ANN_SensoryPS.png',dpi=300)\n",
    "    \n",
    "plt.figure(figsize=(5.25,2.5))\n",
    "for layer in range(3):\n",
    "    plt.subplot(int('13' + str(layer+1)))\n",
    "    ax = sns.heatmap(ps_motor_mat_avg[:,:,layer], square=True, cmap='seismic',center=0,vmin=0,vmax=0.2,cbar=True,cbar_kws={'fraction':0.046})\n",
    "    cbar = ax.collections[0].colorbar\n",
    "    # here set the labelsize by 20\n",
    "    cbar.ax.tick_params(labelsize=6)    \n",
    "    ax.invert_yaxis()\n",
    "    plt.xticks(np.arange(.5,4.5),motor_classes,fontsize=8,rotation=-45)\n",
    "    plt.yticks(np.arange(0.5, 4.5),motor_classes,fontsize=8,rotation=0)\n",
    "    plt.title('Motor PS: Layer ' + str(layer+1),fontsize=10)\n",
    "plt.tight_layout()\n",
    "plt.savefig(figuredir + 'ANN_MotorPS.png',dpi=300)\n",
    "    "
   ]
  },
  {
   "cell_type": "markdown",
   "id": "b97ce5ab-a33b-446b-ac71-dad0990dc796",
   "metadata": {},
   "source": [
    "# Get correponding matrices for PS in fMRI data"
   ]
  },
  {
   "cell_type": "code",
   "execution_count": 12,
   "id": "5f2e425b-1eed-44be-b4a2-1c8b19f6912b",
   "metadata": {},
   "outputs": [],
   "source": [
    "# Load network\n",
    "# Using final partition\n",
    "networkdef = np.loadtxt('../../data/network_partition.txt')\n",
    "networkorder = np.asarray(sorted(range(len(networkdef)), key=lambda k: networkdef[k]))\n",
    "networkorder.shape = (len(networkorder),1)\n",
    "# network mappings for final partition set\n",
    "networkmappings = {'fpn':7, 'vis1':1, 'vis2':2, 'smn':3, 'aud':8, 'lan':6, 'dan':5, 'con':4, 'dmn':9, \n",
    "                   'pmulti':10, 'none1':11, 'none2':12}\n",
    "networks = networkmappings.keys()\n",
    "\n",
    "n_parcels = 360\n",
    "\n",
    "#\n",
    "h5f = h5py.File('../../data/results/PS_matrices_Logic.h5','r')\n",
    "logicps_mat = h5f['data'][:].copy()\n",
    "h5f.close()\n",
    "logic_classes = pd.read_csv('../../data/results/PS_Logic_ClassLabels.txt').values[:,1]\n",
    "\n",
    "h5f = h5py.File('../../data/results/PS_matrices_Sensory.h5','r')\n",
    "sensoryps_mat = h5f['data'][:].copy()\n",
    "h5f.close()\n",
    "sensory_classes = pd.read_csv('../../data/results/PS_Sensory_ClassLabels.txt').values[:,1]\n",
    "\n",
    "h5f = h5py.File('../../data/results/PS_matrices_Motor.h5','r')\n",
    "motorps_mat = h5f['data'][:].copy()\n",
    "h5f.close()\n",
    "motor_classes = pd.read_csv('../../data/results/PS_Motor_ClassLabels.txt').values[:,1]\n"
   ]
  },
  {
   "cell_type": "code",
   "execution_count": 13,
   "id": "c93203f2-ff87-479a-beb0-d7460b4b2831",
   "metadata": {},
   "outputs": [],
   "source": [
    "associationnets = ['con','dan','lan','fpn','dmn','pmulti','none1','none2']\n",
    "sensorimotornets = ['vis1','vis2','smn','aud']\n",
    "sensorynets = ['vis1','vis2','aud']\n",
    "motornets = ['smn']\n",
    "\n",
    "ruledomains = ['Sensory', 'Logic', 'Motor']\n",
    "\n",
    "sensory_rois = []\n",
    "for net in sensorynets:\n",
    "    sensory_rois.extend(np.where(networkdef==networkmappings[net])[0])\n",
    "\n",
    "association_rois = []\n",
    "for net in associationnets:\n",
    "    association_rois.extend(np.where(networkdef==networkmappings[net])[0])\n",
    "\n",
    "motor_rois = []    \n",
    "for net in motornets:\n",
    "    motor_rois.extend(np.where(networkdef==networkmappings[net])[0])\n",
    "    \n",
    "sensory_rois = np.asarray(sensory_rois)\n",
    "association_rois = np.asarray(association_rois)\n",
    "motor_rois = np.asarray(motor_rois)\n"
   ]
  },
  {
   "cell_type": "code",
   "execution_count": 24,
   "id": "e33f9dcb-258f-49f0-9eae-3c355422522c",
   "metadata": {},
   "outputs": [
    {
     "data": {
      "image/png": "[encoded data removed]",
      "text/plain": [
       "<Figure size 378x180 with 6 Axes>"
      ]
     },
     "metadata": {
      "needs_background": "light"
     },
     "output_type": "display_data"
    },
    {
     "data": {
      "image/png": "[encoded data removed]",
      "text/plain": [
       "<Figure size 378x180 with 6 Axes>"
      ]
     },
     "metadata": {
      "needs_background": "light"
     },
     "output_type": "display_data"
    },
    {
     "data": {
      "image/png": "[encoded data removed]",
      "text/plain": [
       "<Figure size 378x180 with 6 Axes>"
      ]
     },
     "metadata": {
      "needs_background": "light"
     },
     "output_type": "display_data"
    }
   ],
   "source": [
    "layers = [sensory_rois,association_rois,motor_rois]\n",
    "layer_id = ['Sensory', 'Association', 'Motor']\n",
    "motor_ind = np.asarray([0,1,2,3]) # same ordering as in ANN\n",
    "motor_ind.shape = (len(motor_ind),1)\n",
    "motor_classes = ['l_ind','l_mid','r_ind', 'r_mid']\n",
    "\n",
    "sensory_ind = np.asarray([0,3,1,2]) # sensory classes are not the same label ordering as in ANN experiment\n",
    "sensory_ind.shape = (len(sensory_ind),1)\n",
    "sensory_classes = ['constant','high','red','vertical']\n",
    "\n",
    "logic_ind = np.asarray([0,1,2,3])\n",
    "logic_ind.shape = (len(logic_ind),1)\n",
    "logic_classes = np.asarray(['both','either','neither','notboth'])\n",
    "\n",
    "plt.figure(figsize=(5.25,2.5))\n",
    "i = 1\n",
    "for layer in layers:\n",
    "    plt.subplot(int('13' + str(i)))\n",
    "    ax = sns.heatmap(np.mean(logicps_mat[logic_ind,logic_ind.T][:,:,layer],axis=2), square=True, cmap='seismic',vmin=0,vmax=0.6,center=0,cbar=True,cbar_kws={'fraction':0.046})\n",
    "    cbar = ax.collections[0].colorbar\n",
    "    # here set the labelsize by 20\n",
    "    cbar.ax.tick_params(labelsize=6)    \n",
    "    ax.invert_yaxis()\n",
    "    plt.xticks(np.arange(.5,4.5),logic_classes,fontsize=8,rotation=-45)\n",
    "    plt.yticks(np.arange(0.5, 4.5),logic_classes,fontsize=8,rotation=0)\n",
    "    plt.title('Logic PS:\\n' + layer_id[i-1] + ' Cortex',fontsize=10)\n",
    "    i += 1\n",
    "plt.tight_layout()\n",
    "plt.savefig(figuredir + 'fMRI_LogicPS.png',dpi=300)\n",
    "\n",
    "\n",
    "plt.figure(figsize=(5.25,2.5))\n",
    "i = 1\n",
    "for layer in layers:\n",
    "    plt.subplot(int('13' + str(i)))\n",
    "    ax = sns.heatmap(np.mean(sensoryps_mat[sensory_ind,sensory_ind.T][:,:,layer],axis=2), square=True, cmap='seismic',vmin=0,vmax=0.2,center=0,cbar=True,cbar_kws={'fraction':0.046})\n",
    "    cbar = ax.collections[0].colorbar\n",
    "    # here set the labelsize by 20\n",
    "    cbar.ax.tick_params(labelsize=6)    \n",
    "    ax.invert_yaxis()\n",
    "    plt.xticks(np.arange(.5,4.5),sensory_classes,fontsize=8,rotation=-45)\n",
    "    plt.yticks(np.arange(0.5, 4.5),sensory_classes,fontsize=8,rotation=0)\n",
    "    plt.title('Sensory PS:\\n' + layer_id[i-1] + ' Cortex',fontsize=10)\n",
    "    i += 1\n",
    "plt.tight_layout()\n",
    "plt.savefig(figuredir + 'fMRI_SensoryPS.png',dpi=300)\n",
    "\n",
    "plt.figure(figsize=(5.25,2.5))\n",
    "i = 1\n",
    "for layer in layers:\n",
    "    plt.subplot(int('13' + str(i)))\n",
    "    ax = sns.heatmap(np.mean(motorps_mat[motor_ind, motor_ind.T][:,:,layer],axis=2), square=True, cmap='seismic',vmin=0,vmax=1.0,center=0,cbar=True,cbar_kws={'fraction':0.046})\n",
    "    cbar = ax.collections[0].colorbar\n",
    "    # here set the labelsize by 20\n",
    "    cbar.ax.tick_params(labelsize=6)    \n",
    "    ax.invert_yaxis()\n",
    "    plt.xticks(np.arange(.5,4.5),motor_classes,fontsize=8,rotation=-45)\n",
    "    plt.yticks(np.arange(0.5, 4.5),motor_classes,fontsize=8,rotation=0)\n",
    "    plt.title('Motor PS:\\n' + layer_id[i-1] + ' Cortex',fontsize=10)\n",
    "    i += 1\n",
    "plt.tight_layout()\n",
    "plt.savefig(figuredir + 'fMRI_MotorPS.png',dpi=300)\n",
    "\n"
   ]
  }
 ],
 "metadata": {
  "kernelspec": {
   "display_name": "Python 3 (ipykernel)",
   "language": "python",
   "name": "python3"
  },
  "language_info": {
   "codemirror_mode": {
    "name": "ipython",
    "version": 3
   },
   "file_extension": ".py",
   "mimetype": "text/x-python",
   "name": "python",
   "nbconvert_exporter": "python",
   "pygments_lexer": "ipython3",
   "version": "3.7.6"
  }
 },
 "nbformat": 4,
 "nbformat_minor": 5
}
