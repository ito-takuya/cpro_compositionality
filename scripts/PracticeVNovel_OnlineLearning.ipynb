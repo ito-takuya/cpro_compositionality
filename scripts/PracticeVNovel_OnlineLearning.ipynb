{
 "cells": [
  {
   "cell_type": "markdown",
   "metadata": {},
   "source": [
    "# Scratch analysis\n",
    "\n",
    "Compare the RDMs of ANN models trained with interleaved training of all 64 task sets (each batch contains all 64 task sets), versus sequential training of 4 practiced task sets and then 60 novel task sets\n",
    "\n",
    "9/3/2020"
   ]
  },
  {
   "cell_type": "code",
   "execution_count": 4,
   "metadata": {},
   "outputs": [],
   "source": [
    "import numpy as np\n",
    "import torch\n",
    "import scipy.stats as stats\n",
    "import matplotlib.pyplot as plt\n",
    "import seaborn as sns\n",
    "%matplotlib inline\n",
    "import runANNs as run\n",
    "from model import model\n",
    "from model import analysis\n",
    "from model import task\n",
    "from importlib import reload\n",
    "import tools\n",
    "import pandas as pd"
   ]
  },
  {
   "cell_type": "code",
   "execution_count": 5,
   "metadata": {},
   "outputs": [],
   "source": [
    "nsimulations = 20"
   ]
  },
  {
   "cell_type": "markdown",
   "metadata": {},
   "source": [
    "# Train sequential practiced &rarr; novel tasks"
   ]
  },
  {
   "cell_type": "markdown",
   "metadata": {},
   "source": [
    "#### load trials and create 'test sets'"
   ]
  },
  {
   "cell_type": "code",
   "execution_count": 321,
   "metadata": {},
   "outputs": [
    {
     "name": "stdout",
     "output_type": "stream",
     "text": [
      "Loading previously constructed practiced and novel rule sets...\n",
      "loading practiced set\n"
     ]
    },
    {
     "name": "stderr",
     "output_type": "stream",
     "text": [
      "/Users/takuya.ito/Desktop/project/docs/scripts/model/task.py:40: SettingWithCopyWarning: \n",
      "A value is trying to be set on a copy of a slice from a DataFrame\n",
      "\n",
      "See the caveats in the documentation: https://pandas.pydata.org/pandas-docs/stable/user_guide/indexing.html#returning-a-view-versus-a-copy\n",
      "  self.practicedRuleSet.Code[i] = literal_eval(self.practicedRuleSet.Code[i])\n",
      "/Users/takuya.ito/Desktop/project/docs/scripts/model/task.py:42: SettingWithCopyWarning: \n",
      "A value is trying to be set on a copy of a slice from a DataFrame\n",
      "\n",
      "See the caveats in the documentation: https://pandas.pydata.org/pandas-docs/stable/user_guide/indexing.html#returning-a-view-versus-a-copy\n",
      "  self.novelRuleSet.Code[i] = literal_eval(self.novelRuleSet.Code[i])\n",
      "/Users/takuya.ito/Desktop/project/docs/scripts/model/task.py:44: SettingWithCopyWarning: \n",
      "A value is trying to be set on a copy of a slice from a DataFrame\n",
      "\n",
      "See the caveats in the documentation: https://pandas.pydata.org/pandas-docs/stable/user_guide/indexing.html#returning-a-view-versus-a-copy\n",
      "  self.taskRuleSet.Code[i] = literal_eval(self.taskRuleSet.Code[i])\n"
     ]
    }
   ],
   "source": [
    "run = reload(run)\n",
    "model = reload(model)\n",
    "task = reload(task)\n",
    "\n",
    "#### batchfilename\n",
    "datadir = '../../data/'\n",
    "# batchfilename = datadir + 'results/model/TrialBatches_4Prac60Nov_FullStimSets'\n",
    "batchfilename = datadir + 'results/model/Experiment_FullTaskSet'\n",
    "experiment = task.Experiment(NUM_INPUT_ELEMENTS=28,\n",
    "                             NUM_OUTPUT_ELEMENTS=4,\n",
    "                             filename=batchfilename)\n",
    "\n",
    "\n",
    "# print(\"creating practiced batches\")\n",
    "# experiment.createFullTaskSet(condition='practice')\n",
    "# print(\"creating novel batches\")\n",
    "# experiment.createFullTaskSet(condition='novel')\n",
    "# print(\"creating all batches\")\n",
    "# experiment.createFullTaskSet(condition='all')\n",
    "\n",
    "print(\"loading practiced set\")\n",
    "# #### Construct training set for 'practiced' and 'full' task set\n",
    "prac_inputs, prac_targets = experiment.loadFullTask(condition='practice')\n",
    "prac_inputs = prac_inputs.reshape(prac_inputs.shape[0]*prac_inputs.shape[1],prac_inputs.shape[2])\n",
    "prac_targets = prac_targets.reshape(prac_targets.shape[0]*prac_targets.shape[1],prac_targets.shape[2])\n",
    "full_inputs, full_targets = experiment.loadFullTask(condition='all')\n",
    "\n",
    "experiment.practice_input_batches = prac_inputs\n",
    "experiment.practice_output_batches = prac_targets\n",
    "\n",
    "experiment.online_input_batches = full_inputs\n",
    "experiment.online_output_batches = full_targets"
   ]
  },
  {
   "cell_type": "code",
   "execution_count": 286,
   "metadata": {},
   "outputs": [],
   "source": [
    "#########################################\n",
    "#### Construct test set\n",
    "ntrials_per_task = 100\n",
    "#### Construct test set for 'practiced' trials based on task similarity\n",
    "test_prac_inputs, test_prac_targets = task.create_random_trials(experiment.practicedRuleSet,ntrials_per_task,np.random.randint(1000000))\n",
    "test_prac_inputs = torch.from_numpy(test_prac_inputs.T).float()\n",
    "test_prac_targets = torch.from_numpy(test_prac_targets.T).float()\n",
    "\n",
    "#### Now identify overlap with practiced tasks in the novel task set\n",
    "taskSim1Set, taskSim2Set = experiment.taskSimilarity(experiment.practicedRuleSet,experiment.novelRuleSet)\n",
    "\n",
    "# Make even the number of trials for each task set\n",
    "# ntrials1 = int((ntrials*len(trialobj.practicedRuleSet))/len(taskSim1Set))\n",
    "# ntrials2 = int((ntrials*len(trialobj.practicedRuleSet))/len(taskSim2Set))\n",
    "ntrials1 = ntrials\n",
    "ntrials2 = ntrials\n",
    "\n",
    "#### Simulate task sets with 2-rule similarities\n",
    "sim2_inputs, sim2_targets = task.create_random_trials(taskSim2Set,ntrials_per_task,np.random.randint(1000000))\n",
    "sim2_inputs = torch.from_numpy(sim2_inputs.T).float()\n",
    "sim2_targets = torch.from_numpy(sim2_targets.T).float()\n",
    "\n",
    "#### Simulate task sets with 1-rule similarities\n",
    "sim1_inputs, sim1_targets = task.create_random_trials(taskSim1Set,ntrials_per_task,np.random.randint(1000000))\n",
    "sim1_inputs = torch.from_numpy(sim1_inputs.T).float()\n",
    "sim1_targets = torch.from_numpy(sim1_targets.T).float()\n"
   ]
  },
  {
   "cell_type": "code",
   "execution_count": 337,
   "metadata": {},
   "outputs": [
    {
     "name": "stdout",
     "output_type": "stream",
     "text": [
      "Training simulation 0\n",
      "\t Practiced acc = 0.8675\n",
      "\t 2-rule overlap acc = 0.8513888888888889\n",
      "\t 1-rule overlap acc = 0.8504166666666667\n",
      "Training simulation 1\n",
      "\t Practiced acc = 0.81\n",
      "\t 2-rule overlap acc = 0.7838888888888889\n",
      "\t 1-rule overlap acc = 0.7279166666666667\n",
      "Training simulation 2\n",
      "\t Practiced acc = 0.7875\n",
      "\t 2-rule overlap acc = 0.7441666666666666\n",
      "\t 1-rule overlap acc = 0.7566666666666667\n",
      "Training simulation 3\n",
      "\t Practiced acc = 0.705\n",
      "\t 2-rule overlap acc = 0.7702777777777777\n",
      "\t 1-rule overlap acc = 0.7720833333333333\n",
      "Training simulation 4\n",
      "\t Practiced acc = 0.735\n",
      "\t 2-rule overlap acc = 0.7477777777777778\n",
      "\t 1-rule overlap acc = 0.7654166666666666\n",
      "Training simulation 5\n",
      "\t Practiced acc = 0.7125\n",
      "\t 2-rule overlap acc = 0.7505555555555555\n",
      "\t 1-rule overlap acc = 0.7683333333333333\n",
      "Training simulation 6\n",
      "\t Practiced acc = 0.7325\n",
      "\t 2-rule overlap acc = 0.7494444444444445\n",
      "\t 1-rule overlap acc = 0.7183333333333334\n",
      "Training simulation 7\n",
      "\t Practiced acc = 0.805\n",
      "\t 2-rule overlap acc = 0.8341666666666666\n",
      "\t 1-rule overlap acc = 0.85875\n",
      "Training simulation 8\n",
      "\t Practiced acc = 0.855\n",
      "\t 2-rule overlap acc = 0.7802777777777777\n",
      "\t 1-rule overlap acc = 0.7754166666666666\n",
      "Training simulation 9\n",
      "\t Practiced acc = 0.77\n",
      "\t 2-rule overlap acc = 0.7486111111111111\n",
      "\t 1-rule overlap acc = 0.7054166666666667\n",
      "Training simulation 10\n",
      "\t Practiced acc = 0.7175\n",
      "\t 2-rule overlap acc = 0.7766666666666666\n",
      "\t 1-rule overlap acc = 0.74375\n",
      "Training simulation 11\n"
     ]
    },
    {
     "ename": "KeyboardInterrupt",
     "evalue": "",
     "output_type": "error",
     "traceback": [
      "\u001b[0;31m---------------------------------------------------------------------------\u001b[0m",
      "\u001b[0;31mKeyboardInterrupt\u001b[0m                         Traceback (most recent call last)",
      "\u001b[0;32m<ipython-input-337-575d2e746a6d>\u001b[0m in \u001b[0;36m<module>\u001b[0;34m\u001b[0m\n\u001b[1;32m     14\u001b[0m \u001b[0;32mfor\u001b[0m \u001b[0mi\u001b[0m \u001b[0;32min\u001b[0m \u001b[0mrange\u001b[0m\u001b[0;34m(\u001b[0m\u001b[0mnsimulations\u001b[0m\u001b[0;34m)\u001b[0m\u001b[0;34m:\u001b[0m\u001b[0;34m\u001b[0m\u001b[0;34m\u001b[0m\u001b[0m\n\u001b[1;32m     15\u001b[0m     \u001b[0mprint\u001b[0m\u001b[0;34m(\u001b[0m\u001b[0;34m'Training simulation'\u001b[0m\u001b[0;34m,\u001b[0m \u001b[0mi\u001b[0m\u001b[0;34m)\u001b[0m\u001b[0;34m\u001b[0m\u001b[0;34m\u001b[0m\u001b[0m\n\u001b[0;32m---> 16\u001b[0;31m     network_prac2nov, ntrials_viewed = run.runModel(experiment,acc_cutoff=acc_cutoff,learning='online',datadir='../../data/',practice=True,\n\u001b[0m\u001b[1;32m     17\u001b[0m                                                     \u001b[0mnum_hidden\u001b[0m\u001b[0;34m=\u001b[0m\u001b[0mnum_hidden\u001b[0m\u001b[0;34m,\u001b[0m\u001b[0mthresh\u001b[0m\u001b[0;34m=\u001b[0m\u001b[0mthresh\u001b[0m\u001b[0;34m,\u001b[0m\u001b[0mlearning_rate\u001b[0m\u001b[0;34m=\u001b[0m\u001b[0mlearning_rate\u001b[0m\u001b[0;34m,\u001b[0m\u001b[0;34m\u001b[0m\u001b[0;34m\u001b[0m\u001b[0m\n\u001b[1;32m     18\u001b[0m                                                     save_model='ANN_OnlineLearning.pt',verbose=False)\n",
      "\u001b[0;32m~/Desktop/project/docs/scripts/runANNs.py\u001b[0m in \u001b[0;36mrunModel\u001b[0;34m(experiment, datadir, practice, learning, num_hidden, learning_rate, thresh, acc_cutoff, save_csv, save_hiddenrsm_pdf, save_model, verbose)\u001b[0m\n\u001b[1;32m     66\u001b[0m                 \u001b[0;32mfor\u001b[0m \u001b[0mtask\u001b[0m \u001b[0;32min\u001b[0m \u001b[0mrange\u001b[0m\u001b[0;34m(\u001b[0m\u001b[0mn_tasks\u001b[0m\u001b[0;34m)\u001b[0m\u001b[0;34m:\u001b[0m\u001b[0;34m\u001b[0m\u001b[0;34m\u001b[0m\u001b[0m\n\u001b[1;32m     67\u001b[0m                     \u001b[0mstim\u001b[0m \u001b[0;34m=\u001b[0m \u001b[0mnp\u001b[0m\u001b[0;34m.\u001b[0m\u001b[0mrandom\u001b[0m\u001b[0;34m.\u001b[0m\u001b[0mrandint\u001b[0m\u001b[0;34m(\u001b[0m\u001b[0mn_stims\u001b[0m\u001b[0;34m)\u001b[0m \u001b[0;31m# pick a random stimulus set to pair with this task\u001b[0m\u001b[0;34m\u001b[0m\u001b[0;34m\u001b[0m\u001b[0m\n\u001b[0;32m---> 68\u001b[0;31m                     outputs, targets, loss = mod.train(Network,\n\u001b[0m\u001b[1;32m     69\u001b[0m                                                        \u001b[0monline_inputs\u001b[0m\u001b[0;34m[\u001b[0m\u001b[0mtask\u001b[0m\u001b[0;34m,\u001b[0m\u001b[0mstim\u001b[0m\u001b[0;34m,\u001b[0m\u001b[0;34m:\u001b[0m\u001b[0;34m]\u001b[0m\u001b[0;34m,\u001b[0m\u001b[0;34m\u001b[0m\u001b[0;34m\u001b[0m\u001b[0m\n\u001b[1;32m     70\u001b[0m                                                        online_outputs[task,stim,:])\n",
      "\u001b[0;32m~/Desktop/project/docs/scripts/model/model.py\u001b[0m in \u001b[0;36mtrain\u001b[0;34m(network, inputs, targets)\u001b[0m\n\u001b[1;32m    104\u001b[0m     \u001b[0;31m# Backprop and update weights\u001b[0m\u001b[0;34m\u001b[0m\u001b[0;34m\u001b[0m\u001b[0;34m\u001b[0m\u001b[0m\n\u001b[1;32m    105\u001b[0m     \u001b[0mloss\u001b[0m\u001b[0;34m.\u001b[0m\u001b[0mbackward\u001b[0m\u001b[0;34m(\u001b[0m\u001b[0;34m)\u001b[0m\u001b[0;34m\u001b[0m\u001b[0;34m\u001b[0m\u001b[0m\n\u001b[0;32m--> 106\u001b[0;31m     \u001b[0mnetwork\u001b[0m\u001b[0;34m.\u001b[0m\u001b[0moptimizer\u001b[0m\u001b[0;34m.\u001b[0m\u001b[0mstep\u001b[0m\u001b[0;34m(\u001b[0m\u001b[0;34m)\u001b[0m \u001b[0;31m# Update parameters using optimizer\u001b[0m\u001b[0;34m\u001b[0m\u001b[0;34m\u001b[0m\u001b[0m\n\u001b[0m\u001b[1;32m    107\u001b[0m \u001b[0;34m\u001b[0m\u001b[0m\n\u001b[1;32m    108\u001b[0m     \u001b[0;32mreturn\u001b[0m \u001b[0moutputs\u001b[0m\u001b[0;34m,\u001b[0m \u001b[0mtargets\u001b[0m\u001b[0;34m,\u001b[0m \u001b[0mloss\u001b[0m\u001b[0;34m\u001b[0m\u001b[0;34m\u001b[0m\u001b[0m\n",
      "\u001b[0;32m~/opt/anaconda3/lib/python3.8/site-packages/torch/autograd/grad_mode.py\u001b[0m in \u001b[0;36mdecorate_context\u001b[0;34m(*args, **kwargs)\u001b[0m\n\u001b[1;32m     13\u001b[0m         \u001b[0;32mdef\u001b[0m \u001b[0mdecorate_context\u001b[0m\u001b[0;34m(\u001b[0m\u001b[0;34m*\u001b[0m\u001b[0margs\u001b[0m\u001b[0;34m,\u001b[0m \u001b[0;34m**\u001b[0m\u001b[0mkwargs\u001b[0m\u001b[0;34m)\u001b[0m\u001b[0;34m:\u001b[0m\u001b[0;34m\u001b[0m\u001b[0;34m\u001b[0m\u001b[0m\n\u001b[1;32m     14\u001b[0m             \u001b[0;32mwith\u001b[0m \u001b[0mself\u001b[0m\u001b[0;34m:\u001b[0m\u001b[0;34m\u001b[0m\u001b[0;34m\u001b[0m\u001b[0m\n\u001b[0;32m---> 15\u001b[0;31m                 \u001b[0;32mreturn\u001b[0m \u001b[0mfunc\u001b[0m\u001b[0;34m(\u001b[0m\u001b[0;34m*\u001b[0m\u001b[0margs\u001b[0m\u001b[0;34m,\u001b[0m \u001b[0;34m**\u001b[0m\u001b[0mkwargs\u001b[0m\u001b[0;34m)\u001b[0m\u001b[0;34m\u001b[0m\u001b[0;34m\u001b[0m\u001b[0m\n\u001b[0m\u001b[1;32m     16\u001b[0m         \u001b[0;32mreturn\u001b[0m \u001b[0mdecorate_context\u001b[0m\u001b[0;34m\u001b[0m\u001b[0;34m\u001b[0m\u001b[0m\n\u001b[1;32m     17\u001b[0m \u001b[0;34m\u001b[0m\u001b[0m\n",
      "\u001b[0;32m~/opt/anaconda3/lib/python3.8/site-packages/torch/optim/adam.py\u001b[0m in \u001b[0;36mstep\u001b[0;34m(self, closure)\u001b[0m\n\u001b[1;32m     98\u001b[0m                 \u001b[0;31m# Decay the first and second moment running average coefficient\u001b[0m\u001b[0;34m\u001b[0m\u001b[0;34m\u001b[0m\u001b[0;34m\u001b[0m\u001b[0m\n\u001b[1;32m     99\u001b[0m                 \u001b[0mexp_avg\u001b[0m\u001b[0;34m.\u001b[0m\u001b[0mmul_\u001b[0m\u001b[0;34m(\u001b[0m\u001b[0mbeta1\u001b[0m\u001b[0;34m)\u001b[0m\u001b[0;34m.\u001b[0m\u001b[0madd_\u001b[0m\u001b[0;34m(\u001b[0m\u001b[0mgrad\u001b[0m\u001b[0;34m,\u001b[0m \u001b[0malpha\u001b[0m\u001b[0;34m=\u001b[0m\u001b[0;36m1\u001b[0m \u001b[0;34m-\u001b[0m \u001b[0mbeta1\u001b[0m\u001b[0;34m)\u001b[0m\u001b[0;34m\u001b[0m\u001b[0;34m\u001b[0m\u001b[0m\n\u001b[0;32m--> 100\u001b[0;31m                 \u001b[0mexp_avg_sq\u001b[0m\u001b[0;34m.\u001b[0m\u001b[0mmul_\u001b[0m\u001b[0;34m(\u001b[0m\u001b[0mbeta2\u001b[0m\u001b[0;34m)\u001b[0m\u001b[0;34m.\u001b[0m\u001b[0maddcmul_\u001b[0m\u001b[0;34m(\u001b[0m\u001b[0mgrad\u001b[0m\u001b[0;34m,\u001b[0m \u001b[0mgrad\u001b[0m\u001b[0;34m,\u001b[0m \u001b[0mvalue\u001b[0m\u001b[0;34m=\u001b[0m\u001b[0;36m1\u001b[0m \u001b[0;34m-\u001b[0m \u001b[0mbeta2\u001b[0m\u001b[0;34m)\u001b[0m\u001b[0;34m\u001b[0m\u001b[0;34m\u001b[0m\u001b[0m\n\u001b[0m\u001b[1;32m    101\u001b[0m                 \u001b[0;32mif\u001b[0m \u001b[0mamsgrad\u001b[0m\u001b[0;34m:\u001b[0m\u001b[0;34m\u001b[0m\u001b[0;34m\u001b[0m\u001b[0m\n\u001b[1;32m    102\u001b[0m                     \u001b[0;31m# Maintains the maximum of all 2nd moment running avg. till now\u001b[0m\u001b[0;34m\u001b[0m\u001b[0;34m\u001b[0m\u001b[0;34m\u001b[0m\u001b[0m\n",
      "\u001b[0;31mKeyboardInterrupt\u001b[0m: "
     ]
    }
   ],
   "source": [
    "model = reload(model)\n",
    "run = reload(run)\n",
    "\n",
    "nsimulations = 20\n",
    "acc_cutoff = 80.0\n",
    "thresh = 0.8\n",
    "learning_rate = 0.001\n",
    "num_hidden = 1280\n",
    "df = {}\n",
    "df['Accuracy'] = []\n",
    "df['Condition'] = []\n",
    "df['Simulation'] = []\n",
    "#### Run simulation\n",
    "for i in range(nsimulations):\n",
    "    print('Training simulation', i)\n",
    "    network_prac2nov, ntrials_viewed = run.runModel(experiment,acc_cutoff=acc_cutoff,learning='online',datadir='../../data/',practice=True,\n",
    "                                                    num_hidden=num_hidden,thresh=thresh,learning_rate=learning_rate,\n",
    "                                                    save_model='ANN_OnlineLearning.pt',verbose=False)\n",
    "    \n",
    "#     network_prac2nov.thresh = 0.8\n",
    "    \n",
    "    # practice trials\n",
    "    outputs, hidden = network_prac2nov.forward(test_prac_inputs[:,:],noise=True)\n",
    "    acc = np.mean(model.accuracyScore(network_prac2nov,outputs,test_prac_targets[:,:]))\n",
    "    df['Accuracy'].append(acc)\n",
    "    df['Condition'].append('Practiced')\n",
    "    df['Simulation'].append(i)\n",
    "    print('\\t Practiced acc =',acc)\n",
    "    \n",
    "    # 2-rule overlap\n",
    "    outputs, hidden = network_prac2nov.forward(sim2_inputs,noise=True)\n",
    "    acc = np.mean(model.accuracyScore(network_prac2nov,outputs,sim2_targets))\n",
    "    df['Accuracy'].append(acc)\n",
    "    df['Condition'].append('2-rule overlap')\n",
    "    df['Simulation'].append(i)\n",
    "    print('\\t 2-rule overlap acc =',acc)    \n",
    "\n",
    "    # 1-rule overlap\n",
    "    outputs, hidden = network_prac2nov.forward(sim1_inputs,noise=True)\n",
    "    acc = np.mean(model.accuracyScore(network_prac2nov,outputs,sim1_targets))\n",
    "    df['Accuracy'].append(acc)\n",
    "    df['Condition'].append('1-rule overlap')\n",
    "    df['Simulation'].append(i)\n",
    "    print('\\t 1-rule overlap acc =',acc)   "
   ]
  },
  {
   "cell_type": "code",
   "execution_count": 336,
   "metadata": {},
   "outputs": [
    {
     "name": "stdout",
     "output_type": "stream",
     "text": [
      "Practice accuracy: 0.7774\n",
      "2-rule overlap accuracy: 0.7799055555555556\n",
      "1-rule overlap accuracy: 0.7790083333333334\n",
      "Practiced versus 2-rule: stat = 632.5 | p = 0.9615034894569037\n",
      "2-rule versus 1-rule: stat = 625.5 | p = 0.9077787988930528\n"
     ]
    },
    {
     "data": {
      "image/png": "[encoded data removed]",
      "text/plain": [
       "<Figure size 504x360 with 1 Axes>"
      ]
     },
     "metadata": {
      "needs_background": "light"
     },
     "output_type": "display_data"
    }
   ],
   "source": [
    "df = pd.DataFrame(df)\n",
    "prac_acc = df.loc[df['Condition']=='Practiced']\n",
    "rule2_acc = df.loc[df['Condition']=='2-rule overlap']\n",
    "rule1_acc = df.loc[df['Condition']=='1-rule overlap']\n",
    "print('Practice accuracy:', np.mean(prac_acc.Accuracy.values))\n",
    "print('2-rule overlap accuracy:', np.mean(rule2_acc.Accuracy.values))\n",
    "print('1-rule overlap accuracy:', np.mean(rule1_acc.Accuracy.values))\n",
    "t, p = stats.wilcoxon(prac_acc.Accuracy.values,rule2_acc.Accuracy.values)\n",
    "print('Practiced versus 2-rule: stat =', t, '| p =', p)\n",
    "t, p = stats.wilcoxon(rule2_acc.Accuracy.values,rule1_acc.Accuracy.values)\n",
    "print('2-rule versus 1-rule: stat =', t, '| p =', p)\n",
    "\n",
    "\n",
    "plt.figure(figsize=(7,5))\n",
    "plt.title('Practiced v 2-rule v. 1-rule task overlap\\nBehavioral accuracy',fontsize=25)\n",
    "ax = sns.boxplot(x=\"Condition\",y=\"Accuracy\",data=df,\n",
    "           medianprops={'linestyle':'-'},sym='',whis=[2.5,97.5],palette=\"pastel\")\n",
    "ax = sns.stripplot(x=\"Condition\",y=\"Accuracy\",data=df,\n",
    "              dodge=True,palette=\"pastel\")\n",
    "plt.xticks(rotation=-20,fontsize=20)\n",
    "plt.yticks(fontsize=20)\n",
    "plt.ylabel('Accuracy (%)',fontsize=25)\n",
    "plt.xlabel('Condition', fontsize=25)\n",
    "plt.tight_layout()"
   ]
  },
  {
   "cell_type": "markdown",
   "metadata": {},
   "source": [
    "# Train tasks non-sequentially"
   ]
  },
  {
   "cell_type": "code",
   "execution_count": null,
   "metadata": {},
   "outputs": [],
   "source": [
    "run = reload(run)\n",
    "dim_cov_interlve = []\n",
    "dim_corr_interlve = []\n",
    "nbatches_interlve = []\n",
    "nsamples_interlve = []\n",
    "for i in range(nsimulations):\n",
    "    network_interlve, trialobj, tmp1, tmp2 = run.runModel(datadir='../../data/',practice=False,create_new_batches=False,\n",
    "                                                save_model='ANN_AllTaskTraining.pt',verbose=False)\n",
    "    nsamples_interlve.append(tmp1)\n",
    "    nbatches_interlve.append(tmp2)\n",
    "    hidden_interlve_corr, rsm_interlve_corr = analysis.rsa_pracnov(network_interlve,measure='corr')\n",
    "    hidden_interlve_cov, rsm_interlve_cov = analysis.rsa_pracnov(network_interlve,measure='cov')\n",
    "    dim_corr_interlve.append(tools.dimensionality(rsm_interlve_corr))\n",
    "    dim_cov_interlve.append(tools.dimensionality(rsm_interlve_cov))"
   ]
  },
  {
   "cell_type": "markdown",
   "metadata": {},
   "source": [
    "# Visualize RSM for last simulation (correlation-based)"
   ]
  },
  {
   "cell_type": "code",
   "execution_count": null,
   "metadata": {},
   "outputs": [],
   "source": [
    "plt.figure(figsize=(14,14))\n",
    "plt.subplot(121)\n",
    "plt.title('Sequential training RSM',fontsize=28)\n",
    "ax = sns.heatmap(rsm_prac2nov_corr,square=True,center=0,vmin=-0.3,vmax=0.9,cmap='bwr', cbar=True,cbar_kws={'fraction':0.046})\n",
    "plt.xlabel('64 task contexts',fontsize=20)\n",
    "plt.ylabel('64 task contexts',fontsize=20)\n",
    "# plt.xticks(np.arange(0.5, rsm_prac2nov.shape[0]+1), rotation=90,fontsize=14)\n",
    "# plt.yticks(np.arange(0.5, rsm_prac2nov.shape[0]+1), rotation=0, fontsize=14)\n",
    "plt.tight_layout()\n",
    "ax.invert_yaxis()\n",
    "\n",
    "plt.subplot(122)\n",
    "plt.title('Interleaved training RSM',fontsize=28)\n",
    "ax = sns.heatmap(rsm_interlve_corr,square=True,center=0,vmin=-0.3,vmax=0.9,cmap='bwr', cbar=True,cbar_kws={'fraction':0.046})\n",
    "plt.xlabel('64 task contexts',fontsize=20)\n",
    "plt.ylabel('64 task contexts',fontsize=20)\n",
    "# plt.xticks(np.arange(0.5, rsm_prac2nov.shape[0]+1), rotation=90,fontsize=14)\n",
    "# plt.yticks(np.arange(0.5, rsm_prac2nov.shape[0]+1), rotation=0, fontsize=14)\n",
    "plt.tight_layout()\n",
    "ax.invert_yaxis()"
   ]
  },
  {
   "cell_type": "markdown",
   "metadata": {},
   "source": [
    "# Visualize RSM for last simulation (covariance-based)"
   ]
  },
  {
   "cell_type": "code",
   "execution_count": null,
   "metadata": {},
   "outputs": [],
   "source": [
    "analysis = reload(analysis)\n",
    "\n",
    "plt.figure(figsize=(14,14))\n",
    "plt.subplot(121)\n",
    "plt.title('Sequential training RSM',fontsize=28)\n",
    "ax = sns.heatmap(rsm_prac2nov_cov,square=True,center=0,cmap='bwr',vmin=-0.05,vmax=0.2,cbar=True,cbar_kws={'fraction':0.046})\n",
    "plt.xlabel('64 task contexts',fontsize=20)\n",
    "plt.ylabel('64 task contexts',fontsize=20)\n",
    "# plt.xticks(np.arange(0.5, rsm_prac2nov.shape[0]+1), rotation=90,fontsize=14)\n",
    "# plt.yticks(np.arange(0.5, rsm_prac2nov.shape[0]+1), rotation=0, fontsize=14)\n",
    "plt.tight_layout()\n",
    "ax.invert_yaxis()\n",
    "\n",
    "plt.subplot(122)\n",
    "plt.title('Interleaved training RSM',fontsize=28)\n",
    "ax = sns.heatmap(rsm_interlve_cov,square=True,center=0,cmap='bwr',vmin=-0.05,vmax=0.2,cbar=True,cbar_kws={'fraction':0.046})\n",
    "plt.xlabel('64 task contexts',fontsize=20)\n",
    "plt.ylabel('64 task contexts',fontsize=20)\n",
    "# plt.xticks(np.arange(0.5, rsm_prac2nov.shape[0]+1), rotation=90,fontsize=14)\n",
    "# plt.yticks(np.arange(0.5, rsm_prac2nov.shape[0]+1), rotation=0, fontsize=14)\n",
    "plt.tight_layout()\n",
    "ax.invert_yaxis()\n",
    "\n"
   ]
  },
  {
   "cell_type": "markdown",
   "metadata": {},
   "source": [
    "# Compute dimensionality of sequential versus interleaved training RDMs using participation ratio (eigendecomposition of RDM)\n",
    "Participation ratio, as computed by Abbott et al. 2011"
   ]
  },
  {
   "cell_type": "code",
   "execution_count": null,
   "metadata": {},
   "outputs": [],
   "source": [
    "dim_df = {}\n",
    "dim_df['Type'] = []\n",
    "dim_df['Dimensionality'] = []\n",
    "dim_df['Measure'] = []\n",
    "for i in range(nsimulations):\n",
    "\n",
    "    dim_df['Type'].append('Interleaved')\n",
    "    dim_df['Dimensionality'].append(dim_corr_interlve[i])\n",
    "    dim_df['Measure'].append('Correlation')\n",
    "    #\n",
    "    dim_df['Type'].append('Sequential')\n",
    "    dim_df['Dimensionality'].append(dim_corr_prac2nov[i])\n",
    "    dim_df['Measure'].append('Correlation')\n",
    "    #\n",
    "    #\n",
    "    dim_df['Type'].append('Interleaved')\n",
    "    dim_df['Dimensionality'].append(dim_cov_interlve[i])\n",
    "    dim_df['Measure'].append('Covariance')\n",
    "    #\n",
    "    dim_df['Type'].append('Sequential')\n",
    "    dim_df['Dimensionality'].append(dim_cov_prac2nov[i])\n",
    "    dim_df['Measure'].append('Covariance')\n",
    "\n",
    "dim_df = pd.DataFrame(dim_df)\n",
    "sns.boxplot(x=\"Measure\", y=\"Dimensionality\", hue='Type', data=dim_df)\n",
    "plt.title(\"Dimensionality of RSMs\",fontsize=18)\n",
    "plt.xlabel('Training regimen',fontsize=16)\n",
    "plt.ylabel('Dimensionality',fontsize=16)\n"
   ]
  },
  {
   "cell_type": "code",
   "execution_count": null,
   "metadata": {},
   "outputs": [],
   "source": []
  }
 ],
 "metadata": {
  "kernelspec": {
   "display_name": "Python 3",
   "language": "python",
   "name": "python3"
  },
  "language_info": {
   "codemirror_mode": {
    "name": "ipython",
    "version": 3
   },
   "file_extension": ".py",
   "mimetype": "text/x-python",
   "name": "python",
   "nbconvert_exporter": "python",
   "pygments_lexer": "ipython3",
   "version": "3.8.3"
  }
 },
 "nbformat": 4,
 "nbformat_minor": 4
}
